{
 "cells": [
  {
   "cell_type": "code",
   "execution_count": 1,
   "id": "394570fb",
   "metadata": {},
   "outputs": [],
   "source": [
    "import numpy as np \n",
    "import random\n",
    "import re"
   ]
  },
  {
   "cell_type": "code",
   "execution_count": 2,
   "id": "da85be97",
   "metadata": {},
   "outputs": [],
   "source": [
    "def jogador():\n",
    "    \"\"\"\n",
    "    Solicita usaurio entrar nome do jogador, verifica que nõ aingrese numero so carateres alfanumericos\n",
    "    \"\"\"\n",
    "    nome = input('Nome do Jogador: ')\n",
    "    if len(nome)<3:\n",
    "        print(f' Favor ingresar um nome, nome debe conter almenos 3 carater')\n",
    "        return jogador()  \n",
    "    elif nome.isspace():\n",
    "        print(f' Favor ingresar um nome, nome debe conter almenos 3 carater')\n",
    "        return jogador()         \n",
    "    elif nome.isnumeric() :\n",
    "        print(f' Favor ingresar um nome, nome não pode conter carateres numericos')\n",
    "        return jogador()\n",
    "    elif nome.isalpha() :\n",
    "        return nome\n",
    "    else :\n",
    "        print(f' Favor ingresar um nome, nome debe conter almenos 3 carater, nome não pode conter carateres numericos')\n",
    "        return jogador()"
   ]
  },
  {
   "cell_type": "code",
   "execution_count": 6,
   "id": "3b27a7c2",
   "metadata": {},
   "outputs": [],
   "source": [
    "class Dado():\n",
    "    \n",
    "    def __init__(self, dado=None):\n",
    "        self.dado = dado\n",
    "        dado=random.randint(1,6)\n",
    "        return dado\n",
    "        \n",
    "    def lancar():\n",
    "\n",
    "        d = input('Lançar o dado [s]? ')\n",
    "        if d == 's' or d == 'S' or d == 'sim' or d == 'Sim' or d =='SIM':\n",
    "            dado = random.randint(1,6)\n",
    "            return dado\n",
    "        else:\n",
    "            print('Para lançar o dado debe digitar sim')\n",
    "            return Dado.lancar()"
   ]
  },
  {
   "cell_type": "code",
   "execution_count": 5,
   "id": "bcf33b9f",
   "metadata": {},
   "outputs": [],
   "source": [
    "class Tabuleiro():\n",
    "        \n",
    "    def __init__(self, tabuleiro = np.zeros(24)) :\n",
    "        self.tabuleiro = tabuleiro\n",
    "        return tabuleiro\n",
    "    \n",
    "    def iniciar() :\n",
    "        tabuleiro[0]=1\n",
    "        tabuleiro[23]=-1\n",
    "        return tabuleiro    "
   ]
  },
  {
   "cell_type": "code",
   "execution_count": 23,
   "id": "000ed365",
   "metadata": {},
   "outputs": [],
   "source": [
    "class Jogo():\n",
    "\n",
    "    def __init__(self,jogador):\n",
    "        self.jogador = jogador\n",
    "\n",
    "    def iniciar(self,jogador):\n",
    "        self.jogador = jogador\n",
    "        \n",
    "        print(f'{self.jogador}: ')\n",
    "        dadoj = Dado.lancar() \n",
    "        dadoc = random.randint(1,6)\n",
    "        print(f'lançõu {dadoj}')\n",
    "        print(f'cmputador lançou {dadoc}')\n",
    "        \n",
    "        if dadoj > dadoc :\n",
    "            print(f'{self.jogador} inicia o jogo')\n",
    "            começa = jogador\n",
    "            return começa\n",
    "        elif dadoj < dadoc  :\n",
    "            print(f'computador inicia o jogo')\n",
    "            começa = 'omputador'\n",
    "            return começa\n",
    "        else:\n",
    "            print('Empate laçar dados novamante')\n",
    "            return Jogo.iniciar()\n",
    "    \n",
    "    def mover(self,tabuleiro,jogador,dado1=None,dado2=None):\n",
    "        \n",
    "        self.tabuleiro = tabuleiro\n",
    "        self.jogador = jogador\n",
    "        self.dado1 = dado1\n",
    "        self.dado2 = dado2\n",
    "\n",
    "        print(tabuleiro)\n",
    "        \n",
    "        if jogador == começa :\n",
    "        \n",
    "            dado1 = Dado.lancar()\n",
    "            dado2 = Dado.lancar()\n",
    "            \n",
    "            print(f'{jogador} lançou um {dado1} no primeiro dado, e um {dado2} no segundo dado')\n",
    "            for i in range (0,tabuleiro.size()) :\n",
    "                if tabuleiro[i] == 1 :\n",
    "                    if tabuleiro[i+dado1] != 0 :\n",
    "                        print(f'Não é possivel mover a peça da posição')\n",
    "                    elif tabuleiro[i+dado1] == 0 :\n",
    "                            tabuleiro[i] = 0\n",
    "                            tabuleiro[i+dado1] = 1\n",
    "                            print(tabuleiro)\n",
    "                    elif tabuleiro[i+dado2] != 0 :\n",
    "                        print(f'Não é possivel mover a peça da posição')\n",
    "                    elif tabuleiro[i+dado2] == 0 :\n",
    "                            tabuleiro[i] = 0\n",
    "                            tabuleiro[i+dado2] = 1\n",
    "                            print(tabuleiro)\n",
    "                elif tabuleiro[23] == 1:\n",
    "                    gaho = Jogo.fin()\n",
    "                    print(f'{jogador} ganho, {ganho}')\n",
    "        else :   \n",
    "            \n",
    "            dado1 = Dado()\n",
    "            dado2 = Dado()\n",
    "            \n",
    "            print(f'Computador  lançou um {dado1} no primeiro dado, e um {dado2} no segundo dado')\n",
    "            for i in range (0,tabuleiro.size()) :\n",
    "                if tabuleiro[i] == -1 :\n",
    "                    if tabuleiro[i-dado1] != 0 :\n",
    "                        print(f'Não é possivel mover a peça da posição')\n",
    "                    elif tabuleiro[i-dado1] == 0 :\n",
    "                            tabuleiro[i] = 0\n",
    "                            tabuleiro[i-dado1] = -1\n",
    "                            print(tabuleiro)\n",
    "                    elif tabuleiro[i-dado2] != 0 :\n",
    "                        print(f'Não é possivel mover a peça da posição')\n",
    "                    elif tabuleiro[i-dado2] == 0 :\n",
    "                            tabuleiro[i] = 0\n",
    "                            tabuleiro[i-dado2] = -1\n",
    "                            print(tabuleiro)\n",
    "                elif tabuleiro[0] == -1:\n",
    "                    print(Jogo.fin())\n",
    "                                      \n",
    "    def fin():\n",
    "        if tabuleiro[0] == -1 :\n",
    "            fin = 'Computador ganho, a peça chegou primero na ultima pocição'\n",
    "            return fin\n",
    "        elif tabuleiro[23] == 1 :\n",
    "            fin = ' a peça chegou primero na ultima pocição'\n",
    "            return fin                      "
   ]
  },
  {
   "cell_type": "code",
   "execution_count": 27,
   "id": "88ce96ba",
   "metadata": {},
   "outputs": [],
   "source": [
    "def jogar():\n",
    "    player = jogador()\n",
    "    Jogo()\n",
    "    Jogo.iniciar()\n",
    "    Tabuleiro.iniciar()\n",
    "    "
   ]
  },
  {
   "cell_type": "code",
   "execution_count": 28,
   "id": "7553c100",
   "metadata": {},
   "outputs": [
    {
     "name": "stdout",
     "output_type": "stream",
     "text": [
      "Nome do Jogador: Andres\n"
     ]
    },
    {
     "ename": "TypeError",
     "evalue": "__init__() missing 1 required positional argument: 'jogador'",
     "output_type": "error",
     "traceback": [
      "\u001b[1;31m---------------------------------------------------------------------------\u001b[0m",
      "\u001b[1;31mTypeError\u001b[0m                                 Traceback (most recent call last)",
      "\u001b[1;32m<ipython-input-28-a7631dad4bac>\u001b[0m in \u001b[0;36m<module>\u001b[1;34m\u001b[0m\n\u001b[1;32m----> 1\u001b[1;33m \u001b[0mjogar\u001b[0m\u001b[1;33m(\u001b[0m\u001b[1;33m)\u001b[0m\u001b[1;33m\u001b[0m\u001b[1;33m\u001b[0m\u001b[0m\n\u001b[0m",
      "\u001b[1;32m<ipython-input-27-99751735cfa0>\u001b[0m in \u001b[0;36mjogar\u001b[1;34m()\u001b[0m\n\u001b[0;32m      1\u001b[0m \u001b[1;32mdef\u001b[0m \u001b[0mjogar\u001b[0m\u001b[1;33m(\u001b[0m\u001b[1;33m)\u001b[0m\u001b[1;33m:\u001b[0m\u001b[1;33m\u001b[0m\u001b[1;33m\u001b[0m\u001b[0m\n\u001b[0;32m      2\u001b[0m     \u001b[0mplayer\u001b[0m \u001b[1;33m=\u001b[0m \u001b[0mjogador\u001b[0m\u001b[1;33m(\u001b[0m\u001b[1;33m)\u001b[0m\u001b[1;33m\u001b[0m\u001b[1;33m\u001b[0m\u001b[0m\n\u001b[1;32m----> 3\u001b[1;33m     \u001b[0mJogo\u001b[0m\u001b[1;33m(\u001b[0m\u001b[1;33m)\u001b[0m\u001b[1;33m\u001b[0m\u001b[1;33m\u001b[0m\u001b[0m\n\u001b[0m\u001b[0;32m      4\u001b[0m     \u001b[0mJogo\u001b[0m\u001b[1;33m.\u001b[0m\u001b[0miniciar\u001b[0m\u001b[1;33m(\u001b[0m\u001b[1;33m)\u001b[0m\u001b[1;33m\u001b[0m\u001b[1;33m\u001b[0m\u001b[0m\n\u001b[0;32m      5\u001b[0m     \u001b[0mTabuleiro\u001b[0m\u001b[1;33m.\u001b[0m\u001b[0miniciar\u001b[0m\u001b[1;33m(\u001b[0m\u001b[1;33m)\u001b[0m\u001b[1;33m\u001b[0m\u001b[1;33m\u001b[0m\u001b[0m\n",
      "\u001b[1;31mTypeError\u001b[0m: __init__() missing 1 required positional argument: 'jogador'"
     ]
    }
   ],
   "source": [
    "jogar()"
   ]
  },
  {
   "cell_type": "code",
   "execution_count": null,
   "id": "acf374b2",
   "metadata": {},
   "outputs": [],
   "source": []
  }
 ],
 "metadata": {
  "kernelspec": {
   "display_name": "Python 3",
   "language": "python",
   "name": "python3"
  },
  "language_info": {
   "codemirror_mode": {
    "name": "ipython",
    "version": 3
   },
   "file_extension": ".py",
   "mimetype": "text/x-python",
   "name": "python",
   "nbconvert_exporter": "python",
   "pygments_lexer": "ipython3",
   "version": "3.8.8"
  }
 },
 "nbformat": 4,
 "nbformat_minor": 5
}
