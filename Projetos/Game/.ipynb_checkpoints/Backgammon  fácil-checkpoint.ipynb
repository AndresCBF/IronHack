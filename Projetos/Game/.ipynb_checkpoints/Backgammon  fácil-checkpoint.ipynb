{
 "cells": [
  {
   "cell_type": "markdown",
   "id": "4d8b6698",
   "metadata": {},
   "source": [
    "# Importar livreria usadas para o jogo"
   ]
  },
  {
   "cell_type": "code",
   "execution_count": 4,
   "id": "394570fb",
   "metadata": {},
   "outputs": [],
   "source": [
    "import numpy as np \n",
    "import random"
   ]
  },
  {
   "cell_type": "markdown",
   "id": "b4961a49",
   "metadata": {},
   "source": []
  },
  {
   "cell_type": "code",
   "execution_count": 5,
   "id": "da85be97",
   "metadata": {},
   "outputs": [],
   "source": [
    "def jogador():\n",
    "    \"\"\"\n",
    "    Solicita  nome do jogador, verifica que usuario ingresse so letras e um min de 3 carateres \n",
    "    \"\"\"\n",
    "    nome = input('Nome do Jogador: ')\n",
    "    if len(nome)<3:\n",
    "        print(f' Favor ingresar um nome, nome debe conter pelomenos 3 carater')\n",
    "        return jogador()  \n",
    "    elif nome.isspace():\n",
    "        print(f' Favor ingresar um nome, nome debe conter pelomenos 3 carater')\n",
    "        return jogador()         \n",
    "    elif nome.isnumeric() :\n",
    "        print(f' Favor ingresar um nome, nome não pode conter carateres numericos')\n",
    "        return jogador()\n",
    "    elif nome.isalpha() :\n",
    "        return nome\n",
    "    else :\n",
    "        print(f' Favor ingresar um nome, nome debe conter almenos 3 carater, nome não pode conter carateres numericos')\n",
    "        return jogador()"
   ]
  },
  {
   "cell_type": "markdown",
   "id": "72b75a12",
   "metadata": {},
   "source": []
  },
  {
   "cell_type": "code",
   "execution_count": 6,
   "id": "3b27a7c2",
   "metadata": {},
   "outputs": [],
   "source": [
    "class Dado():\n",
    "    \n",
    "    def __init__(self, dado=None):\n",
    "        self.dado = dado\n",
    "        dado=random.randint(1,6)\n",
    "        return dado\n",
    "        \n",
    "    def lancar():\n",
    "\n",
    "        d = input('Lançar o dado [s]? ')\n",
    "        if d == 's' or d == 'S' or d == 'sim' or d == 'Sim' or d =='SIM':\n",
    "            dado = random.randint(1,6)\n",
    "            return dado\n",
    "        else:\n",
    "            print('Para lançar o dado debe digitar sim')\n",
    "            return Dado.lancar()\n",
    "    \n",
    "    def dado():\n",
    "        dado = random.randint(1,6)\n",
    "        return dado"
   ]
  },
  {
   "cell_type": "markdown",
   "id": "e723f2d1",
   "metadata": {},
   "source": []
  },
  {
   "cell_type": "code",
   "execution_count": 7,
   "id": "bcf33b9f",
   "metadata": {},
   "outputs": [],
   "source": [
    "class Tabuleiro():\n",
    "        \n",
    "    def __init__(self, tabuleiro=None) :\n",
    "        self.tabuleiro = tabuleiro\n",
    "    \n",
    "    def iniciar(tabuleiro=np.zeros(24)) :\n",
    "        \n",
    "        tabuleiro[0]=1\n",
    "        tabuleiro[23]=-1\n",
    "        print(tabuleiro)\n",
    "        return tabuleiro    "
   ]
  },
  {
   "cell_type": "markdown",
   "id": "9f263820",
   "metadata": {},
   "source": []
  },
  {
   "cell_type": "code",
   "execution_count": 8,
   "id": "000ed365",
   "metadata": {},
   "outputs": [],
   "source": [
    "class Jogo():\n",
    "\n",
    "    def __init__(self, jogador):\n",
    "        self.jogador = jogador\n",
    "\n",
    "    def iniciar(jogador):\n",
    "        \n",
    "        print(f'{jogador}: ')\n",
    "        dadoj = Dado.lancar() \n",
    "        dadoc = random.randint(1,6)\n",
    "        print(f'{jogador} lançõu um {dadoj}')\n",
    "        print(f'Computador lançou um {dadoc}')\n",
    "        \n",
    "        if dadoj > dadoc :\n",
    "            print(f'{jogador} inicia o jogo')\n",
    "            começa = jogador\n",
    "            return começa\n",
    "        elif dadoj < dadoc  :\n",
    "            print(f'computador inicia o jogo')\n",
    "            começa = 'Computador'\n",
    "            return começa\n",
    "        else:\n",
    "            print('Empate laçar dados novamante')\n",
    "            return Jogo.iniciar(jogador)\n",
    "    \n",
    "    def mover(turno,jogador,tabuleiro):\n",
    "        \n",
    "        dados = [0,0]\n",
    "        \n",
    "        if turno == jogador :\n",
    "                               \n",
    "            for d in range(2) :\n",
    "                \n",
    "                if tabuleiro[23] == 1:\n",
    "                    print(f'{jogador} ganho, peça chego primeiro na ultima pocição')\n",
    "                    return Jogo.fin(tabuleiro)\n",
    "                else :\n",
    "                    dados[d] = Dado.lancar()\n",
    "                    print(f'{jogador} lançou um {dados[d]} no {d+1} dado')\n",
    "                    \n",
    "                    for i in range (0,tabuleiro.size) :\n",
    "                        if i+dados[d] >= tabuleiro.size:\n",
    "                            print (f'Não é possivel mover a peça da posição')\n",
    "                        elif tabuleiro[i] == 1 :\n",
    "                            if i+dados[d] <= tabuleiro.size :\n",
    "                                if tabuleiro[i+dados[d]] == 0 :\n",
    "                                    tabuleiro[i] = 0\n",
    "                                    tabuleiro[i+dados[d]] = 1\n",
    "                                    mov = i+1+dados[d]\n",
    "                                    print(f'{jogador}, movio a peça de posiçaõ {i+1} a posiçaõ {mov}')\n",
    "                                    print(tabuleiro)\n",
    "                                    break\n",
    "                                else :\n",
    "                                    print(f'Não é possivel mover a peça da posição')\n",
    "                            else :\n",
    "                                print(f'Não é possivel mover a peça da posição')  \n",
    "\n",
    "            turno = 'Computador'\n",
    "            jogador = jogador\n",
    "            tabuleiro = tabuleiro\n",
    "            return Jogo.mover(turno,jogador,tabuleiro)\n",
    "            \n",
    "        if turno == 'Computador' :   \n",
    "                \n",
    "            for d in range(2) :\n",
    "                \n",
    "                if tabuleiro[0] == -1:\n",
    "                    print(f'Computador ganho, peça chego primeiro na ultima pocição')\n",
    "                    return Jogo.fin(tabuleiro)\n",
    "               \n",
    "                else : \n",
    "                    dados[d] = Dado.dado()\n",
    "                    print(f'Computador lançou um {dados[d]} no {d+1} dado')\n",
    "                    \n",
    "                    for i in range (0,tabuleiro.size) :\n",
    "                        if tabuleiro[i] == -1 :\n",
    "                            if i-dados[d] >= 0 :\n",
    "                                if tabuleiro[i-dados[d]] == 0 :\n",
    "                                    tabuleiro[i] = 0\n",
    "                                    tabuleiro[i-dados[d]] = -1\n",
    "                                    mov = i+1-dados[d]\n",
    "                                    print(f'Computador, movio a peça de posiçaõ {i+1} a posiçaõ {mov}')\n",
    "                                    print(tabuleiro)\n",
    "                                else :\n",
    "                                    print(f'Não é possivel mover a peça da posição')\n",
    "                            else :\n",
    "                                print(f'Não é possivel mover a peça da posição')  \n",
    "                            \n",
    "            turno = jogador\n",
    "            jogador = jogador\n",
    "            tabuleiro = tabuleiro\n",
    "            return Jogo.mover(turno,jogador,tabuleiro)\n",
    "                                      \n",
    "    def fin(tabuleiro):\n",
    "        if tabuleiro[0] == -1 :\n",
    "            ganador = 'Computador ganho, a peça chegou primero na ultima pocição'\n",
    "            return ganador\n",
    "        elif tabuleiro[23] == 1 :\n",
    "            ganador = f'{jogador} ganho a peça chegou primero na ultima pocição'\n",
    "            return ganador                      "
   ]
  },
  {
   "cell_type": "markdown",
   "id": "5252fd14",
   "metadata": {},
   "source": []
  },
  {
   "cell_type": "code",
   "execution_count": 15,
   "id": "88ce96ba",
   "metadata": {},
   "outputs": [],
   "source": [
    "def jogar():\n",
    "    player = jogador()\n",
    "    começa = Jogo.iniciar(player)\n",
    "    tabuleiro = Tabuleiro.iniciar()\n",
    "    ganador = Jogo.mover(começa,player,tabuleiro)\n",
    "    return ganador"
   ]
  },
  {
   "cell_type": "markdown",
   "id": "80adccf1",
   "metadata": {},
   "source": []
  },
  {
   "cell_type": "code",
   "execution_count": 16,
   "id": "7553c100",
   "metadata": {},
   "outputs": [
    {
     "name": "stdout",
     "output_type": "stream",
     "text": [
      "Nome do Jogador: Andres\n",
      "Andres: \n",
      "Lançar o dado [s]? s\n",
      "Andres lançõu um 3\n",
      "Computador lançou um 2\n",
      "Andres inicia o jogo\n",
      "[ 1. -1.  0.  0.  0.  0.  0.  0.  0.  0.  0.  0.  0.  0.  0.  0.  0.  0.\n",
      "  0.  0.  0.  1.  0. -1.]\n",
      "Lançar o dado [s]? s\n",
      "Andres lançou um 5 no 1 dado\n",
      "Andres, movio a peça de posiçaõ 1 a posiçaõ 6\n",
      "[ 0. -1.  0.  0.  0.  1.  0.  0.  0.  0.  0.  0.  0.  0.  0.  0.  0.  0.\n",
      "  0.  0.  0.  1.  0. -1.]\n",
      "Lançar o dado [s]? s\n",
      "Andres lançou um 5 no 2 dado\n",
      "Andres, movio a peça de posiçaõ 6 a posiçaõ 11\n",
      "[ 0. -1.  0.  0.  0.  0.  0.  0.  0.  0.  1.  0.  0.  0.  0.  0.  0.  0.\n",
      "  0.  0.  0.  1.  0. -1.]\n",
      "Computador lançou um 2 no 1 dado\n",
      "Não é possivel mover a peça da posição\n",
      "Não é possivel mover a peça da posição\n",
      "Computador lançou um 1 no 2 dado\n",
      "Computador, movio a peça de posiçaõ 2 a posiçaõ 1\n",
      "[-1.  0.  0.  0.  0.  0.  0.  0.  0.  0.  1.  0.  0.  0.  0.  0.  0.  0.\n",
      "  0.  0.  0.  1.  0. -1.]\n",
      "Computador, movio a peça de posiçaõ 24 a posiçaõ 23\n",
      "[-1.  0.  0.  0.  0.  0.  0.  0.  0.  0.  1.  0.  0.  0.  0.  0.  0.  0.\n",
      "  0.  0.  0.  1. -1.  0.]\n",
      "Lançar o dado [s]? s\n",
      "Andres lançou um 5 no 1 dado\n",
      "Andres, movio a peça de posiçaõ 11 a posiçaõ 16\n",
      "[-1.  0.  0.  0.  0.  0.  0.  0.  0.  0.  0.  0.  0.  0.  0.  1.  0.  0.\n",
      "  0.  0.  0.  1. -1.  0.]\n",
      "Lançar o dado [s]? s\n",
      "Andres lançou um 4 no 2 dado\n",
      "Andres, movio a peça de posiçaõ 16 a posiçaõ 20\n",
      "[-1.  0.  0.  0.  0.  0.  0.  0.  0.  0.  0.  0.  0.  0.  0.  0.  0.  0.\n",
      "  0.  1.  0.  1. -1.  0.]\n",
      "Computador ganho, peça chego primeiro na ultima pocição\n"
     ]
    },
    {
     "data": {
      "text/plain": [
       "'Computador ganho, a peça chegou primero na ultima pocição'"
      ]
     },
     "execution_count": 16,
     "metadata": {},
     "output_type": "execute_result"
    }
   ],
   "source": [
    "jogar()"
   ]
  },
  {
   "cell_type": "code",
   "execution_count": null,
   "id": "c6d074c5",
   "metadata": {},
   "outputs": [],
   "source": []
  }
 ],
 "metadata": {
  "kernelspec": {
   "display_name": "Python 3",
   "language": "python",
   "name": "python3"
  },
  "language_info": {
   "codemirror_mode": {
    "name": "ipython",
    "version": 3
   },
   "file_extension": ".py",
   "mimetype": "text/x-python",
   "name": "python",
   "nbconvert_exporter": "python",
   "pygments_lexer": "ipython3",
   "version": "3.8.8"
  }
 },
 "nbformat": 4,
 "nbformat_minor": 5
}
