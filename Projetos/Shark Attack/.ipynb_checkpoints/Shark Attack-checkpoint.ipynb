{
 "cells": [
  {
   "cell_type": "markdown",
   "id": "1a56d533",
   "metadata": {},
   "source": [
    "# 1 Import Librerys \n",
    "Pandas and Numpy"
   ]
  },
  {
   "cell_type": "code",
   "execution_count": 1,
   "id": "1f3bdb35",
   "metadata": {},
   "outputs": [],
   "source": [
    "import pandas as pd\n",
    "import numpy as np"
   ]
  },
  {
   "cell_type": "markdown",
   "id": "cac2b5d4",
   "metadata": {},
   "source": [
    "# 2 Read CSV lile\n",
    "Review firsts lines of information, identify separator decoding type   "
   ]
  },
  {
   "cell_type": "code",
   "execution_count": 2,
   "id": "d045ca5f",
   "metadata": {},
   "outputs": [
    {
     "name": "stdout",
     "output_type": "stream",
     "text": [
      "Case Number,Date,Year,Type,Country,Area,Location,Activity,Name,Sex ,Age,Injury,Fatal (Y/N),Time,Species ,Investigator or Source,pdf,href formula,href,Case Number,Case Number,original order,,\r\n",
      "\n",
      "2018.06.25,25-Jun-2018,2018,Boating,USA,California,\"Oceanside, San Diego County\",Paddling,Julie Wolfe,F,57,\"No injury to occupant, outrigger canoe and paddle damaged\",N,18h00,White shark,\"R. Collier, GSAF\",2018.06.25-Wolfe.pdf,http://sharkattackfile.net/spreadsheets/pdf_directory/2018.06.25-Wolfe.pdf,http://sharkattackfile.net/spreadsheets/pdf_directory/2018.06.25-Wolfe.pdf,2018.06.25,2018.06.25,6303,,\r\n",
      "\n",
      "2018.06.18,18-Jun-2018,2018,Unprovoked,USA,Georgia,\"St. Simon Island, Glynn County\",Standing,Adyson McNeely ,F,11,Minor injury to left thigh,N,14h00  -15h00,,\"K.McMurray, TrackingSharks.com\",2018.06.18-McNeely.pdf,http://sharkattackfile.net/spreadsheets/pdf_directory/2018.06.18-McNeely.pdf,http://sharkattackfile.net/spreadsheets/pdf_directory/2018.06.18-McNeely.pdf,2018.06.18,2018.06.18,6302,,\r\n",
      "\n",
      "2018.06.09,09-Jun-2018,2018,Invalid,USA,Hawaii,\"Habush, Oahu\",Surfing,John Denges,M,48,Injury to left lower leg from surfboard skeg,N,07h45,,\"K.McMurray, TrackingSharks.com\",2018.06.09-Denges.pdf,http://sharkattackfile.net/spreadsheets/pdf_directory/2018.06.09-Denges.pdf,http://sharkattackfile.net/spreadsheets/pdf_directory/2018.06.09-Denges.pdf,2018.06.09,2018.06.09,6301,,\r\n",
      "\n",
      "2018.06.08,08-Jun-2018,2018,Unprovoked,AUSTRALIA,New South Wales,Arrawarra Headland,Surfing,male,M,,Minor injury to lower leg,N,,2 m shark,\"B. Myatt, GSAF\",2018.06.08-Arrawarra.pdf,http://sharkattackfile.net/spreadsheets/pdf_directory/2018.06.08-Arrawarra.pdf,http://sharkattackfile.net/spreadsheets/pdf_directory/2018.06.08-Arrawarra.pdf,2018.06.08,2018.06.08,6300,,\r\n",
      "\n"
     ]
    }
   ],
   "source": [
    "file = open('C:/Users/forqu/OneDrive/Documentos/IronHack/Github/Projetos/Shark Attack/Data/attacks.csv', 'rb')\n",
    "file_lines = file.readlines(10000)\n",
    "for i in range(5):\n",
    "    print(file_lines[i].decode('latin-1'))\n",
    "file.close()"
   ]
  },
  {
   "cell_type": "markdown",
   "id": "1271cc00",
   "metadata": {},
   "source": [
    "Read CSV file with Pandas and assigne DataSet information to a variable "
   ]
  },
  {
   "cell_type": "code",
   "execution_count": 3,
   "id": "c360fd70",
   "metadata": {},
   "outputs": [],
   "source": [
    "sharkattack=pd.read_csv('C:/Users/forqu/OneDrive/Documentos/IronHack/Github/Projetos/Shark Attack/Data/attacks.csv', sep = ',', decimal = '.', encoding = 'latin-1')"
   ]
  },
  {
   "cell_type": "markdown",
   "id": "5074cf9b",
   "metadata": {},
   "source": [
    "# 3 Understand DataSet \n",
    "Review information, distribution, quality, quantity of NAs"
   ]
  },
  {
   "cell_type": "code",
   "execution_count": 4,
   "id": "bd648a4e",
   "metadata": {},
   "outputs": [
    {
     "data": {
      "text/html": [
       "<div>\n",
       "<style scoped>\n",
       "    .dataframe tbody tr th:only-of-type {\n",
       "        vertical-align: middle;\n",
       "    }\n",
       "\n",
       "    .dataframe tbody tr th {\n",
       "        vertical-align: top;\n",
       "    }\n",
       "\n",
       "    .dataframe thead th {\n",
       "        text-align: right;\n",
       "    }\n",
       "</style>\n",
       "<table border=\"1\" class=\"dataframe\">\n",
       "  <thead>\n",
       "    <tr style=\"text-align: right;\">\n",
       "      <th></th>\n",
       "      <th>Case Number</th>\n",
       "      <th>Date</th>\n",
       "      <th>Year</th>\n",
       "      <th>Type</th>\n",
       "      <th>Country</th>\n",
       "      <th>Area</th>\n",
       "      <th>Location</th>\n",
       "      <th>Activity</th>\n",
       "      <th>Name</th>\n",
       "      <th>Sex</th>\n",
       "      <th>...</th>\n",
       "      <th>Species</th>\n",
       "      <th>Investigator or Source</th>\n",
       "      <th>pdf</th>\n",
       "      <th>href formula</th>\n",
       "      <th>href</th>\n",
       "      <th>Case Number.1</th>\n",
       "      <th>Case Number.2</th>\n",
       "      <th>original order</th>\n",
       "      <th>Unnamed: 22</th>\n",
       "      <th>Unnamed: 23</th>\n",
       "    </tr>\n",
       "  </thead>\n",
       "  <tbody>\n",
       "    <tr>\n",
       "      <th>0</th>\n",
       "      <td>2018.06.25</td>\n",
       "      <td>25-Jun-2018</td>\n",
       "      <td>2018.0</td>\n",
       "      <td>Boating</td>\n",
       "      <td>USA</td>\n",
       "      <td>California</td>\n",
       "      <td>Oceanside, San Diego County</td>\n",
       "      <td>Paddling</td>\n",
       "      <td>Julie Wolfe</td>\n",
       "      <td>F</td>\n",
       "      <td>...</td>\n",
       "      <td>White shark</td>\n",
       "      <td>R. Collier, GSAF</td>\n",
       "      <td>2018.06.25-Wolfe.pdf</td>\n",
       "      <td>http://sharkattackfile.net/spreadsheets/pdf_di...</td>\n",
       "      <td>http://sharkattackfile.net/spreadsheets/pdf_di...</td>\n",
       "      <td>2018.06.25</td>\n",
       "      <td>2018.06.25</td>\n",
       "      <td>6303.0</td>\n",
       "      <td>NaN</td>\n",
       "      <td>NaN</td>\n",
       "    </tr>\n",
       "    <tr>\n",
       "      <th>1</th>\n",
       "      <td>2018.06.18</td>\n",
       "      <td>18-Jun-2018</td>\n",
       "      <td>2018.0</td>\n",
       "      <td>Unprovoked</td>\n",
       "      <td>USA</td>\n",
       "      <td>Georgia</td>\n",
       "      <td>St. Simon Island, Glynn County</td>\n",
       "      <td>Standing</td>\n",
       "      <td>Adyson McNeely</td>\n",
       "      <td>F</td>\n",
       "      <td>...</td>\n",
       "      <td>NaN</td>\n",
       "      <td>K.McMurray, TrackingSharks.com</td>\n",
       "      <td>2018.06.18-McNeely.pdf</td>\n",
       "      <td>http://sharkattackfile.net/spreadsheets/pdf_di...</td>\n",
       "      <td>http://sharkattackfile.net/spreadsheets/pdf_di...</td>\n",
       "      <td>2018.06.18</td>\n",
       "      <td>2018.06.18</td>\n",
       "      <td>6302.0</td>\n",
       "      <td>NaN</td>\n",
       "      <td>NaN</td>\n",
       "    </tr>\n",
       "    <tr>\n",
       "      <th>2</th>\n",
       "      <td>2018.06.09</td>\n",
       "      <td>09-Jun-2018</td>\n",
       "      <td>2018.0</td>\n",
       "      <td>Invalid</td>\n",
       "      <td>USA</td>\n",
       "      <td>Hawaii</td>\n",
       "      <td>Habush, Oahu</td>\n",
       "      <td>Surfing</td>\n",
       "      <td>John Denges</td>\n",
       "      <td>M</td>\n",
       "      <td>...</td>\n",
       "      <td>NaN</td>\n",
       "      <td>K.McMurray, TrackingSharks.com</td>\n",
       "      <td>2018.06.09-Denges.pdf</td>\n",
       "      <td>http://sharkattackfile.net/spreadsheets/pdf_di...</td>\n",
       "      <td>http://sharkattackfile.net/spreadsheets/pdf_di...</td>\n",
       "      <td>2018.06.09</td>\n",
       "      <td>2018.06.09</td>\n",
       "      <td>6301.0</td>\n",
       "      <td>NaN</td>\n",
       "      <td>NaN</td>\n",
       "    </tr>\n",
       "    <tr>\n",
       "      <th>3</th>\n",
       "      <td>2018.06.08</td>\n",
       "      <td>08-Jun-2018</td>\n",
       "      <td>2018.0</td>\n",
       "      <td>Unprovoked</td>\n",
       "      <td>AUSTRALIA</td>\n",
       "      <td>New South Wales</td>\n",
       "      <td>Arrawarra Headland</td>\n",
       "      <td>Surfing</td>\n",
       "      <td>male</td>\n",
       "      <td>M</td>\n",
       "      <td>...</td>\n",
       "      <td>2 m shark</td>\n",
       "      <td>B. Myatt, GSAF</td>\n",
       "      <td>2018.06.08-Arrawarra.pdf</td>\n",
       "      <td>http://sharkattackfile.net/spreadsheets/pdf_di...</td>\n",
       "      <td>http://sharkattackfile.net/spreadsheets/pdf_di...</td>\n",
       "      <td>2018.06.08</td>\n",
       "      <td>2018.06.08</td>\n",
       "      <td>6300.0</td>\n",
       "      <td>NaN</td>\n",
       "      <td>NaN</td>\n",
       "    </tr>\n",
       "    <tr>\n",
       "      <th>4</th>\n",
       "      <td>2018.06.04</td>\n",
       "      <td>04-Jun-2018</td>\n",
       "      <td>2018.0</td>\n",
       "      <td>Provoked</td>\n",
       "      <td>MEXICO</td>\n",
       "      <td>Colima</td>\n",
       "      <td>La Ticla</td>\n",
       "      <td>Free diving</td>\n",
       "      <td>Gustavo Ramos</td>\n",
       "      <td>M</td>\n",
       "      <td>...</td>\n",
       "      <td>Tiger shark, 3m</td>\n",
       "      <td>A .Kipper</td>\n",
       "      <td>2018.06.04-Ramos.pdf</td>\n",
       "      <td>http://sharkattackfile.net/spreadsheets/pdf_di...</td>\n",
       "      <td>http://sharkattackfile.net/spreadsheets/pdf_di...</td>\n",
       "      <td>2018.06.04</td>\n",
       "      <td>2018.06.04</td>\n",
       "      <td>6299.0</td>\n",
       "      <td>NaN</td>\n",
       "      <td>NaN</td>\n",
       "    </tr>\n",
       "  </tbody>\n",
       "</table>\n",
       "<p>5 rows × 24 columns</p>\n",
       "</div>"
      ],
      "text/plain": [
       "  Case Number         Date    Year        Type    Country             Area  \\\n",
       "0  2018.06.25  25-Jun-2018  2018.0     Boating        USA       California   \n",
       "1  2018.06.18  18-Jun-2018  2018.0  Unprovoked        USA          Georgia   \n",
       "2  2018.06.09  09-Jun-2018  2018.0     Invalid        USA           Hawaii   \n",
       "3  2018.06.08  08-Jun-2018  2018.0  Unprovoked  AUSTRALIA  New South Wales   \n",
       "4  2018.06.04  04-Jun-2018  2018.0    Provoked     MEXICO           Colima   \n",
       "\n",
       "                         Location     Activity             Name Sex   ...  \\\n",
       "0     Oceanside, San Diego County     Paddling      Julie Wolfe    F  ...   \n",
       "1  St. Simon Island, Glynn County     Standing  Adyson McNeely     F  ...   \n",
       "2                    Habush, Oahu      Surfing      John Denges    M  ...   \n",
       "3              Arrawarra Headland      Surfing             male    M  ...   \n",
       "4                        La Ticla  Free diving   Gustavo Ramos     M  ...   \n",
       "\n",
       "          Species           Investigator or Source                       pdf  \\\n",
       "0      White shark                R. Collier, GSAF      2018.06.25-Wolfe.pdf   \n",
       "1              NaN  K.McMurray, TrackingSharks.com    2018.06.18-McNeely.pdf   \n",
       "2              NaN  K.McMurray, TrackingSharks.com     2018.06.09-Denges.pdf   \n",
       "3        2 m shark                  B. Myatt, GSAF  2018.06.08-Arrawarra.pdf   \n",
       "4  Tiger shark, 3m                       A .Kipper      2018.06.04-Ramos.pdf   \n",
       "\n",
       "                                        href formula  \\\n",
       "0  http://sharkattackfile.net/spreadsheets/pdf_di...   \n",
       "1  http://sharkattackfile.net/spreadsheets/pdf_di...   \n",
       "2  http://sharkattackfile.net/spreadsheets/pdf_di...   \n",
       "3  http://sharkattackfile.net/spreadsheets/pdf_di...   \n",
       "4  http://sharkattackfile.net/spreadsheets/pdf_di...   \n",
       "\n",
       "                                                href Case Number.1  \\\n",
       "0  http://sharkattackfile.net/spreadsheets/pdf_di...    2018.06.25   \n",
       "1  http://sharkattackfile.net/spreadsheets/pdf_di...    2018.06.18   \n",
       "2  http://sharkattackfile.net/spreadsheets/pdf_di...    2018.06.09   \n",
       "3  http://sharkattackfile.net/spreadsheets/pdf_di...    2018.06.08   \n",
       "4  http://sharkattackfile.net/spreadsheets/pdf_di...    2018.06.04   \n",
       "\n",
       "  Case Number.2 original order Unnamed: 22 Unnamed: 23  \n",
       "0    2018.06.25         6303.0         NaN         NaN  \n",
       "1    2018.06.18         6302.0         NaN         NaN  \n",
       "2    2018.06.09         6301.0         NaN         NaN  \n",
       "3    2018.06.08         6300.0         NaN         NaN  \n",
       "4    2018.06.04         6299.0         NaN         NaN  \n",
       "\n",
       "[5 rows x 24 columns]"
      ]
     },
     "execution_count": 4,
     "metadata": {},
     "output_type": "execute_result"
    }
   ],
   "source": [
    "sharkattack.head()"
   ]
  },
  {
   "cell_type": "code",
   "execution_count": 5,
   "id": "f352257e",
   "metadata": {},
   "outputs": [
    {
     "data": {
      "text/plain": [
       "(25723, 24)"
      ]
     },
     "execution_count": 5,
     "metadata": {},
     "output_type": "execute_result"
    }
   ],
   "source": [
    "sharkattack.shape"
   ]
  },
  {
   "cell_type": "code",
   "execution_count": 6,
   "id": "f4638c64",
   "metadata": {},
   "outputs": [
    {
     "name": "stdout",
     "output_type": "stream",
     "text": [
      "<class 'pandas.core.frame.DataFrame'>\n",
      "RangeIndex: 25723 entries, 0 to 25722\n",
      "Data columns (total 24 columns):\n",
      " #   Column                  Non-Null Count  Dtype  \n",
      "---  ------                  --------------  -----  \n",
      " 0   Case Number             8702 non-null   object \n",
      " 1   Date                    6302 non-null   object \n",
      " 2   Year                    6300 non-null   float64\n",
      " 3   Type                    6298 non-null   object \n",
      " 4   Country                 6252 non-null   object \n",
      " 5   Area                    5847 non-null   object \n",
      " 6   Location                5762 non-null   object \n",
      " 7   Activity                5758 non-null   object \n",
      " 8   Name                    6092 non-null   object \n",
      " 9   Sex                     5737 non-null   object \n",
      " 10  Age                     3471 non-null   object \n",
      " 11  Injury                  6274 non-null   object \n",
      " 12  Fatal (Y/N)             5763 non-null   object \n",
      " 13  Time                    2948 non-null   object \n",
      " 14  Species                 3464 non-null   object \n",
      " 15  Investigator or Source  6285 non-null   object \n",
      " 16  pdf                     6302 non-null   object \n",
      " 17  href formula            6301 non-null   object \n",
      " 18  href                    6302 non-null   object \n",
      " 19  Case Number.1           6302 non-null   object \n",
      " 20  Case Number.2           6302 non-null   object \n",
      " 21  original order          6309 non-null   float64\n",
      " 22  Unnamed: 22             1 non-null      object \n",
      " 23  Unnamed: 23             2 non-null      object \n",
      "dtypes: float64(2), object(22)\n",
      "memory usage: 4.7+ MB\n"
     ]
    }
   ],
   "source": [
    "sharkattack.info()"
   ]
  },
  {
   "cell_type": "markdown",
   "id": "ea78307a",
   "metadata": {},
   "source": [
    "### Understand NAs distribution\n",
    "understand NAs in % per columns and rows "
   ]
  },
  {
   "cell_type": "code",
   "execution_count": 7,
   "id": "43cef631",
   "metadata": {},
   "outputs": [
    {
     "data": {
      "text/plain": [
       "Case Number               0.66\n",
       "Date                      0.76\n",
       "Year                      0.76\n",
       "Type                      0.76\n",
       "Country                   0.76\n",
       "Area                      0.77\n",
       "Location                  0.78\n",
       "Activity                  0.78\n",
       "Name                      0.76\n",
       "Sex                       0.78\n",
       "Age                       0.87\n",
       "Injury                    0.76\n",
       "Fatal (Y/N)               0.78\n",
       "Time                      0.89\n",
       "Species                   0.87\n",
       "Investigator or Source    0.76\n",
       "pdf                       0.76\n",
       "href formula              0.76\n",
       "href                      0.76\n",
       "Case Number.1             0.76\n",
       "Case Number.2             0.76\n",
       "original order            0.75\n",
       "Unnamed: 22               1.00\n",
       "Unnamed: 23               1.00\n",
       "dtype: float64"
      ]
     },
     "execution_count": 7,
     "metadata": {},
     "output_type": "execute_result"
    }
   ],
   "source": [
    "(sharkattack.isna().sum(axis = 0)/len(sharkattack)).round(2)"
   ]
  },
  {
   "cell_type": "code",
   "execution_count": 8,
   "id": "b1592ec9",
   "metadata": {},
   "outputs": [
    {
     "data": {
      "text/plain": [
       "count    25723.00\n",
       "mean         0.79\n",
       "std          0.36\n",
       "min          0.08\n",
       "25%          0.96\n",
       "50%          1.00\n",
       "75%          1.00\n",
       "max          1.00\n",
       "dtype: float64"
      ]
     },
     "execution_count": 8,
     "metadata": {},
     "output_type": "execute_result"
    }
   ],
   "source": [
    "(sharkattack.isna().sum(axis = 1)/len(sharkattack.columns)).describe().round(2)"
   ]
  },
  {
   "cell_type": "markdown",
   "id": "593e7a2b",
   "metadata": {},
   "source": [
    "This DataSet hav a significantnumbers of NAs, in mean 79% of values eather in rows or columns are Nas  "
   ]
  },
  {
   "cell_type": "markdown",
   "id": "07040b99",
   "metadata": {},
   "source": [
    "# 4 Cleaning DataSet\n",
    "Process NAs in Columns and  Rows"
   ]
  },
  {
   "cell_type": "markdown",
   "id": "4a9401e8",
   "metadata": {},
   "source": [
    "### Review unnamed columns"
   ]
  },
  {
   "cell_type": "code",
   "execution_count": 9,
   "id": "2a0f09c5",
   "metadata": {},
   "outputs": [
    {
     "data": {
      "text/plain": [
       "stopped here    1\n",
       "Name: Unnamed: 22, dtype: int64"
      ]
     },
     "execution_count": 9,
     "metadata": {},
     "output_type": "execute_result"
    }
   ],
   "source": [
    "sharkattack['Unnamed: 22'].value_counts()"
   ]
  },
  {
   "cell_type": "code",
   "execution_count": 10,
   "id": "b02a5c6e",
   "metadata": {},
   "outputs": [
    {
     "data": {
      "text/plain": [
       "Teramo             1\n",
       "change filename    1\n",
       "Name: Unnamed: 23, dtype: int64"
      ]
     },
     "execution_count": 10,
     "metadata": {},
     "output_type": "execute_result"
    }
   ],
   "source": [
    "sharkattack['Unnamed: 23'].value_counts()"
   ]
  },
  {
   "cell_type": "markdown",
   "id": "60ac0c9f",
   "metadata": {},
   "source": [
    "### Drop Unamed columns \n",
    "As unamed columns not have only one row of information and is not usful information "
   ]
  },
  {
   "cell_type": "code",
   "execution_count": 11,
   "id": "0bb68d03",
   "metadata": {},
   "outputs": [],
   "source": [
    "sharkattack = sharkattack.drop(['Unnamed: 22','Unnamed: 23'],  axis=1)"
   ]
  },
  {
   "cell_type": "markdown",
   "id": "48e39595",
   "metadata": {},
   "source": [
    "### Drop Rows \n",
    "Drop Rows with more that 20% of NAs in them  "
   ]
  },
  {
   "cell_type": "code",
   "execution_count": 12,
   "id": "b2601882",
   "metadata": {},
   "outputs": [
    {
     "data": {
      "text/plain": [
       "Case Number                  1\n",
       "Date                         0\n",
       "Year                         2\n",
       "Type                         4\n",
       "Country                     50\n",
       "Area                       455\n",
       "Location                   540\n",
       "Activity                   544\n",
       "Name                       210\n",
       "Sex                        565\n",
       "Age                       2831\n",
       "Injury                      28\n",
       "Fatal (Y/N)                539\n",
       "Time                      3354\n",
       "Species                   2838\n",
       "Investigator or Source      17\n",
       "pdf                          0\n",
       "href formula                 1\n",
       "href                         0\n",
       "Case Number.1                0\n",
       "Case Number.2                0\n",
       "original order               0\n",
       "dtype: int64"
      ]
     },
     "execution_count": 12,
     "metadata": {},
     "output_type": "execute_result"
    }
   ],
   "source": [
    "sharkattack = sharkattack.dropna(axis=0, thresh= int(len(sharkattack.columns) * 0.20))\n",
    "sharkattack.isna().sum() # Count NAs per Column"
   ]
  },
  {
   "cell_type": "code",
   "execution_count": 13,
   "id": "7cf24d3a",
   "metadata": {},
   "outputs": [
    {
     "data": {
      "text/plain": [
       "(6302, 22)"
      ]
     },
     "execution_count": 13,
     "metadata": {},
     "output_type": "execute_result"
    }
   ],
   "source": [
    "sharkattack.shape"
   ]
  },
  {
   "cell_type": "markdown",
   "id": "edb0a974",
   "metadata": {},
   "source": [
    "After proccess the NAs we go form a Large Datasets fill with NAs with 25723 rows and 24 Columns to a cleaner Dataset with 6302 Rows and 22 Columns."
   ]
  },
  {
   "cell_type": "markdown",
   "id": "57343d8b",
   "metadata": {},
   "source": [
    "### Process Column Names\n",
    "Treat spaces, special characters, and standarize Column Names "
   ]
  },
  {
   "cell_type": "code",
   "execution_count": 14,
   "id": "57c423ba",
   "metadata": {},
   "outputs": [
    {
     "data": {
      "text/plain": [
       "Index(['Case Number', 'Date', 'Year', 'Type', 'Country', 'Area', 'Location',\n",
       "       'Activity', 'Name', 'Sex ', 'Age', 'Injury', 'Fatal (Y/N)', 'Time',\n",
       "       'Species ', 'Investigator or Source', 'pdf', 'href formula', 'href',\n",
       "       'Case Number.1', 'Case Number.2', 'original order'],\n",
       "      dtype='object')"
      ]
     },
     "execution_count": 14,
     "metadata": {},
     "output_type": "execute_result"
    }
   ],
   "source": [
    "sharkattack.columns"
   ]
  },
  {
   "cell_type": "code",
   "execution_count": 15,
   "id": "b67c4e62",
   "metadata": {},
   "outputs": [
    {
     "data": {
      "text/plain": [
       "Index(['case_number', 'date', 'year', 'type', 'country', 'area', 'location',\n",
       "       'activity', 'name', 'sex', 'age', 'injury', 'fatal', 'time', 'species',\n",
       "       'investigator_or_source', 'pdf', 'href_formula', 'href',\n",
       "       'case_number_1', 'case_number_2', 'original_order'],\n",
       "      dtype='object')"
      ]
     },
     "execution_count": 15,
     "metadata": {},
     "output_type": "execute_result"
    }
   ],
   "source": [
    "sharkattack.columns = [column.lower().replace(' ', '_').replace('(', '').replace(')', '').replace('.', '_') for column in sharkattack.columns]\n",
    "sharkattack = sharkattack.rename(columns={\"sex_\": \"sex\", \"species_\": \"species\", \"fatal_y/n\" : \"fatal\"})\n",
    "sharkattack.columns"
   ]
  },
  {
   "cell_type": "markdown",
   "id": "7db047e4",
   "metadata": {},
   "source": [
    "### Treat Information \n",
    "We clean the informaion of the rows we intend to use in our analysis, columns \"year\", \"country\", \"sex\", \"age\"  and \"fatal\" "
   ]
  },
  {
   "cell_type": "markdown",
   "id": "dd55bda7",
   "metadata": {},
   "source": [
    "### Treat Information in \"age\" Column\n",
    "we have str contaning numbers and words, we want to have a column with numbers and str as age range. "
   ]
  },
  {
   "cell_type": "code",
   "execution_count": 16,
   "id": "a2a8be2b",
   "metadata": {},
   "outputs": [
    {
     "data": {
      "text/plain": [
       "array(['57', '11', '48', nan, '18', '52', '15', '12', '32', '10', '21',\n",
       "       '34', '30', '60', '33', '29', '54', '41', '37', '56', '19', '25',\n",
       "       '69', '38', '55', '35', '46', '45', '14', '40s', '28', '20', '24',\n",
       "       '26', '49', '22', '7', '31', '17', '40', '13', '42', '3', '8',\n",
       "       '50', '16', '82', '73', '20s', '68', '51', '39', '58', 'Teen',\n",
       "       '47', '61', '65', '36', '66', '43', '60s', '9', '72', '59', '6',\n",
       "       '27', '64', '23', '71', '44', '62', '63', '70', '18 months', '53',\n",
       "       '30s', '50s', 'teen', '77', '74', '28 & 26', '5', '86', '18 or 20',\n",
       "       '12 or 13', '46 & 34', '28, 23 & 30', 'Teens', '36 & 26',\n",
       "       '8 or 10', '84', '\\xa0 ', ' ', '30 or 36', '6½', '21 & ?', '75',\n",
       "       '33 or 37', 'mid-30s', '23 & 20', ' 30', '7      &    31', ' 28',\n",
       "       '20?', \"60's\", '32 & 30', '16 to 18', '87', '67', 'Elderly',\n",
       "       'mid-20s', 'Ca. 33', '74 ', '45 ', '21 or 26', '20 ', '>50',\n",
       "       '18 to 22', 'adult', '9 & 12', '? & 19', '9 months', '25 to 35',\n",
       "       '23 & 26', '1', '(adult)', '33 & 37', '25 or 28',\n",
       "       '37, 67, 35, 27,  ? & 27', '21, 34,24 & 35', '30 & 32', '50 & 30',\n",
       "       '17 & 35', 'X', '\"middle-age\"', '13 or 18', '34 & 19', '33 & 26',\n",
       "       '2 to 3 months', 'MAKE LINE GREEN', ' 43', '81', '\"young\"',\n",
       "       '7 or 8', '78', '17 & 16', 'F', 'Both 11', '9 or 10', 'young',\n",
       "       '36 & 23', '  ', 'A.M.', '?    &   14', '10 or 12', '31 or 33',\n",
       "       '2½', '13 or 14'], dtype=object)"
      ]
     },
     "execution_count": 16,
     "metadata": {},
     "output_type": "execute_result"
    }
   ],
   "source": [
    "sharkattack['age'].unique()"
   ]
  },
  {
   "cell_type": "code",
   "execution_count": 17,
   "id": "4787aa03",
   "metadata": {},
   "outputs": [],
   "source": [
    "def age(value): \n",
    "    \"\"\"\n",
    "    This Funtion take the str value, numeric or not and retur a numeric value or a categorize age range, \n",
    "    We split the str by space and compare each oth the values in the list create to identify a number to returned\n",
    "    if is a not numeric string, treat the information and evaluted if the word and assigned to a especific age range or as unknown    \n",
    "    \n",
    "    Example 1:\n",
    "        Input: \"Ca. 33\"\n",
    "        Return: \"33\"\n",
    "    Example 2:\n",
    "        Input: \"young\"\n",
    "        Return: \"child\"\n",
    "    Example 3:      \n",
    "        Input: \"X\"\n",
    "        Return: \"unknown\"  \n",
    "        \n",
    "    \"\"\"\n",
    "    value = str(value)\n",
    "    list_value = value.split(' ')\n",
    "    for value in list_value :\n",
    "        if value.isnumeric() : \n",
    "            try :\n",
    "                value = int(value)\n",
    "                return value\n",
    "            except ValueError :\n",
    "                value = 'unknown'\n",
    "                return value\n",
    "        elif ~value.isnumeric() : \n",
    "            value = value.lower().replace(' ', '').replace('(','').replace(')','')\n",
    "            if value == 'toddler' or value == 'child' or value == 'teen' or value == 'adult' or value == 'middle-age' or value == 'elderly' :\n",
    "                value = value\n",
    "                return value\n",
    "            elif value == 'teens' :\n",
    "                value = 'teen'\n",
    "                return value\n",
    "            elif value == 'young' :\n",
    "                value = 'child'\n",
    "                return value\n",
    "        else :\n",
    "            value = 'unknown'\n",
    "            return value"
   ]
  },
  {
   "cell_type": "code",
   "execution_count": 18,
   "id": "e2b37d31",
   "metadata": {},
   "outputs": [
    {
     "data": {
      "text/plain": [
       "array([57, 11, 48, None, 18, 52, 15, 12, 32, 10, 21, 34, 30, 60, 33, 29,\n",
       "       54, 41, 37, 56, 19, 25, 69, 38, 55, 35, 46, 45, 14, 28, 20, 24, 26,\n",
       "       49, 22, 7, 31, 17, 40, 13, 42, 3, 8, 50, 16, 82, 73, 68, 51, 39,\n",
       "       58, 'teen', 47, 61, 65, 36, 66, 43, 9, 72, 59, 6, 27, 64, 23, 71,\n",
       "       44, 62, 63, 70, 53, 77, 74, 5, 86, 84, 'unknown', 75, 87, 67,\n",
       "       'elderly', 'adult', 1, 2, 81, 78, 'child'], dtype=object)"
      ]
     },
     "execution_count": 18,
     "metadata": {},
     "output_type": "execute_result"
    }
   ],
   "source": [
    "sharkattack['age']= sharkattack['age'].apply(age)\n",
    "sharkattack['age']. unique()"
   ]
  },
  {
   "cell_type": "code",
   "execution_count": 19,
   "id": "7cbdbda0",
   "metadata": {},
   "outputs": [
    {
     "data": {
      "text/plain": [
       "2866"
      ]
     },
     "execution_count": 19,
     "metadata": {},
     "output_type": "execute_result"
    }
   ],
   "source": [
    "sharkattack['age'].isna().sum()"
   ]
  },
  {
   "cell_type": "markdown",
   "id": "5dcceffd",
   "metadata": {},
   "source": [
    "We have a column with cleaner information, but we have som data as categorical range and not numeric data, so we create a new column \"age_range\" and categorize all the information in the column \"age\" as categorical age range"
   ]
  },
  {
   "cell_type": "code",
   "execution_count": 20,
   "id": "da09efdc",
   "metadata": {},
   "outputs": [],
   "source": [
    "def age_rage(value) :\n",
    "    \"\"\"\n",
    "    This funtion categorize a value in a range of age, \n",
    "    We compare the numeric value to determinated the range of the age, \n",
    "    As the value can contain a categorie, if the value is not numeric return the same values that is the categorie\n",
    "    \n",
    "    Example 1:\n",
    "        Input: \"33\"\n",
    "        Return: \"adult\"\n",
    "        \n",
    "    Example :\n",
    "        Input: \"child\"\n",
    "        Return: \"child\"\n",
    "    \n",
    "    \"\"\"\n",
    "    if type(value) == int :\n",
    "        if value <= 3 :\n",
    "            value = 'toddler'\n",
    "            return value\n",
    "        elif value > 3 and value <= 12 :\n",
    "            value = 'child'\n",
    "            return value\n",
    "        elif value > 12 and value <= 18 :\n",
    "            value = 'teen'\n",
    "            return value\n",
    "        elif value > 18 and value <= 35 :\n",
    "            value = 'adult'\n",
    "            return value\n",
    "        elif value > 35 and value <= 60 :\n",
    "            value = 'middle-age'\n",
    "            return value\n",
    "        elif value > 60 :\n",
    "            value = 'elderly'\n",
    "            return value\n",
    "    else :\n",
    "        value = value\n",
    "        return value"
   ]
  },
  {
   "cell_type": "code",
   "execution_count": 21,
   "id": "01350ee8",
   "metadata": {},
   "outputs": [
    {
     "data": {
      "text/plain": [
       "unknown       2868\n",
       "adult         1517\n",
       "teen           800\n",
       "middle-age     735\n",
       "child          285\n",
       "elderly         89\n",
       "toddler          8\n",
       "Name: age_range, dtype: int64"
      ]
     },
     "execution_count": 21,
     "metadata": {},
     "output_type": "execute_result"
    }
   ],
   "source": [
    "sharkattack['age_range']= sharkattack['age'].apply(age_rage)\n",
    "sharkattack['age_range'] = np.where(sharkattack['age_range'].isna(), 'unknown', sharkattack['age_range'])\n",
    "sharkattack['age_range'].value_counts()"
   ]
  },
  {
   "cell_type": "code",
   "execution_count": 22,
   "id": "1bdbbaa5",
   "metadata": {},
   "outputs": [
    {
     "data": {
      "text/plain": [
       "0"
      ]
     },
     "execution_count": 22,
     "metadata": {},
     "output_type": "execute_result"
    }
   ],
   "source": [
    "sharkattack['age_range'].isna().sum()"
   ]
  },
  {
   "cell_type": "markdown",
   "id": "bee543b6",
   "metadata": {},
   "source": [
    "We have a nwe column name \"age_range\", with are age categories"
   ]
  },
  {
   "cell_type": "markdown",
   "id": "17396c5b",
   "metadata": {},
   "source": [
    "### Treat Information in \"year\" Column\n",
    "we have str contaning numbers and NAs, we want to have a column with only int numbers and a min number of NAs as posible. "
   ]
  },
  {
   "cell_type": "code",
   "execution_count": 23,
   "id": "66adb29a",
   "metadata": {},
   "outputs": [
    {
     "ename": "ValueError",
     "evalue": "invalid literal for int() with base 10: 'Repo'",
     "output_type": "error",
     "traceback": [
      "\u001b[1;31m---------------------------------------------------------------------------\u001b[0m",
      "\u001b[1;31mValueError\u001b[0m                                Traceback (most recent call last)",
      "\u001b[1;32m<ipython-input-23-d14cb6222b7d>\u001b[0m in \u001b[0;36m<module>\u001b[1;34m\u001b[0m\n\u001b[0;32m      1\u001b[0m \u001b[0msharkattack\u001b[0m\u001b[1;33m[\u001b[0m\u001b[1;34m'year'\u001b[0m\u001b[1;33m]\u001b[0m \u001b[1;33m=\u001b[0m \u001b[0mnp\u001b[0m\u001b[1;33m.\u001b[0m\u001b[0mwhere\u001b[0m\u001b[1;33m(\u001b[0m\u001b[0msharkattack\u001b[0m\u001b[1;33m[\u001b[0m\u001b[1;34m'year'\u001b[0m\u001b[1;33m]\u001b[0m\u001b[1;33m.\u001b[0m\u001b[0misna\u001b[0m\u001b[1;33m(\u001b[0m\u001b[1;33m)\u001b[0m\u001b[1;33m,\u001b[0m \u001b[0msharkattack\u001b[0m\u001b[1;33m[\u001b[0m\u001b[1;34m'date'\u001b[0m\u001b[1;33m]\u001b[0m\u001b[1;33m.\u001b[0m\u001b[0mstr\u001b[0m\u001b[1;33m.\u001b[0m\u001b[0mslice\u001b[0m\u001b[1;33m(\u001b[0m\u001b[0mstop\u001b[0m\u001b[1;33m=\u001b[0m\u001b[1;36m4\u001b[0m\u001b[1;33m)\u001b[0m\u001b[1;33m,\u001b[0m \u001b[0msharkattack\u001b[0m\u001b[1;33m[\u001b[0m\u001b[1;34m'year'\u001b[0m\u001b[1;33m]\u001b[0m\u001b[1;33m)\u001b[0m\u001b[1;33m\u001b[0m\u001b[1;33m\u001b[0m\u001b[0m\n\u001b[1;32m----> 2\u001b[1;33m \u001b[0msharkattack\u001b[0m\u001b[1;33m[\u001b[0m\u001b[1;34m'year'\u001b[0m\u001b[1;33m]\u001b[0m \u001b[1;33m=\u001b[0m \u001b[0msharkattack\u001b[0m\u001b[1;33m[\u001b[0m\u001b[1;34m'year'\u001b[0m\u001b[1;33m]\u001b[0m\u001b[1;33m.\u001b[0m\u001b[0mmap\u001b[0m\u001b[1;33m(\u001b[0m\u001b[0mint\u001b[0m\u001b[1;33m)\u001b[0m\u001b[1;33m\u001b[0m\u001b[1;33m\u001b[0m\u001b[0m\n\u001b[0m\u001b[0;32m      3\u001b[0m \u001b[0msharkattack\u001b[0m\u001b[1;33m[\u001b[0m\u001b[1;34m'year'\u001b[0m\u001b[1;33m]\u001b[0m\u001b[1;33m.\u001b[0m\u001b[0munique\u001b[0m\u001b[1;33m(\u001b[0m\u001b[1;33m)\u001b[0m\u001b[1;33m\u001b[0m\u001b[1;33m\u001b[0m\u001b[0m\n",
      "\u001b[1;32m~\\anaconda\\lib\\site-packages\\pandas\\core\\series.py\u001b[0m in \u001b[0;36mmap\u001b[1;34m(self, arg, na_action)\u001b[0m\n\u001b[0;32m   3907\u001b[0m         \u001b[0mdtype\u001b[0m\u001b[1;33m:\u001b[0m \u001b[0mobject\u001b[0m\u001b[1;33m\u001b[0m\u001b[1;33m\u001b[0m\u001b[0m\n\u001b[0;32m   3908\u001b[0m         \"\"\"\n\u001b[1;32m-> 3909\u001b[1;33m         \u001b[0mnew_values\u001b[0m \u001b[1;33m=\u001b[0m \u001b[0msuper\u001b[0m\u001b[1;33m(\u001b[0m\u001b[1;33m)\u001b[0m\u001b[1;33m.\u001b[0m\u001b[0m_map_values\u001b[0m\u001b[1;33m(\u001b[0m\u001b[0marg\u001b[0m\u001b[1;33m,\u001b[0m \u001b[0mna_action\u001b[0m\u001b[1;33m=\u001b[0m\u001b[0mna_action\u001b[0m\u001b[1;33m)\u001b[0m\u001b[1;33m\u001b[0m\u001b[1;33m\u001b[0m\u001b[0m\n\u001b[0m\u001b[0;32m   3910\u001b[0m         return self._constructor(new_values, index=self.index).__finalize__(\n\u001b[0;32m   3911\u001b[0m             \u001b[0mself\u001b[0m\u001b[1;33m,\u001b[0m \u001b[0mmethod\u001b[0m\u001b[1;33m=\u001b[0m\u001b[1;34m\"map\"\u001b[0m\u001b[1;33m\u001b[0m\u001b[1;33m\u001b[0m\u001b[0m\n",
      "\u001b[1;32m~\\anaconda\\lib\\site-packages\\pandas\\core\\base.py\u001b[0m in \u001b[0;36m_map_values\u001b[1;34m(self, mapper, na_action)\u001b[0m\n\u001b[0;32m    935\u001b[0m \u001b[1;33m\u001b[0m\u001b[0m\n\u001b[0;32m    936\u001b[0m         \u001b[1;31m# mapper is a function\u001b[0m\u001b[1;33m\u001b[0m\u001b[1;33m\u001b[0m\u001b[1;33m\u001b[0m\u001b[0m\n\u001b[1;32m--> 937\u001b[1;33m         \u001b[0mnew_values\u001b[0m \u001b[1;33m=\u001b[0m \u001b[0mmap_f\u001b[0m\u001b[1;33m(\u001b[0m\u001b[0mvalues\u001b[0m\u001b[1;33m,\u001b[0m \u001b[0mmapper\u001b[0m\u001b[1;33m)\u001b[0m\u001b[1;33m\u001b[0m\u001b[1;33m\u001b[0m\u001b[0m\n\u001b[0m\u001b[0;32m    938\u001b[0m \u001b[1;33m\u001b[0m\u001b[0m\n\u001b[0;32m    939\u001b[0m         \u001b[1;32mreturn\u001b[0m \u001b[0mnew_values\u001b[0m\u001b[1;33m\u001b[0m\u001b[1;33m\u001b[0m\u001b[0m\n",
      "\u001b[1;32mpandas\\_libs\\lib.pyx\u001b[0m in \u001b[0;36mpandas._libs.lib.map_infer\u001b[1;34m()\u001b[0m\n",
      "\u001b[1;31mValueError\u001b[0m: invalid literal for int() with base 10: 'Repo'"
     ]
    }
   ],
   "source": [
    "sharkattack['year'] = np.where(sharkattack['year'].isna(), sharkattack['date'].str.slice(stop=4), sharkattack['year']) \n",
    "sharkattack['year'] = sharkattack['year'].map(int)\n",
    "sharkattack['year'].unique()"
   ]
  },
  {
   "cell_type": "code",
   "execution_count": null,
   "id": "966619f0",
   "metadata": {},
   "outputs": [],
   "source": [
    "def year(value):\n",
    "    \"\"\"\n",
    "    \n",
    "    \"\"\"  \n",
    "    date_value = str(sharkattack['date'])\n",
    "    Case = str(sharkattack['case_number'])\n",
    "    Case1 = str(sharkattack['case_number_1'])\n",
    "    Case2 = str(sharkattack['case_number_2'])\n",
    "    \n",
    "    strvalue = str(value)\n",
    "    if strvalue == None :\n",
    "        value = int(Case.slice(stop=4))\n",
    "        return value\n",
    "    elif len(strvalue) < 4 : \n",
    "        if date_value.isalpha() :\n",
    "            new_value = date_value\n",
    "            for i in range(0,(len(new_value)-4)):\n",
    "                if new_value[i].isdigit() and new_value[i+1].isdigit() and new_value[i+2].isdigit() and new_value[i+3].isdigit() :\n",
    "                    value = int(new_value[i:i+3])\n",
    "                    return value\n",
    "        elif Case.isalpha() :\n",
    "            new_value = Case\n",
    "            for i in range(0,(len(new_value)-4)):\n",
    "                if new_value[i].isdigit() and new_value[i+1].isdigit() and new_value[i+2].isdigit() and new_value[i+3].isdigit() :\n",
    "                    value = int(new_value[i:i+3])\n",
    "                    return value\n",
    "        elif Case1.isalpha() :\n",
    "            new_value = Case1\n",
    "            for i in range(0,(len(new_value)-4)):\n",
    "                if new_value[i].isdigit() and new_value[i+1].isdigit() and new_value[i+2].isdigit() and new_value[i+3].isdigit() :\n",
    "                    value = int(new_value[i:i+3])\n",
    "                    return value\n",
    "        elif Case2.isalpha() :\n",
    "            new_value = Case2\n",
    "            for i in range(0,(len(new_value)-4)):\n",
    "                if new_value[i].isdigit() and new_value[i+1].isdigit() and new_value[i+2].isdigit() and new_value[i+3].isdigit() :\n",
    "                    value = int(new_value[i:i+3])\n",
    "                    return value\n",
    "    else :\n",
    "        return int(value)"
   ]
  },
  {
   "cell_type": "code",
   "execution_count": null,
   "id": "1abfd9cd",
   "metadata": {},
   "outputs": [],
   "source": [
    "sharkattack['year'] = sharkattack['year'].apply(year)\n",
    "sharkattack['year'].unique()"
   ]
  },
  {
   "cell_type": "code",
   "execution_count": null,
   "id": "3c5ab851",
   "metadata": {},
   "outputs": [],
   "source": [
    "sharkattack[sharkattack['year'] <= 500 ].value_counts()"
   ]
  },
  {
   "cell_type": "code",
   "execution_count": null,
   "id": "7987613c",
   "metadata": {},
   "outputs": [],
   "source": [
    "sharkattack['year'].isna().sum()"
   ]
  },
  {
   "cell_type": "markdown",
   "id": "08d3e14b",
   "metadata": {},
   "source": [
    "we have all the information in this colum as a numbers"
   ]
  },
  {
   "cell_type": "markdown",
   "id": "bca0d851",
   "metadata": {},
   "source": [
    "### Treat Information in \"fatal\" Column\n",
    "The information in the column have values in Upper and Lower cases, some values do not correspond to the values expected in the column, we treat the information to have only 3 categories \"y\", \"n\" and \"unknown\""
   ]
  },
  {
   "cell_type": "code",
   "execution_count": null,
   "id": "a6d1b82d",
   "metadata": {},
   "outputs": [],
   "source": [
    "sharkattack['fatal'].value_counts()"
   ]
  },
  {
   "cell_type": "code",
   "execution_count": null,
   "id": "aa2462da",
   "metadata": {},
   "outputs": [],
   "source": [
    "sharkattack['fatal'] = sharkattack['fatal'].str.replace(' ', '')\n",
    "sharkattack['fatal'] = sharkattack['fatal'].str.replace('2017', 'unknown')\n",
    "sharkattack['fatal'] = sharkattack['fatal'].str.replace(r'[Mm]', 'unknown')\n",
    "sharkattack['fatal'] = sharkattack['fatal'].str.lower()\n",
    "sharkattack['fatal'].value_counts()"
   ]
  },
  {
   "cell_type": "code",
   "execution_count": null,
   "id": "e33c2bf9",
   "metadata": {},
   "outputs": [],
   "source": [
    "sharkattack['fatal'].isna().sum()"
   ]
  },
  {
   "cell_type": "markdown",
   "id": "f3ac3e86",
   "metadata": {},
   "source": [
    "### Treat Information in \"sex\" Column\n",
    "The information in the column have values in Upper and Lower cases, some values do not correspond to the values expected in the column, we treat the information to have only 3 categories \"f\", \"m\" and \"unknown\""
   ]
  },
  {
   "cell_type": "code",
   "execution_count": null,
   "id": "014972a0",
   "metadata": {},
   "outputs": [],
   "source": [
    "sharkattack['sex'].unique()"
   ]
  },
  {
   "cell_type": "code",
   "execution_count": null,
   "id": "92330d76",
   "metadata": {},
   "outputs": [],
   "source": [
    "sharkattack['sex'] = sharkattack['sex'].str.replace(' ', '')\n",
    "sharkattack['sex'] = sharkattack['sex'].str.replace('N', 'unkonwn')\n",
    "sharkattack['sex'] = sharkattack['sex'].str.replace('.', 'unkonwn')\n",
    "sharkattack['sex'] = sharkattack['sex'].str.replace('lli', 'unkonwn')\n",
    "sharkattack['sex'] = sharkattack['sex'].str.lower()\n",
    "sharkattack['sex'].value_counts()"
   ]
  },
  {
   "cell_type": "code",
   "execution_count": null,
   "id": "709c3450",
   "metadata": {},
   "outputs": [],
   "source": [
    "sharkattack['sex'].isna().sum()"
   ]
  },
  {
   "cell_type": "markdown",
   "id": "693a0983",
   "metadata": {},
   "source": [
    "### Treat Information in \"country\" Column\n",
    "Treat country information for special characters, spaces and  transform all in lower cases "
   ]
  },
  {
   "cell_type": "code",
   "execution_count": null,
   "id": "e033ef1c",
   "metadata": {},
   "outputs": [],
   "source": [
    "sharkattack['country'].unique()"
   ]
  },
  {
   "cell_type": "code",
   "execution_count": null,
   "id": "933f2b6d",
   "metadata": {},
   "outputs": [],
   "source": [
    "def country(value) :\n",
    "    \"\"\"\n",
    "    This funtion str value and transform in lower cases, trate the special characters and spaces \n",
    "    \n",
    "    Example:\n",
    "        Input: \"UNITED ARAB EMIRATES (UAE)\"\n",
    "        Return: \"united_arab_emirates_uae\"\n",
    "    \"\"\"\n",
    "    if type(value) != float :\n",
    "        value = str(value)\n",
    "        value = value.lower().replace('/', '&').replace('(','').replace(')','').replace('?','')\n",
    "        list_value = value.split(' ')\n",
    "        for value in list_value :\n",
    "            if value == '' or  value == 'between' or value == 'equatorial' :\n",
    "                list_value.remove(value)\n",
    "        value = '_'.join(list_value)\n",
    "        return value\n",
    "    else :\n",
    "        value = 'unkonwn'\n",
    "        return value"
   ]
  },
  {
   "cell_type": "code",
   "execution_count": null,
   "id": "9790fb06",
   "metadata": {},
   "outputs": [],
   "source": [
    "sharkattack['country'] = sharkattack['country'].apply(country)\n",
    "sharkattack['country'].unique()"
   ]
  },
  {
   "cell_type": "code",
   "execution_count": null,
   "id": "029547f3",
   "metadata": {},
   "outputs": [],
   "source": [
    "sharkattack['country'].isna().sum()"
   ]
  },
  {
   "cell_type": "markdown",
   "id": "efc3a6b0",
   "metadata": {},
   "source": [
    "# 5  Data Analysis \n"
   ]
  },
  {
   "cell_type": "markdown",
   "id": "2ac9de08",
   "metadata": {},
   "source": [
    "We create a new data set only with the columns we already treat the information, that are the columns usfule for owr  analys."
   ]
  },
  {
   "cell_type": "code",
   "execution_count": null,
   "id": "a867ba62",
   "metadata": {},
   "outputs": [],
   "source": [
    "sharkfatal = sharkattack[['country', 'year', 'fatal','age_range', 'sex']]\n",
    "#sharkfatal = sharkfatal[sharkfatal['year'] != 0]\n",
    "sharkfatal"
   ]
  },
  {
   "cell_type": "code",
   "execution_count": null,
   "id": "b19eac3a",
   "metadata": {},
   "outputs": [],
   "source": []
  },
  {
   "cell_type": "code",
   "execution_count": null,
   "id": "46322135",
   "metadata": {},
   "outputs": [],
   "source": [
    "shark_per_country = sharkfatal.groupby('country').agg(\n",
    "    first_year=pd.NamedAgg('year', 'min'),\n",
    "    last_year=pd.NamedAgg('year', 'max'),\n",
    "    attacks=pd.NamedAgg('fatal', 'count')) \n",
    "shark_per_country.sort_values('attacks', ascending=False).T"
   ]
  },
  {
   "cell_type": "code",
   "execution_count": null,
   "id": "b8aa8e32",
   "metadata": {},
   "outputs": [],
   "source": [
    "sharkfatal = pd.DataFrame(sharkfatal)\n",
    "fatalyeargroup = sharkfatal.groupby(['country','year'])['year'].count()\n",
    "fatalyeargroup"
   ]
  },
  {
   "cell_type": "code",
   "execution_count": null,
   "id": "0cdc0b05",
   "metadata": {},
   "outputs": [],
   "source": [
    "fatalyeargroup = pd.DataFrame(fatalyeargroup)\n",
    "fatalyeargroup.sort_values('country', ascending=False)"
   ]
  },
  {
   "cell_type": "markdown",
   "id": "ecca1577",
   "metadata": {},
   "source": [
    "limpar anos (trabalhar anos de 1900 para frente )"
   ]
  },
  {
   "cell_type": "code",
   "execution_count": null,
   "id": "5503ad35",
   "metadata": {},
   "outputs": [],
   "source": []
  },
  {
   "cell_type": "code",
   "execution_count": null,
   "id": "ad9b8a1e",
   "metadata": {},
   "outputs": [],
   "source": [
    "fatalage = sharkfatal.groupby(['fatal','age_range'])['fatal'].count()\n",
    "fatalage"
   ]
  },
  {
   "cell_type": "code",
   "execution_count": null,
   "id": "dac4e8cf",
   "metadata": {},
   "outputs": [],
   "source": [
    "fatalage = pd.DataFrame(fatalage)\n",
    "fatalage.sort_values('age_range')"
   ]
  },
  {
   "cell_type": "code",
   "execution_count": null,
   "id": "66e79069",
   "metadata": {},
   "outputs": [],
   "source": [
    "fatalyearage = sharkfatal.groupby(['fatal','age_range','year'])['fatal'].count()\n",
    "fatalyearage"
   ]
  },
  {
   "cell_type": "code",
   "execution_count": null,
   "id": "46f39707",
   "metadata": {},
   "outputs": [],
   "source": []
  }
 ],
 "metadata": {
  "kernelspec": {
   "display_name": "Python 3",
   "language": "python",
   "name": "python3"
  },
  "language_info": {
   "codemirror_mode": {
    "name": "ipython",
    "version": 3
   },
   "file_extension": ".py",
   "mimetype": "text/x-python",
   "name": "python",
   "nbconvert_exporter": "python",
   "pygments_lexer": "ipython3",
   "version": "3.8.8"
  }
 },
 "nbformat": 4,
 "nbformat_minor": 5
}
