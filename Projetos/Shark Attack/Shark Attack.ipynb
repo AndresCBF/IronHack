{
 "cells": [
  {
   "cell_type": "markdown",
   "id": "1a56d533",
   "metadata": {},
   "source": [
    "# 1 Importar Livrerias \n",
    "### Pandas e Numpy"
   ]
  },
  {
   "cell_type": "code",
   "execution_count": 1,
   "id": "1f3bdb35",
   "metadata": {},
   "outputs": [],
   "source": [
    "import pandas as pd\n",
    "import numpy as np"
   ]
  },
  {
   "cell_type": "markdown",
   "id": "cac2b5d4",
   "metadata": {},
   "source": [
    "# 2 Ler arquivo arquivo CSV\n",
    "### Revisar tipo de separador decodificador nas primeras lineas de informação  "
   ]
  },
  {
   "cell_type": "code",
   "execution_count": 2,
   "id": "d045ca5f",
   "metadata": {},
   "outputs": [
    {
     "name": "stdout",
     "output_type": "stream",
     "text": [
      "Case Number,Date,Year,Type,Country,Area,Location,Activity,Name,Sex ,Age,Injury,Fatal (Y/N),Time,Species ,Investigator or Source,pdf,href formula,href,Case Number,Case Number,original order,,\r\n",
      "\n",
      "2018.06.25,25-Jun-2018,2018,Boating,USA,California,\"Oceanside, San Diego County\",Paddling,Julie Wolfe,F,57,\"No injury to occupant, outrigger canoe and paddle damaged\",N,18h00,White shark,\"R. Collier, GSAF\",2018.06.25-Wolfe.pdf,http://sharkattackfile.net/spreadsheets/pdf_directory/2018.06.25-Wolfe.pdf,http://sharkattackfile.net/spreadsheets/pdf_directory/2018.06.25-Wolfe.pdf,2018.06.25,2018.06.25,6303,,\r\n",
      "\n",
      "2018.06.18,18-Jun-2018,2018,Unprovoked,USA,Georgia,\"St. Simon Island, Glynn County\",Standing,Adyson McNeely ,F,11,Minor injury to left thigh,N,14h00  -15h00,,\"K.McMurray, TrackingSharks.com\",2018.06.18-McNeely.pdf,http://sharkattackfile.net/spreadsheets/pdf_directory/2018.06.18-McNeely.pdf,http://sharkattackfile.net/spreadsheets/pdf_directory/2018.06.18-McNeely.pdf,2018.06.18,2018.06.18,6302,,\r\n",
      "\n",
      "2018.06.09,09-Jun-2018,2018,Invalid,USA,Hawaii,\"Habush, Oahu\",Surfing,John Denges,M,48,Injury to left lower leg from surfboard skeg,N,07h45,,\"K.McMurray, TrackingSharks.com\",2018.06.09-Denges.pdf,http://sharkattackfile.net/spreadsheets/pdf_directory/2018.06.09-Denges.pdf,http://sharkattackfile.net/spreadsheets/pdf_directory/2018.06.09-Denges.pdf,2018.06.09,2018.06.09,6301,,\r\n",
      "\n",
      "2018.06.08,08-Jun-2018,2018,Unprovoked,AUSTRALIA,New South Wales,Arrawarra Headland,Surfing,male,M,,Minor injury to lower leg,N,,2 m shark,\"B. Myatt, GSAF\",2018.06.08-Arrawarra.pdf,http://sharkattackfile.net/spreadsheets/pdf_directory/2018.06.08-Arrawarra.pdf,http://sharkattackfile.net/spreadsheets/pdf_directory/2018.06.08-Arrawarra.pdf,2018.06.08,2018.06.08,6300,,\r\n",
      "\n"
     ]
    }
   ],
   "source": [
    "file = open('C:/Users/forqu/OneDrive/Documentos/IronHack/Github/Projetos/Shark Attack/attacks.csv', 'rb')\n",
    "file_lines = file.readlines(10000)\n",
    "for i in range(5):\n",
    "    print(file_lines[i].decode('latin-1'))\n",
    "file.close()"
   ]
  },
  {
   "cell_type": "markdown",
   "id": "1271cc00",
   "metadata": {},
   "source": [
    "Criar o DataSet com as informações do arquivo "
   ]
  },
  {
   "cell_type": "code",
   "execution_count": 3,
   "id": "c360fd70",
   "metadata": {},
   "outputs": [],
   "source": [
    "sharkattack=pd.read_csv('C:/Users/forqu/OneDrive/Documentos/IronHack/Github/Projetos/Shark Attack/attacks.csv', sep = ',', decimal = '.', encoding = 'latin-1')"
   ]
  },
  {
   "cell_type": "markdown",
   "id": "5074cf9b",
   "metadata": {},
   "source": [
    "# 3 Conhecer o DataSet \n",
    "### Revisar informações DataSet"
   ]
  },
  {
   "cell_type": "code",
   "execution_count": 4,
   "id": "bd648a4e",
   "metadata": {},
   "outputs": [
    {
     "data": {
      "text/html": [
       "<div>\n",
       "<style scoped>\n",
       "    .dataframe tbody tr th:only-of-type {\n",
       "        vertical-align: middle;\n",
       "    }\n",
       "\n",
       "    .dataframe tbody tr th {\n",
       "        vertical-align: top;\n",
       "    }\n",
       "\n",
       "    .dataframe thead th {\n",
       "        text-align: right;\n",
       "    }\n",
       "</style>\n",
       "<table border=\"1\" class=\"dataframe\">\n",
       "  <thead>\n",
       "    <tr style=\"text-align: right;\">\n",
       "      <th></th>\n",
       "      <th>Case Number</th>\n",
       "      <th>Date</th>\n",
       "      <th>Year</th>\n",
       "      <th>Type</th>\n",
       "      <th>Country</th>\n",
       "      <th>Area</th>\n",
       "      <th>Location</th>\n",
       "      <th>Activity</th>\n",
       "      <th>Name</th>\n",
       "      <th>Sex</th>\n",
       "      <th>...</th>\n",
       "      <th>Species</th>\n",
       "      <th>Investigator or Source</th>\n",
       "      <th>pdf</th>\n",
       "      <th>href formula</th>\n",
       "      <th>href</th>\n",
       "      <th>Case Number.1</th>\n",
       "      <th>Case Number.2</th>\n",
       "      <th>original order</th>\n",
       "      <th>Unnamed: 22</th>\n",
       "      <th>Unnamed: 23</th>\n",
       "    </tr>\n",
       "  </thead>\n",
       "  <tbody>\n",
       "    <tr>\n",
       "      <th>0</th>\n",
       "      <td>2018.06.25</td>\n",
       "      <td>25-Jun-2018</td>\n",
       "      <td>2018.0</td>\n",
       "      <td>Boating</td>\n",
       "      <td>USA</td>\n",
       "      <td>California</td>\n",
       "      <td>Oceanside, San Diego County</td>\n",
       "      <td>Paddling</td>\n",
       "      <td>Julie Wolfe</td>\n",
       "      <td>F</td>\n",
       "      <td>...</td>\n",
       "      <td>White shark</td>\n",
       "      <td>R. Collier, GSAF</td>\n",
       "      <td>2018.06.25-Wolfe.pdf</td>\n",
       "      <td>http://sharkattackfile.net/spreadsheets/pdf_di...</td>\n",
       "      <td>http://sharkattackfile.net/spreadsheets/pdf_di...</td>\n",
       "      <td>2018.06.25</td>\n",
       "      <td>2018.06.25</td>\n",
       "      <td>6303.0</td>\n",
       "      <td>NaN</td>\n",
       "      <td>NaN</td>\n",
       "    </tr>\n",
       "    <tr>\n",
       "      <th>1</th>\n",
       "      <td>2018.06.18</td>\n",
       "      <td>18-Jun-2018</td>\n",
       "      <td>2018.0</td>\n",
       "      <td>Unprovoked</td>\n",
       "      <td>USA</td>\n",
       "      <td>Georgia</td>\n",
       "      <td>St. Simon Island, Glynn County</td>\n",
       "      <td>Standing</td>\n",
       "      <td>Adyson McNeely</td>\n",
       "      <td>F</td>\n",
       "      <td>...</td>\n",
       "      <td>NaN</td>\n",
       "      <td>K.McMurray, TrackingSharks.com</td>\n",
       "      <td>2018.06.18-McNeely.pdf</td>\n",
       "      <td>http://sharkattackfile.net/spreadsheets/pdf_di...</td>\n",
       "      <td>http://sharkattackfile.net/spreadsheets/pdf_di...</td>\n",
       "      <td>2018.06.18</td>\n",
       "      <td>2018.06.18</td>\n",
       "      <td>6302.0</td>\n",
       "      <td>NaN</td>\n",
       "      <td>NaN</td>\n",
       "    </tr>\n",
       "    <tr>\n",
       "      <th>2</th>\n",
       "      <td>2018.06.09</td>\n",
       "      <td>09-Jun-2018</td>\n",
       "      <td>2018.0</td>\n",
       "      <td>Invalid</td>\n",
       "      <td>USA</td>\n",
       "      <td>Hawaii</td>\n",
       "      <td>Habush, Oahu</td>\n",
       "      <td>Surfing</td>\n",
       "      <td>John Denges</td>\n",
       "      <td>M</td>\n",
       "      <td>...</td>\n",
       "      <td>NaN</td>\n",
       "      <td>K.McMurray, TrackingSharks.com</td>\n",
       "      <td>2018.06.09-Denges.pdf</td>\n",
       "      <td>http://sharkattackfile.net/spreadsheets/pdf_di...</td>\n",
       "      <td>http://sharkattackfile.net/spreadsheets/pdf_di...</td>\n",
       "      <td>2018.06.09</td>\n",
       "      <td>2018.06.09</td>\n",
       "      <td>6301.0</td>\n",
       "      <td>NaN</td>\n",
       "      <td>NaN</td>\n",
       "    </tr>\n",
       "    <tr>\n",
       "      <th>3</th>\n",
       "      <td>2018.06.08</td>\n",
       "      <td>08-Jun-2018</td>\n",
       "      <td>2018.0</td>\n",
       "      <td>Unprovoked</td>\n",
       "      <td>AUSTRALIA</td>\n",
       "      <td>New South Wales</td>\n",
       "      <td>Arrawarra Headland</td>\n",
       "      <td>Surfing</td>\n",
       "      <td>male</td>\n",
       "      <td>M</td>\n",
       "      <td>...</td>\n",
       "      <td>2 m shark</td>\n",
       "      <td>B. Myatt, GSAF</td>\n",
       "      <td>2018.06.08-Arrawarra.pdf</td>\n",
       "      <td>http://sharkattackfile.net/spreadsheets/pdf_di...</td>\n",
       "      <td>http://sharkattackfile.net/spreadsheets/pdf_di...</td>\n",
       "      <td>2018.06.08</td>\n",
       "      <td>2018.06.08</td>\n",
       "      <td>6300.0</td>\n",
       "      <td>NaN</td>\n",
       "      <td>NaN</td>\n",
       "    </tr>\n",
       "    <tr>\n",
       "      <th>4</th>\n",
       "      <td>2018.06.04</td>\n",
       "      <td>04-Jun-2018</td>\n",
       "      <td>2018.0</td>\n",
       "      <td>Provoked</td>\n",
       "      <td>MEXICO</td>\n",
       "      <td>Colima</td>\n",
       "      <td>La Ticla</td>\n",
       "      <td>Free diving</td>\n",
       "      <td>Gustavo Ramos</td>\n",
       "      <td>M</td>\n",
       "      <td>...</td>\n",
       "      <td>Tiger shark, 3m</td>\n",
       "      <td>A .Kipper</td>\n",
       "      <td>2018.06.04-Ramos.pdf</td>\n",
       "      <td>http://sharkattackfile.net/spreadsheets/pdf_di...</td>\n",
       "      <td>http://sharkattackfile.net/spreadsheets/pdf_di...</td>\n",
       "      <td>2018.06.04</td>\n",
       "      <td>2018.06.04</td>\n",
       "      <td>6299.0</td>\n",
       "      <td>NaN</td>\n",
       "      <td>NaN</td>\n",
       "    </tr>\n",
       "  </tbody>\n",
       "</table>\n",
       "<p>5 rows × 24 columns</p>\n",
       "</div>"
      ],
      "text/plain": [
       "  Case Number         Date    Year        Type    Country             Area  \\\n",
       "0  2018.06.25  25-Jun-2018  2018.0     Boating        USA       California   \n",
       "1  2018.06.18  18-Jun-2018  2018.0  Unprovoked        USA          Georgia   \n",
       "2  2018.06.09  09-Jun-2018  2018.0     Invalid        USA           Hawaii   \n",
       "3  2018.06.08  08-Jun-2018  2018.0  Unprovoked  AUSTRALIA  New South Wales   \n",
       "4  2018.06.04  04-Jun-2018  2018.0    Provoked     MEXICO           Colima   \n",
       "\n",
       "                         Location     Activity             Name Sex   ...  \\\n",
       "0     Oceanside, San Diego County     Paddling      Julie Wolfe    F  ...   \n",
       "1  St. Simon Island, Glynn County     Standing  Adyson McNeely     F  ...   \n",
       "2                    Habush, Oahu      Surfing      John Denges    M  ...   \n",
       "3              Arrawarra Headland      Surfing             male    M  ...   \n",
       "4                        La Ticla  Free diving   Gustavo Ramos     M  ...   \n",
       "\n",
       "          Species           Investigator or Source                       pdf  \\\n",
       "0      White shark                R. Collier, GSAF      2018.06.25-Wolfe.pdf   \n",
       "1              NaN  K.McMurray, TrackingSharks.com    2018.06.18-McNeely.pdf   \n",
       "2              NaN  K.McMurray, TrackingSharks.com     2018.06.09-Denges.pdf   \n",
       "3        2 m shark                  B. Myatt, GSAF  2018.06.08-Arrawarra.pdf   \n",
       "4  Tiger shark, 3m                       A .Kipper      2018.06.04-Ramos.pdf   \n",
       "\n",
       "                                        href formula  \\\n",
       "0  http://sharkattackfile.net/spreadsheets/pdf_di...   \n",
       "1  http://sharkattackfile.net/spreadsheets/pdf_di...   \n",
       "2  http://sharkattackfile.net/spreadsheets/pdf_di...   \n",
       "3  http://sharkattackfile.net/spreadsheets/pdf_di...   \n",
       "4  http://sharkattackfile.net/spreadsheets/pdf_di...   \n",
       "\n",
       "                                                href Case Number.1  \\\n",
       "0  http://sharkattackfile.net/spreadsheets/pdf_di...    2018.06.25   \n",
       "1  http://sharkattackfile.net/spreadsheets/pdf_di...    2018.06.18   \n",
       "2  http://sharkattackfile.net/spreadsheets/pdf_di...    2018.06.09   \n",
       "3  http://sharkattackfile.net/spreadsheets/pdf_di...    2018.06.08   \n",
       "4  http://sharkattackfile.net/spreadsheets/pdf_di...    2018.06.04   \n",
       "\n",
       "  Case Number.2 original order Unnamed: 22 Unnamed: 23  \n",
       "0    2018.06.25         6303.0         NaN         NaN  \n",
       "1    2018.06.18         6302.0         NaN         NaN  \n",
       "2    2018.06.09         6301.0         NaN         NaN  \n",
       "3    2018.06.08         6300.0         NaN         NaN  \n",
       "4    2018.06.04         6299.0         NaN         NaN  \n",
       "\n",
       "[5 rows x 24 columns]"
      ]
     },
     "execution_count": 4,
     "metadata": {},
     "output_type": "execute_result"
    }
   ],
   "source": [
    "sharkattack.head()"
   ]
  },
  {
   "cell_type": "code",
   "execution_count": 5,
   "id": "f4638c64",
   "metadata": {},
   "outputs": [
    {
     "name": "stdout",
     "output_type": "stream",
     "text": [
      "<class 'pandas.core.frame.DataFrame'>\n",
      "RangeIndex: 25723 entries, 0 to 25722\n",
      "Data columns (total 24 columns):\n",
      " #   Column                  Non-Null Count  Dtype  \n",
      "---  ------                  --------------  -----  \n",
      " 0   Case Number             8702 non-null   object \n",
      " 1   Date                    6302 non-null   object \n",
      " 2   Year                    6300 non-null   float64\n",
      " 3   Type                    6298 non-null   object \n",
      " 4   Country                 6252 non-null   object \n",
      " 5   Area                    5847 non-null   object \n",
      " 6   Location                5762 non-null   object \n",
      " 7   Activity                5758 non-null   object \n",
      " 8   Name                    6092 non-null   object \n",
      " 9   Sex                     5737 non-null   object \n",
      " 10  Age                     3471 non-null   object \n",
      " 11  Injury                  6274 non-null   object \n",
      " 12  Fatal (Y/N)             5763 non-null   object \n",
      " 13  Time                    2948 non-null   object \n",
      " 14  Species                 3464 non-null   object \n",
      " 15  Investigator or Source  6285 non-null   object \n",
      " 16  pdf                     6302 non-null   object \n",
      " 17  href formula            6301 non-null   object \n",
      " 18  href                    6302 non-null   object \n",
      " 19  Case Number.1           6302 non-null   object \n",
      " 20  Case Number.2           6302 non-null   object \n",
      " 21  original order          6309 non-null   float64\n",
      " 22  Unnamed: 22             1 non-null      object \n",
      " 23  Unnamed: 23             2 non-null      object \n",
      "dtypes: float64(2), object(22)\n",
      "memory usage: 4.7+ MB\n"
     ]
    }
   ],
   "source": [
    "sharkattack.info()"
   ]
  },
  {
   "cell_type": "markdown",
   "id": "07040b99",
   "metadata": {},
   "source": [
    "Revisar informação de Columnas Unnamed  "
   ]
  },
  {
   "cell_type": "code",
   "execution_count": 6,
   "id": "2a0f09c5",
   "metadata": {},
   "outputs": [
    {
     "data": {
      "text/plain": [
       "stopped here    1\n",
       "Name: Unnamed: 22, dtype: int64"
      ]
     },
     "execution_count": 6,
     "metadata": {},
     "output_type": "execute_result"
    }
   ],
   "source": [
    "sharkattack['Unnamed: 22'].value_counts()"
   ]
  },
  {
   "cell_type": "code",
   "execution_count": 7,
   "id": "b02a5c6e",
   "metadata": {},
   "outputs": [
    {
     "data": {
      "text/plain": [
       "change filename    1\n",
       "Teramo             1\n",
       "Name: Unnamed: 23, dtype: int64"
      ]
     },
     "execution_count": 7,
     "metadata": {},
     "output_type": "execute_result"
    }
   ],
   "source": [
    "sharkattack['Unnamed: 23'].value_counts()"
   ]
  },
  {
   "cell_type": "markdown",
   "id": "60ac0c9f",
   "metadata": {},
   "source": [
    "Eliminar Columnas Unnamed"
   ]
  },
  {
   "cell_type": "code",
   "execution_count": 8,
   "id": "0bb68d03",
   "metadata": {},
   "outputs": [],
   "source": [
    "sharkattack = sharkattack.drop(['Unnamed: 22','Unnamed: 23'],  axis=1)"
   ]
  },
  {
   "cell_type": "markdown",
   "id": "57343d8b",
   "metadata": {},
   "source": [
    "### Padronizar nomes colunas"
   ]
  },
  {
   "cell_type": "code",
   "execution_count": 9,
   "id": "57c423ba",
   "metadata": {},
   "outputs": [
    {
     "data": {
      "text/plain": [
       "Index(['Case Number', 'Date', 'Year', 'Type', 'Country', 'Area', 'Location',\n",
       "       'Activity', 'Name', 'Sex ', 'Age', 'Injury', 'Fatal (Y/N)', 'Time',\n",
       "       'Species ', 'Investigator or Source', 'pdf', 'href formula', 'href',\n",
       "       'Case Number.1', 'Case Number.2', 'original order'],\n",
       "      dtype='object')"
      ]
     },
     "execution_count": 9,
     "metadata": {},
     "output_type": "execute_result"
    }
   ],
   "source": [
    "sharkattack.columns"
   ]
  },
  {
   "cell_type": "code",
   "execution_count": 10,
   "id": "b67c4e62",
   "metadata": {},
   "outputs": [
    {
     "data": {
      "text/plain": [
       "Index(['case_number', 'date', 'year', 'type', 'country', 'area', 'location',\n",
       "       'activity', 'name', 'sex_', 'age', 'injury', 'fatal_y/n', 'time',\n",
       "       'species_', 'investigator_or_source', 'pdf', 'href_formula', 'href',\n",
       "       'case_number_1', 'case_number_2', 'original_order'],\n",
       "      dtype='object')"
      ]
     },
     "execution_count": 10,
     "metadata": {},
     "output_type": "execute_result"
    }
   ],
   "source": [
    "sharkattack.columns = [column.lower().replace(' ', '_').replace('(', '').replace(')', '').replace('.', '_') for column in sharkattack.columns]\n",
    "sharkattack.columns"
   ]
  },
  {
   "cell_type": "code",
   "execution_count": 11,
   "id": "f352257e",
   "metadata": {},
   "outputs": [
    {
     "data": {
      "text/plain": [
       "Index(['case_number', 'date', 'year', 'type', 'country', 'area', 'location',\n",
       "       'activity', 'name', 'sex', 'age', 'injury', 'fatal', 'time', 'species',\n",
       "       'investigator_or_source', 'pdf', 'href_formula', 'href',\n",
       "       'case_number_1', 'case_number_2', 'original_order'],\n",
       "      dtype='object')"
      ]
     },
     "execution_count": 11,
     "metadata": {},
     "output_type": "execute_result"
    }
   ],
   "source": [
    "sharkattack = sharkattack.rename(columns={\"sex_\": \"sex\", \"species_\": \"species\", \"fatal_y/n\" : \"fatal\"})\n",
    "sharkattack.columns"
   ]
  },
  {
   "cell_type": "code",
   "execution_count": 12,
   "id": "7cf24d3a",
   "metadata": {},
   "outputs": [
    {
     "name": "stdout",
     "output_type": "stream",
     "text": [
      "<class 'pandas.core.frame.DataFrame'>\n",
      "RangeIndex: 25723 entries, 0 to 25722\n",
      "Data columns (total 22 columns):\n",
      " #   Column                  Non-Null Count  Dtype  \n",
      "---  ------                  --------------  -----  \n",
      " 0   case_number             8702 non-null   object \n",
      " 1   date                    6302 non-null   object \n",
      " 2   year                    6300 non-null   float64\n",
      " 3   type                    6298 non-null   object \n",
      " 4   country                 6252 non-null   object \n",
      " 5   area                    5847 non-null   object \n",
      " 6   location                5762 non-null   object \n",
      " 7   activity                5758 non-null   object \n",
      " 8   name                    6092 non-null   object \n",
      " 9   sex                     5737 non-null   object \n",
      " 10  age                     3471 non-null   object \n",
      " 11  injury                  6274 non-null   object \n",
      " 12  fatal                   5763 non-null   object \n",
      " 13  time                    2948 non-null   object \n",
      " 14  species                 3464 non-null   object \n",
      " 15  investigator_or_source  6285 non-null   object \n",
      " 16  pdf                     6302 non-null   object \n",
      " 17  href_formula            6301 non-null   object \n",
      " 18  href                    6302 non-null   object \n",
      " 19  case_number_1           6302 non-null   object \n",
      " 20  case_number_2           6302 non-null   object \n",
      " 21  original_order          6309 non-null   float64\n",
      "dtypes: float64(2), object(20)\n",
      "memory usage: 4.3+ MB\n"
     ]
    }
   ],
   "source": [
    "sharkattack.info()"
   ]
  },
  {
   "cell_type": "markdown",
   "id": "33b4dbdc",
   "metadata": {},
   "source": [
    "### Entender distribucion Na\n",
    "% Na por columnas "
   ]
  },
  {
   "cell_type": "code",
   "execution_count": 13,
   "id": "43cef631",
   "metadata": {},
   "outputs": [
    {
     "data": {
      "text/plain": [
       "case_number               0.66\n",
       "date                      0.76\n",
       "year                      0.76\n",
       "type                      0.76\n",
       "country                   0.76\n",
       "area                      0.77\n",
       "location                  0.78\n",
       "activity                  0.78\n",
       "name                      0.76\n",
       "sex                       0.78\n",
       "age                       0.87\n",
       "injury                    0.76\n",
       "fatal                     0.78\n",
       "time                      0.89\n",
       "species                   0.87\n",
       "investigator_or_source    0.76\n",
       "pdf                       0.76\n",
       "href_formula              0.76\n",
       "href                      0.76\n",
       "case_number_1             0.76\n",
       "case_number_2             0.76\n",
       "original_order            0.75\n",
       "dtype: float64"
      ]
     },
     "execution_count": 13,
     "metadata": {},
     "output_type": "execute_result"
    }
   ],
   "source": [
    "sharkattack.isna().sum(axis = 0)\n",
    "(sharkattack.isna().sum(axis = 0)/len(sharkattack)).round(2)"
   ]
  },
  {
   "cell_type": "markdown",
   "id": "48e39595",
   "metadata": {},
   "source": [
    "Na por filas"
   ]
  },
  {
   "cell_type": "code",
   "execution_count": 14,
   "id": "b1592ec9",
   "metadata": {},
   "outputs": [
    {
     "data": {
      "text/plain": [
       "count    25723.00\n",
       "mean         0.77\n",
       "std          0.39\n",
       "min          0.00\n",
       "25%          0.95\n",
       "50%          1.00\n",
       "75%          1.00\n",
       "max          1.00\n",
       "dtype: float64"
      ]
     },
     "execution_count": 14,
     "metadata": {},
     "output_type": "execute_result"
    }
   ],
   "source": [
    "sharkattack.isna().sum(axis = 1)\n",
    "(sharkattack.isna().sum(axis = 1)/len(sharkattack.columns)).describe().round(2)\n",
    "#(sharkattack.isna().sum(axis = 1)/len(sharkattack.columns)).quantile([.05, .10 , .15, .20, .21, .22, .23, .24, .25])"
   ]
  },
  {
   "cell_type": "markdown",
   "id": "edb0a974",
   "metadata": {},
   "source": [
    "Eliminar lineas com menos de 20% columnas sem informação Na"
   ]
  },
  {
   "cell_type": "code",
   "execution_count": 15,
   "id": "b2601882",
   "metadata": {},
   "outputs": [
    {
     "data": {
      "text/plain": [
       "case_number                  1\n",
       "date                         0\n",
       "year                         2\n",
       "type                         4\n",
       "country                     50\n",
       "area                       455\n",
       "location                   540\n",
       "activity                   544\n",
       "name                       210\n",
       "sex                        565\n",
       "age                       2831\n",
       "injury                      28\n",
       "fatal                      539\n",
       "time                      3354\n",
       "species                   2838\n",
       "investigator_or_source      17\n",
       "pdf                          0\n",
       "href_formula                 1\n",
       "href                         0\n",
       "case_number_1                0\n",
       "case_number_2                0\n",
       "original_order               0\n",
       "dtype: int64"
      ]
     },
     "execution_count": 15,
     "metadata": {},
     "output_type": "execute_result"
    }
   ],
   "source": [
    "sharkattack = sharkattack.dropna(axis=0, thresh= int(len(sharkattack.columns) * 0.20))\n",
    "sharkattack.isna().sum()"
   ]
  },
  {
   "cell_type": "markdown",
   "id": "17396c5b",
   "metadata": {},
   "source": [
    "Convertir columna year em int, Corrigue Na trazendo ano do campo Case_number  "
   ]
  },
  {
   "cell_type": "code",
   "execution_count": 16,
   "id": "66adb29a",
   "metadata": {},
   "outputs": [
    {
     "data": {
      "text/plain": [
       "array([2018., 2017.,   nan, 2016., 2015., 2014., 2013., 2012., 2011.,\n",
       "       2010., 2009., 2008., 2007., 2006., 2005., 2004., 2003., 2002.,\n",
       "       2001., 2000., 1999., 1998., 1997., 1996., 1995., 1984., 1994.,\n",
       "       1993., 1992., 1991., 1990., 1989., 1969., 1988., 1987., 1986.,\n",
       "       1985., 1983., 1982., 1981., 1980., 1979., 1978., 1977., 1976.,\n",
       "       1975., 1974., 1973., 1972., 1971., 1970., 1968., 1967., 1966.,\n",
       "       1965., 1964., 1963., 1962., 1961., 1960., 1959., 1958., 1957.,\n",
       "       1956., 1955., 1954., 1953., 1952., 1951., 1950., 1949., 1948.,\n",
       "       1848., 1947., 1946., 1945., 1944., 1943., 1942., 1941., 1940.,\n",
       "       1939., 1938., 1937., 1936., 1935., 1934., 1933., 1932., 1931.,\n",
       "       1930., 1929., 1928., 1927., 1926., 1925., 1924., 1923., 1922.,\n",
       "       1921., 1920., 1919., 1918., 1917., 1916., 1915., 1914., 1913.,\n",
       "       1912., 1911., 1910., 1909., 1908., 1907., 1906., 1905., 1904.,\n",
       "       1903., 1902., 1901., 1900., 1899., 1898., 1897., 1896., 1895.,\n",
       "       1894., 1893., 1892., 1891., 1890., 1889., 1888., 1887., 1886.,\n",
       "       1885., 1884., 1883., 1882., 1881., 1880., 1879., 1878., 1877.,\n",
       "       1876., 1875., 1874., 1873., 1872., 1871., 1870., 1869., 1868.,\n",
       "       1867., 1866., 1865., 1864., 1863., 1862., 1861., 1860., 1859.,\n",
       "       1858., 1857., 1856., 1855., 1853., 1852., 1851., 1850., 1849.,\n",
       "       1847., 1846., 1845., 1844., 1842., 1841., 1840., 1839., 1837.,\n",
       "       1836., 1835., 1834., 1832., 1831., 1830., 1829., 1828., 1827.,\n",
       "       1826., 1825., 1823., 1822., 1819., 1818., 1817., 1816., 1815.,\n",
       "       1812., 1811., 1810., 1808., 1807., 1805., 1804., 1803., 1802.,\n",
       "       1801., 1800., 1797., 1792., 1791., 1788., 1787., 1786., 1785.,\n",
       "       1784., 1783., 1780., 1779., 1776., 1771., 1767., 1764., 1758.,\n",
       "       1753., 1751., 1749., 1755., 1748., 1742., 1738., 1733., 1723.,\n",
       "       1721., 1703., 1700., 1642., 1638., 1637., 1617., 1595., 1580.,\n",
       "       1555., 1554., 1543.,  500.,   77.,    5.,    0.])"
      ]
     },
     "execution_count": 16,
     "metadata": {},
     "output_type": "execute_result"
    }
   ],
   "source": [
    "sharkattack['year'].unique()"
   ]
  },
  {
   "cell_type": "code",
   "execution_count": 17,
   "id": "8b6c814c",
   "metadata": {},
   "outputs": [
    {
     "data": {
      "text/plain": [
       "array(['25-Jun-2018', '18-Jun-2018', '09-Jun-2018', ..., '1900-1905',\n",
       "       '1883-1889', '1845-1853'], dtype=object)"
      ]
     },
     "execution_count": 17,
     "metadata": {},
     "output_type": "execute_result"
    }
   ],
   "source": [
    "sharkattack['date'].unique()"
   ]
  },
  {
   "cell_type": "code",
   "execution_count": 18,
   "id": "3c5ab851",
   "metadata": {},
   "outputs": [
    {
     "data": {
      "text/plain": [
       "array([2018, 2017, 2016, 2015, 2014, 2013, 2012, 2011, 2010, 2009, 2008,\n",
       "       2007, 2006, 2005, 2004, 2003, 2002, 2001, 2000, 1999, 1998, 1997,\n",
       "       1996, 1995, 1984, 1994, 1993, 1992, 1991, 1990, 1989, 1969, 1988,\n",
       "       1987, 1986, 1985, 1983, 1982, 1981, 1980, 1979, 1978, 1977, 1976,\n",
       "       1975, 1974, 1973, 1972, 1971, 1970, 1968, 1967, 1966, 1965, 1964,\n",
       "       1963, 1962, 1961, 1960, 1959, 1958, 1957, 1956, 1955, 1954, 1953,\n",
       "       1952, 1951, 1950, 1949, 1948, 1848, 1947, 1946, 1945, 1944, 1943,\n",
       "       1942, 1941, 1940, 1939, 1938, 1937, 1936, 1935, 1934, 1933, 1932,\n",
       "       1931, 1930, 1929, 1928, 1927, 1926, 1925, 1924, 1923, 1922, 1921,\n",
       "       1920, 1919, 1918, 1917, 1916, 1915, 1914, 1913, 1912, 1911, 1910,\n",
       "       1909, 1908, 1907, 1906, 1905, 1904, 1903, 1902, 1901, 1900, 1899,\n",
       "       1898, 1897, 1896, 1895, 1894, 1893, 1892, 1891, 1890, 1889, 1888,\n",
       "       1887, 1886, 1885, 1884, 1883, 1882, 1881, 1880, 1879, 1878, 1877,\n",
       "       1876, 1875, 1874, 1873, 1872, 1871, 1870, 1869, 1868, 1867, 1866,\n",
       "       1865, 1864, 1863, 1862, 1861, 1860, 1859, 1858, 1857, 1856, 1855,\n",
       "       1853, 1852, 1851, 1850, 1849, 1847, 1846, 1845, 1844, 1842, 1841,\n",
       "       1840, 1839, 1837, 1836, 1835, 1834, 1832, 1831, 1830, 1829, 1828,\n",
       "       1827, 1826, 1825, 1823, 1822, 1819, 1818, 1817, 1816, 1815, 1812,\n",
       "       1811, 1810, 1808, 1807, 1805, 1804, 1803, 1802, 1801, 1800, 1797,\n",
       "       1792, 1791, 1788, 1787, 1786, 1785, 1784, 1783, 1780, 1779, 1776,\n",
       "       1771, 1767, 1764, 1758, 1753, 1751, 1749, 1755, 1748, 1742, 1738,\n",
       "       1733, 1723, 1721, 1703, 1700, 1642, 1638, 1637, 1617, 1595, 1580,\n",
       "       1555, 1554, 1543,  500,   77,    5,    0], dtype=int64)"
      ]
     },
     "execution_count": 18,
     "metadata": {},
     "output_type": "execute_result"
    }
   ],
   "source": [
    "sharkattack['year'] = np.where(sharkattack['year'].isna(), sharkattack['case_number'].str.slice(stop=4), sharkattack['year'])\n",
    "sharkattack['year'] = sharkattack['year'].map(int)\n",
    "sharkattack['year'].unique()\n",
    "\n",
    "#sharkattack['year'] = np.where(sharkattack['year'] == 0, sharkattack['case_number'].str.slice(stop=4), sharkattack['year'])"
   ]
  },
  {
   "cell_type": "markdown",
   "id": "bca0d851",
   "metadata": {},
   "source": [
    "Correguir info do campo fatal"
   ]
  },
  {
   "cell_type": "code",
   "execution_count": 19,
   "id": "a6d1b82d",
   "metadata": {},
   "outputs": [
    {
     "data": {
      "text/plain": [
       "N          4293\n",
       "Y          1388\n",
       "UNKNOWN      71\n",
       " N            7\n",
       "M             1\n",
       "y             1\n",
       "2017          1\n",
       "N             1\n",
       "Name: fatal, dtype: int64"
      ]
     },
     "execution_count": 19,
     "metadata": {},
     "output_type": "execute_result"
    }
   ],
   "source": [
    "sharkattack['fatal'].value_counts()"
   ]
  },
  {
   "cell_type": "code",
   "execution_count": 20,
   "id": "aa2462da",
   "metadata": {},
   "outputs": [
    {
     "name": "stderr",
     "output_type": "stream",
     "text": [
      "<ipython-input-20-3ed7cd52173c>:3: FutureWarning: The default value of regex will change from True to False in a future version.\n",
      "  sharkattack['fatal'] = sharkattack['fatal'].str.replace(r'[Mm]', 'unknown')\n"
     ]
    },
    {
     "data": {
      "text/plain": [
       "n          4301\n",
       "y          1389\n",
       "unknown     612\n",
       "Name: fatal, dtype: int64"
      ]
     },
     "execution_count": 20,
     "metadata": {},
     "output_type": "execute_result"
    }
   ],
   "source": [
    "sharkattack['fatal'] = sharkattack['fatal'].str.replace(' ', '')\n",
    "sharkattack['fatal'] = sharkattack['fatal'].str.replace('2017', 'unknown')\n",
    "sharkattack['fatal'] = sharkattack['fatal'].str.replace(r'[Mm]', 'unknown')\n",
    "sharkattack['fatal'] = sharkattack['fatal'].str.lower()\n",
    "sharkattack['fatal'] = np.where(sharkattack['fatal'].isna(), 'unknown', sharkattack['fatal'])\n",
    "sharkattack['fatal'].value_counts()"
   ]
  },
  {
   "cell_type": "markdown",
   "id": "f3ac3e86",
   "metadata": {},
   "source": [
    "Corregir info do campo age , criar rango"
   ]
  },
  {
   "cell_type": "code",
   "execution_count": 21,
   "id": "a2a8be2b",
   "metadata": {},
   "outputs": [
    {
     "data": {
      "text/plain": [
       "array(['57', '11', '48', nan, '18', '52', '15', '12', '32', '10', '21',\n",
       "       '34', '30', '60', '33', '29', '54', '41', '37', '56', '19', '25',\n",
       "       '69', '38', '55', '35', '46', '45', '14', '40s', '28', '20', '24',\n",
       "       '26', '49', '22', '7', '31', '17', '40', '13', '42', '3', '8',\n",
       "       '50', '16', '82', '73', '20s', '68', '51', '39', '58', 'Teen',\n",
       "       '47', '61', '65', '36', '66', '43', '60s', '9', '72', '59', '6',\n",
       "       '27', '64', '23', '71', '44', '62', '63', '70', '18 months', '53',\n",
       "       '30s', '50s', 'teen', '77', '74', '28 & 26', '5', '86', '18 or 20',\n",
       "       '12 or 13', '46 & 34', '28, 23 & 30', 'Teens', '36 & 26',\n",
       "       '8 or 10', '84', '\\xa0 ', ' ', '30 or 36', '6½', '21 & ?', '75',\n",
       "       '33 or 37', 'mid-30s', '23 & 20', ' 30', '7      &    31', ' 28',\n",
       "       '20?', \"60's\", '32 & 30', '16 to 18', '87', '67', 'Elderly',\n",
       "       'mid-20s', 'Ca. 33', '74 ', '45 ', '21 or 26', '20 ', '>50',\n",
       "       '18 to 22', 'adult', '9 & 12', '? & 19', '9 months', '25 to 35',\n",
       "       '23 & 26', '1', '(adult)', '33 & 37', '25 or 28',\n",
       "       '37, 67, 35, 27,  ? & 27', '21, 34,24 & 35', '30 & 32', '50 & 30',\n",
       "       '17 & 35', 'X', '\"middle-age\"', '13 or 18', '34 & 19', '33 & 26',\n",
       "       '2 to 3 months', 'MAKE LINE GREEN', ' 43', '81', '\"young\"',\n",
       "       '7 or 8', '78', '17 & 16', 'F', 'Both 11', '9 or 10', 'young',\n",
       "       '36 & 23', '  ', 'A.M.', '?    &   14', '10 or 12', '31 or 33',\n",
       "       '2½', '13 or 14'], dtype=object)"
      ]
     },
     "execution_count": 21,
     "metadata": {},
     "output_type": "execute_result"
    }
   ],
   "source": [
    "sharkattack['age'].unique()"
   ]
  },
  {
   "cell_type": "code",
   "execution_count": 22,
   "id": "4787aa03",
   "metadata": {},
   "outputs": [],
   "source": [
    "def age(value): \n",
    "    value = str(value)\n",
    "    list_value = value.split(' ')\n",
    "    new_list = []\n",
    "    new_val= '0'\n",
    "    for value in list_value :\n",
    "        if value.isnumeric() : \n",
    "            try :\n",
    "                value = int(value)\n",
    "                return value\n",
    "            except ValueError :\n",
    "                value = 'unknown'\n",
    "                return value\n",
    "        elif ~value.isnumeric() : \n",
    "            value = value.lower().replace(' ', '').replace('(','').replace(')','')\n",
    "            if value == 'toddler' or value == 'child' or value == 'teen' or value == 'adult' or value == 'middle-age' or value == 'elderly' :\n",
    "                value = value\n",
    "                return value\n",
    "            elif value == 'teens' :\n",
    "                value = 'teen'\n",
    "                return value\n",
    "            elif value == 'young' :\n",
    "                value = 'child'\n",
    "                return value\n",
    "        else :\n",
    "            value = 'unknown'\n",
    "            return value"
   ]
  },
  {
   "cell_type": "code",
   "execution_count": 23,
   "id": "e2b37d31",
   "metadata": {},
   "outputs": [
    {
     "data": {
      "text/plain": [
       "array([57, 11, 48, None, 18, 52, 15, 12, 32, 10, 21, 34, 30, 60, 33, 29,\n",
       "       54, 41, 37, 56, 19, 25, 69, 38, 55, 35, 46, 45, 14, 28, 20, 24, 26,\n",
       "       49, 22, 7, 31, 17, 40, 13, 42, 3, 8, 50, 16, 82, 73, 68, 51, 39,\n",
       "       58, 'teen', 47, 61, 65, 36, 66, 43, 9, 72, 59, 6, 27, 64, 23, 71,\n",
       "       44, 62, 63, 70, 53, 77, 74, 5, 86, 84, 'unknown', 75, 87, 67,\n",
       "       'elderly', 'adult', 1, 2, 81, 78, 'child'], dtype=object)"
      ]
     },
     "execution_count": 23,
     "metadata": {},
     "output_type": "execute_result"
    }
   ],
   "source": [
    "sharkattack['age']= sharkattack['age'].apply(age)\n",
    "sharkattack['age']. unique()"
   ]
  },
  {
   "cell_type": "code",
   "execution_count": 24,
   "id": "da09efdc",
   "metadata": {},
   "outputs": [],
   "source": [
    "def age_rage(value) :\n",
    "    if type(value) == int :\n",
    "        if value <= 3 :\n",
    "            value = 'toddler'\n",
    "            return value\n",
    "        elif value > 3 and value <= 12 :\n",
    "            value = 'child'\n",
    "            return value\n",
    "        elif value > 12 and value <= 18 :\n",
    "            value = 'teen'\n",
    "            return value\n",
    "        elif value > 18 and value <= 35 :\n",
    "            value = 'adult'\n",
    "            return value\n",
    "        elif value > 35 and value <= 60 :\n",
    "            value = 'middle-age'\n",
    "            return value\n",
    "        elif value > 60 :\n",
    "            value = 'elderly'\n",
    "            return value\n",
    "    else :\n",
    "        value = value\n",
    "        return value"
   ]
  },
  {
   "cell_type": "code",
   "execution_count": 25,
   "id": "01350ee8",
   "metadata": {},
   "outputs": [
    {
     "data": {
      "text/plain": [
       "unkonwn       2866\n",
       "adult         1517\n",
       "teen           800\n",
       "middle-age     735\n",
       "child          285\n",
       "elderly         89\n",
       "toddler          8\n",
       "unknown          2\n",
       "Name: age_range, dtype: int64"
      ]
     },
     "execution_count": 25,
     "metadata": {},
     "output_type": "execute_result"
    }
   ],
   "source": [
    "sharkattack['age_range']= sharkattack['age'].apply(age_rage)\n",
    "sharkattack['age_range'] = np.where(sharkattack['age_range'].isna(), 'unkonwn', sharkattack['age_range'])\n",
    "sharkattack['age_range'].value_counts()"
   ]
  },
  {
   "cell_type": "code",
   "execution_count": 26,
   "id": "014972a0",
   "metadata": {},
   "outputs": [
    {
     "data": {
      "text/plain": [
       "array(['F', 'M', nan, 'M ', 'lli', 'N', '.'], dtype=object)"
      ]
     },
     "execution_count": 26,
     "metadata": {},
     "output_type": "execute_result"
    }
   ],
   "source": [
    "sharkattack['sex'].unique()"
   ]
  },
  {
   "cell_type": "code",
   "execution_count": 27,
   "id": "92330d76",
   "metadata": {},
   "outputs": [
    {
     "name": "stderr",
     "output_type": "stream",
     "text": [
      "<ipython-input-27-925088e5356b>:3: FutureWarning: The default value of regex will change from True to False in a future version. In addition, single character regular expressions will*not* be treated as literal strings when regex=True.\n",
      "  sharkattack['sex'] = sharkattack['sex'].str.replace('.', 'unkonwn')\n"
     ]
    },
    {
     "data": {
      "text/plain": [
       "array(['f', 'm', nan, 'unkonwn'], dtype=object)"
      ]
     },
     "execution_count": 27,
     "metadata": {},
     "output_type": "execute_result"
    }
   ],
   "source": [
    "sharkattack['sex'] = sharkattack['sex'].str.replace(' ', '')\n",
    "sharkattack['sex'] = sharkattack['sex'].str.replace('N', 'unkonwn')\n",
    "sharkattack['sex'] = sharkattack['sex'].str.replace('.', 'unkonwn')\n",
    "sharkattack['sex'] = sharkattack['sex'].str.replace('lli', 'unkonwn')\n",
    "sharkattack['sex'] = sharkattack['sex'].str.lower()\n",
    "sharkattack['sex'].unique()"
   ]
  },
  {
   "cell_type": "code",
   "execution_count": 28,
   "id": "1a0179ed",
   "metadata": {},
   "outputs": [
    {
     "name": "stderr",
     "output_type": "stream",
     "text": [
      "<ipython-input-28-e25e1bed182b>:2: FutureWarning: The default value of regex will change from True to False in a future version. In addition, single character regular expressions will*not* be treated as literal strings when regex=True.\n",
      "  sharkattack['country'] = sharkattack['country'].str.replace('?', '')\n"
     ]
    },
    {
     "data": {
      "text/plain": [
       "array(['usa', 'australia', 'mexico', 'brazil', 'england', 'southafrica',\n",
       "       'thailand', 'costarica', 'maldives', 'bahamas', 'newcaledonia',\n",
       "       'ecuador', 'malaysia', 'libya', nan, 'cuba', 'mauritius',\n",
       "       'newzealand', 'spain', 'samoa', 'solomonislands', 'japan', 'egypt',\n",
       "       'sthelena,britishoverseasterritory', 'comoros', 'reunion',\n",
       "       'frenchpolynesia', 'unitedkingdom', 'unitedarabemirates',\n",
       "       'philippines', 'indonesia', 'china', 'columbia', 'capeverde',\n",
       "       'fiji', 'dominicanrepublic', 'caymanislands', 'aruba',\n",
       "       'mozambique', 'puertorico', 'italy', 'atlanticocean', 'greece',\n",
       "       'st.martin', 'france', 'papuanewguinea', 'trinidad&tobago',\n",
       "       'kiribati', 'israel', 'diegogarcia', 'taiwan', 'jamaica',\n",
       "       'palestinianterritories', 'guam', 'seychelles', 'belize',\n",
       "       'nigeria', 'tonga', 'scotland', 'canada', 'croatia', 'saudiarabia',\n",
       "       'chile', 'antigua', 'kenya', 'russia', 'turks&caicos',\n",
       "       'unitedarabemirates(uae)', 'azores', 'southkorea', 'malta',\n",
       "       'vietnam', 'madagascar', 'panama', 'somalia', 'nevis',\n",
       "       'britishvirginislands', 'norway', 'senegal', 'yemen', 'gulfofaden',\n",
       "       'sierraleone', 'st.maartin', 'grandcayman', 'liberia', 'vanuatu',\n",
       "       'honduras', 'venezuela', 'srilanka', 'uruguay', 'india',\n",
       "       'micronesia', 'caribbeansea', 'okinawa', 'tanzania',\n",
       "       'marshallislands', 'egypt/israel', 'northernarabiansea',\n",
       "       'hongkong', 'elsalvador', 'angola', 'bermuda', 'montenegro',\n",
       "       'iran', 'tunisia', 'namibia', 'northatlanticocean', 'portugal',\n",
       "       'southchinasea', 'bangladesh', 'palau', 'westernsamoa',\n",
       "       'pacificocean', 'britishisles', 'grenada', 'iraq', 'turkey',\n",
       "       'singapore', 'newbritain', 'sudan', 'johnstonisland',\n",
       "       'southpacificocean', 'newguinea', 'redsea', 'northpacificocean',\n",
       "       'federatedstatesofmicronesia', 'midatlanticocean',\n",
       "       'admiraltyislands', 'britishwestindies', 'southatlanticocean',\n",
       "       'persiangulf', 'redsea/indianocean', 'northsea', 'nicaragua',\n",
       "       'maldiveislands', 'americansamoa', 'andaman/nicobarislandas',\n",
       "       'gabon', 'mayotte', 'thebalkans', 'argentina', 'martinique',\n",
       "       'indianocean', 'guatemala', 'netherlandsantilles',\n",
       "       'northernmarianaislands', 'iran/iraq', 'java', 'centralpacific',\n",
       "       'solomonislands/vanuatu', 'southwestpacificocean', 'bayofbengal',\n",
       "       'mid-pacifcocean', 'slovenia', 'curacao', 'iceland',\n",
       "       'italy/croatia', 'barbados', 'monaco', 'guyana', 'haiti',\n",
       "       'sandomingo', 'ireland', 'kuwait', 'reunionisland',\n",
       "       'falklandislands', 'crete', 'cyprus', 'westindies', 'burma',\n",
       "       'lebanon', 'paraguay', 'britishnewguinea', 'ceylon', 'ocean',\n",
       "       'georgia', 'syria', 'tuvalu', 'guinea', 'andamanislands',\n",
       "       'equatorialguinea/cameroon', 'cookislands', 'tobago', 'peru',\n",
       "       'africa', 'algeria', 'coastofafrica', 'tasmansea', 'ghana',\n",
       "       'greenland', 'mediterraneansea', 'sweden', 'roatan',\n",
       "       'betweenportugal&india', 'djibouti', 'bahrein', 'korea', 'asia',\n",
       "       'ceylon(srilanka)'], dtype=object)"
      ]
     },
     "execution_count": 28,
     "metadata": {},
     "output_type": "execute_result"
    }
   ],
   "source": [
    "sharkattack['country'] = sharkattack['country'].str.replace(' ', '')\n",
    "sharkattack['country'] = sharkattack['country'].str.replace('?', '')\n",
    "sharkattack['country'] = sharkattack['country'].str.lower()\n",
    "sharkattack['country'].unique()"
   ]
  },
  {
   "cell_type": "markdown",
   "id": "efc3a6b0",
   "metadata": {},
   "source": [
    "FatalidadeXanoXrangoedade"
   ]
  },
  {
   "cell_type": "code",
   "execution_count": 29,
   "id": "a3819b3f",
   "metadata": {},
   "outputs": [
    {
     "data": {
      "text/plain": [
       "case_number                  1\n",
       "date                         0\n",
       "year                         0\n",
       "type                         4\n",
       "country                     50\n",
       "area                       455\n",
       "location                   540\n",
       "activity                   544\n",
       "name                       210\n",
       "sex                        565\n",
       "age                       2866\n",
       "injury                      28\n",
       "fatal                        0\n",
       "time                      3354\n",
       "species                   2838\n",
       "investigator_or_source      17\n",
       "pdf                          0\n",
       "href_formula                 1\n",
       "href                         0\n",
       "case_number_1                0\n",
       "case_number_2                0\n",
       "original_order               0\n",
       "age_range                    0\n",
       "dtype: int64"
      ]
     },
     "execution_count": 29,
     "metadata": {},
     "output_type": "execute_result"
    }
   ],
   "source": [
    "sharkattack.columns\n",
    "sharkattack.isnull().sum(axis=0)"
   ]
  },
  {
   "cell_type": "code",
   "execution_count": 30,
   "id": "a867ba62",
   "metadata": {},
   "outputs": [
    {
     "data": {
      "text/html": [
       "<div>\n",
       "<style scoped>\n",
       "    .dataframe tbody tr th:only-of-type {\n",
       "        vertical-align: middle;\n",
       "    }\n",
       "\n",
       "    .dataframe tbody tr th {\n",
       "        vertical-align: top;\n",
       "    }\n",
       "\n",
       "    .dataframe thead th {\n",
       "        text-align: right;\n",
       "    }\n",
       "</style>\n",
       "<table border=\"1\" class=\"dataframe\">\n",
       "  <thead>\n",
       "    <tr style=\"text-align: right;\">\n",
       "      <th></th>\n",
       "      <th>country</th>\n",
       "      <th>year</th>\n",
       "      <th>fatal</th>\n",
       "      <th>age_range</th>\n",
       "      <th>sex</th>\n",
       "    </tr>\n",
       "  </thead>\n",
       "  <tbody>\n",
       "    <tr>\n",
       "      <th>0</th>\n",
       "      <td>usa</td>\n",
       "      <td>2018</td>\n",
       "      <td>n</td>\n",
       "      <td>middle-age</td>\n",
       "      <td>f</td>\n",
       "    </tr>\n",
       "    <tr>\n",
       "      <th>1</th>\n",
       "      <td>usa</td>\n",
       "      <td>2018</td>\n",
       "      <td>n</td>\n",
       "      <td>child</td>\n",
       "      <td>f</td>\n",
       "    </tr>\n",
       "    <tr>\n",
       "      <th>2</th>\n",
       "      <td>usa</td>\n",
       "      <td>2018</td>\n",
       "      <td>n</td>\n",
       "      <td>middle-age</td>\n",
       "      <td>m</td>\n",
       "    </tr>\n",
       "    <tr>\n",
       "      <th>3</th>\n",
       "      <td>australia</td>\n",
       "      <td>2018</td>\n",
       "      <td>n</td>\n",
       "      <td>unkonwn</td>\n",
       "      <td>m</td>\n",
       "    </tr>\n",
       "    <tr>\n",
       "      <th>4</th>\n",
       "      <td>mexico</td>\n",
       "      <td>2018</td>\n",
       "      <td>n</td>\n",
       "      <td>unkonwn</td>\n",
       "      <td>m</td>\n",
       "    </tr>\n",
       "    <tr>\n",
       "      <th>...</th>\n",
       "      <td>...</td>\n",
       "      <td>...</td>\n",
       "      <td>...</td>\n",
       "      <td>...</td>\n",
       "      <td>...</td>\n",
       "    </tr>\n",
       "    <tr>\n",
       "      <th>6297</th>\n",
       "      <td>australia</td>\n",
       "      <td>0</td>\n",
       "      <td>y</td>\n",
       "      <td>unkonwn</td>\n",
       "      <td>m</td>\n",
       "    </tr>\n",
       "    <tr>\n",
       "      <th>6298</th>\n",
       "      <td>australia</td>\n",
       "      <td>0</td>\n",
       "      <td>y</td>\n",
       "      <td>unkonwn</td>\n",
       "      <td>m</td>\n",
       "    </tr>\n",
       "    <tr>\n",
       "      <th>6299</th>\n",
       "      <td>usa</td>\n",
       "      <td>0</td>\n",
       "      <td>y</td>\n",
       "      <td>unkonwn</td>\n",
       "      <td>m</td>\n",
       "    </tr>\n",
       "    <tr>\n",
       "      <th>6300</th>\n",
       "      <td>panama</td>\n",
       "      <td>0</td>\n",
       "      <td>y</td>\n",
       "      <td>unkonwn</td>\n",
       "      <td>m</td>\n",
       "    </tr>\n",
       "    <tr>\n",
       "      <th>6301</th>\n",
       "      <td>ceylon(srilanka)</td>\n",
       "      <td>0</td>\n",
       "      <td>y</td>\n",
       "      <td>teen</td>\n",
       "      <td>m</td>\n",
       "    </tr>\n",
       "  </tbody>\n",
       "</table>\n",
       "<p>6302 rows × 5 columns</p>\n",
       "</div>"
      ],
      "text/plain": [
       "               country  year fatal   age_range sex\n",
       "0                  usa  2018     n  middle-age   f\n",
       "1                  usa  2018     n       child   f\n",
       "2                  usa  2018     n  middle-age   m\n",
       "3            australia  2018     n     unkonwn   m\n",
       "4               mexico  2018     n     unkonwn   m\n",
       "...                ...   ...   ...         ...  ..\n",
       "6297         australia     0     y     unkonwn   m\n",
       "6298         australia     0     y     unkonwn   m\n",
       "6299               usa     0     y     unkonwn   m\n",
       "6300            panama     0     y     unkonwn   m\n",
       "6301  ceylon(srilanka)     0     y        teen   m\n",
       "\n",
       "[6302 rows x 5 columns]"
      ]
     },
     "execution_count": 30,
     "metadata": {},
     "output_type": "execute_result"
    }
   ],
   "source": [
    "sharkfatal = sharkattack[['country', 'year', 'fatal','age_range', 'sex']]\n",
    "#sharkfatal = sharkfatal[sharkfatal['year'] != 0]\n",
    "sharkfatal"
   ]
  },
  {
   "cell_type": "code",
   "execution_count": 31,
   "id": "46322135",
   "metadata": {},
   "outputs": [
    {
     "data": {
      "text/html": [
       "<div>\n",
       "<style scoped>\n",
       "    .dataframe tbody tr th:only-of-type {\n",
       "        vertical-align: middle;\n",
       "    }\n",
       "\n",
       "    .dataframe tbody tr th {\n",
       "        vertical-align: top;\n",
       "    }\n",
       "\n",
       "    .dataframe thead th {\n",
       "        text-align: right;\n",
       "    }\n",
       "</style>\n",
       "<table border=\"1\" class=\"dataframe\">\n",
       "  <thead>\n",
       "    <tr style=\"text-align: right;\">\n",
       "      <th>country</th>\n",
       "      <th>usa</th>\n",
       "      <th>australia</th>\n",
       "      <th>southafrica</th>\n",
       "      <th>papuanewguinea</th>\n",
       "      <th>newzealand</th>\n",
       "      <th>brazil</th>\n",
       "      <th>bahamas</th>\n",
       "      <th>mexico</th>\n",
       "      <th>italy</th>\n",
       "      <th>fiji</th>\n",
       "      <th>...</th>\n",
       "      <th>curacao</th>\n",
       "      <th>palestinianterritories</th>\n",
       "      <th>cyprus</th>\n",
       "      <th>diegogarcia</th>\n",
       "      <th>djibouti</th>\n",
       "      <th>ocean</th>\n",
       "      <th>northsea</th>\n",
       "      <th>egypt/israel</th>\n",
       "      <th>northernmarianaislands</th>\n",
       "      <th>admiraltyislands</th>\n",
       "    </tr>\n",
       "  </thead>\n",
       "  <tbody>\n",
       "    <tr>\n",
       "      <th>first_year</th>\n",
       "      <td>0</td>\n",
       "      <td>0</td>\n",
       "      <td>0</td>\n",
       "      <td>0</td>\n",
       "      <td>0</td>\n",
       "      <td>1826</td>\n",
       "      <td>0</td>\n",
       "      <td>500</td>\n",
       "      <td>0</td>\n",
       "      <td>0</td>\n",
       "      <td>...</td>\n",
       "      <td>1939</td>\n",
       "      <td>2013</td>\n",
       "      <td>1901</td>\n",
       "      <td>2013</td>\n",
       "      <td>0</td>\n",
       "      <td>1887</td>\n",
       "      <td>1960</td>\n",
       "      <td>1996</td>\n",
       "      <td>1948</td>\n",
       "      <td>1962</td>\n",
       "    </tr>\n",
       "    <tr>\n",
       "      <th>last_year</th>\n",
       "      <td>2018</td>\n",
       "      <td>2018</td>\n",
       "      <td>2018</td>\n",
       "      <td>2014</td>\n",
       "      <td>2017</td>\n",
       "      <td>2018</td>\n",
       "      <td>2018</td>\n",
       "      <td>2018</td>\n",
       "      <td>2015</td>\n",
       "      <td>2016</td>\n",
       "      <td>...</td>\n",
       "      <td>1939</td>\n",
       "      <td>2013</td>\n",
       "      <td>1901</td>\n",
       "      <td>2013</td>\n",
       "      <td>0</td>\n",
       "      <td>1887</td>\n",
       "      <td>1960</td>\n",
       "      <td>1996</td>\n",
       "      <td>1948</td>\n",
       "      <td>1962</td>\n",
       "    </tr>\n",
       "    <tr>\n",
       "      <th>attacks</th>\n",
       "      <td>2229</td>\n",
       "      <td>1338</td>\n",
       "      <td>579</td>\n",
       "      <td>134</td>\n",
       "      <td>128</td>\n",
       "      <td>112</td>\n",
       "      <td>109</td>\n",
       "      <td>90</td>\n",
       "      <td>71</td>\n",
       "      <td>65</td>\n",
       "      <td>...</td>\n",
       "      <td>1</td>\n",
       "      <td>1</td>\n",
       "      <td>1</td>\n",
       "      <td>1</td>\n",
       "      <td>1</td>\n",
       "      <td>1</td>\n",
       "      <td>1</td>\n",
       "      <td>1</td>\n",
       "      <td>1</td>\n",
       "      <td>1</td>\n",
       "    </tr>\n",
       "  </tbody>\n",
       "</table>\n",
       "<p>3 rows × 198 columns</p>\n",
       "</div>"
      ],
      "text/plain": [
       "country      usa  australia  southafrica  papuanewguinea  newzealand  brazil  \\\n",
       "first_year     0          0            0               0           0    1826   \n",
       "last_year   2018       2018         2018            2014        2017    2018   \n",
       "attacks     2229       1338          579             134         128     112   \n",
       "\n",
       "country     bahamas  mexico  italy  fiji  ...  curacao  \\\n",
       "first_year        0     500      0     0  ...     1939   \n",
       "last_year      2018    2018   2015  2016  ...     1939   \n",
       "attacks         109      90     71    65  ...        1   \n",
       "\n",
       "country     palestinianterritories  cyprus  diegogarcia  djibouti  ocean  \\\n",
       "first_year                    2013    1901         2013         0   1887   \n",
       "last_year                     2013    1901         2013         0   1887   \n",
       "attacks                          1       1            1         1      1   \n",
       "\n",
       "country     northsea  egypt/israel  northernmarianaislands  admiraltyislands  \n",
       "first_year      1960          1996                    1948              1962  \n",
       "last_year       1960          1996                    1948              1962  \n",
       "attacks            1             1                       1                 1  \n",
       "\n",
       "[3 rows x 198 columns]"
      ]
     },
     "execution_count": 31,
     "metadata": {},
     "output_type": "execute_result"
    }
   ],
   "source": [
    "shark_per_country = sharkfatal.groupby('country').agg(\n",
    "    first_year=pd.NamedAgg('year', 'min'),\n",
    "    last_year=pd.NamedAgg('year', 'max'),\n",
    "    attacks=pd.NamedAgg('fatal', 'count')) \n",
    "shark_per_country.sort_values('attacks', ascending=False).T"
   ]
  },
  {
   "cell_type": "code",
   "execution_count": 32,
   "id": "b8aa8e32",
   "metadata": {},
   "outputs": [
    {
     "data": {
      "text/plain": [
       "country           year\n",
       "admiraltyislands  1962    1\n",
       "africa            1846    1\n",
       "algeria           1844    1\n",
       "americansamoa     1954    1\n",
       "                  1955    1\n",
       "                         ..\n",
       "yemen             1898    3\n",
       "                  1901    1\n",
       "                  1906    1\n",
       "                  1955    1\n",
       "                  2007    1\n",
       "Name: year, Length: 1901, dtype: int64"
      ]
     },
     "execution_count": 32,
     "metadata": {},
     "output_type": "execute_result"
    }
   ],
   "source": [
    "sharkfatal = pd.DataFrame(sharkfatal)\n",
    "fatalyeargroup = sharkfatal.groupby(['country','year'])['year'].count()\n",
    "fatalyeargroup"
   ]
  },
  {
   "cell_type": "code",
   "execution_count": 33,
   "id": "0cdc0b05",
   "metadata": {},
   "outputs": [
    {
     "data": {
      "text/html": [
       "<div>\n",
       "<style scoped>\n",
       "    .dataframe tbody tr th:only-of-type {\n",
       "        vertical-align: middle;\n",
       "    }\n",
       "\n",
       "    .dataframe tbody tr th {\n",
       "        vertical-align: top;\n",
       "    }\n",
       "\n",
       "    .dataframe thead th {\n",
       "        text-align: right;\n",
       "    }\n",
       "</style>\n",
       "<table border=\"1\" class=\"dataframe\">\n",
       "  <thead>\n",
       "    <tr style=\"text-align: right;\">\n",
       "      <th></th>\n",
       "      <th></th>\n",
       "      <th>year</th>\n",
       "    </tr>\n",
       "    <tr>\n",
       "      <th>country</th>\n",
       "      <th>year</th>\n",
       "      <th></th>\n",
       "    </tr>\n",
       "  </thead>\n",
       "  <tbody>\n",
       "    <tr>\n",
       "      <th rowspan=\"5\" valign=\"top\">yemen</th>\n",
       "      <th>2007</th>\n",
       "      <td>1</td>\n",
       "    </tr>\n",
       "    <tr>\n",
       "      <th>1955</th>\n",
       "      <td>1</td>\n",
       "    </tr>\n",
       "    <tr>\n",
       "      <th>1906</th>\n",
       "      <td>1</td>\n",
       "    </tr>\n",
       "    <tr>\n",
       "      <th>1901</th>\n",
       "      <td>1</td>\n",
       "    </tr>\n",
       "    <tr>\n",
       "      <th>1898</th>\n",
       "      <td>3</td>\n",
       "    </tr>\n",
       "    <tr>\n",
       "      <th>...</th>\n",
       "      <th>...</th>\n",
       "      <td>...</td>\n",
       "    </tr>\n",
       "    <tr>\n",
       "      <th rowspan=\"2\" valign=\"top\">americansamoa</th>\n",
       "      <th>1955</th>\n",
       "      <td>1</td>\n",
       "    </tr>\n",
       "    <tr>\n",
       "      <th>1954</th>\n",
       "      <td>1</td>\n",
       "    </tr>\n",
       "    <tr>\n",
       "      <th>algeria</th>\n",
       "      <th>1844</th>\n",
       "      <td>1</td>\n",
       "    </tr>\n",
       "    <tr>\n",
       "      <th>africa</th>\n",
       "      <th>1846</th>\n",
       "      <td>1</td>\n",
       "    </tr>\n",
       "    <tr>\n",
       "      <th>admiraltyislands</th>\n",
       "      <th>1962</th>\n",
       "      <td>1</td>\n",
       "    </tr>\n",
       "  </tbody>\n",
       "</table>\n",
       "<p>1901 rows × 1 columns</p>\n",
       "</div>"
      ],
      "text/plain": [
       "                       year\n",
       "country          year      \n",
       "yemen            2007     1\n",
       "                 1955     1\n",
       "                 1906     1\n",
       "                 1901     1\n",
       "                 1898     3\n",
       "...                     ...\n",
       "americansamoa    1955     1\n",
       "                 1954     1\n",
       "algeria          1844     1\n",
       "africa           1846     1\n",
       "admiraltyislands 1962     1\n",
       "\n",
       "[1901 rows x 1 columns]"
      ]
     },
     "execution_count": 33,
     "metadata": {},
     "output_type": "execute_result"
    }
   ],
   "source": [
    "fatalyeargroup = pd.DataFrame(fatalyeargroup)\n",
    "fatalyeargroup.sort_values('country', ascending=False)"
   ]
  },
  {
   "cell_type": "markdown",
   "id": "ecca1577",
   "metadata": {},
   "source": [
    "limpar anos (trabalhar anos de 1900 para frente )"
   ]
  },
  {
   "cell_type": "code",
   "execution_count": null,
   "id": "5503ad35",
   "metadata": {},
   "outputs": [],
   "source": []
  },
  {
   "cell_type": "code",
   "execution_count": 34,
   "id": "ad9b8a1e",
   "metadata": {},
   "outputs": [
    {
     "data": {
      "text/plain": [
       "fatal    age_range \n",
       "n        adult         1135\n",
       "         child          223\n",
       "         elderly         57\n",
       "         middle-age     566\n",
       "         teen           603\n",
       "         toddler          2\n",
       "         unknown          1\n",
       "         unkonwn       1714\n",
       "unknown  adult           98\n",
       "         child           26\n",
       "         elderly          9\n",
       "         middle-age      62\n",
       "         teen            41\n",
       "         toddler          2\n",
       "         unkonwn        374\n",
       "y        adult          284\n",
       "         child           36\n",
       "         elderly         23\n",
       "         middle-age     107\n",
       "         teen           156\n",
       "         toddler          4\n",
       "         unknown          1\n",
       "         unkonwn        778\n",
       "Name: fatal, dtype: int64"
      ]
     },
     "execution_count": 34,
     "metadata": {},
     "output_type": "execute_result"
    }
   ],
   "source": [
    "fatalage = sharkfatal.groupby(['fatal','age_range'])['fatal'].count()\n",
    "fatalage"
   ]
  },
  {
   "cell_type": "code",
   "execution_count": 35,
   "id": "dac4e8cf",
   "metadata": {},
   "outputs": [
    {
     "data": {
      "text/html": [
       "<div>\n",
       "<style scoped>\n",
       "    .dataframe tbody tr th:only-of-type {\n",
       "        vertical-align: middle;\n",
       "    }\n",
       "\n",
       "    .dataframe tbody tr th {\n",
       "        vertical-align: top;\n",
       "    }\n",
       "\n",
       "    .dataframe thead th {\n",
       "        text-align: right;\n",
       "    }\n",
       "</style>\n",
       "<table border=\"1\" class=\"dataframe\">\n",
       "  <thead>\n",
       "    <tr style=\"text-align: right;\">\n",
       "      <th></th>\n",
       "      <th></th>\n",
       "      <th>fatal</th>\n",
       "    </tr>\n",
       "    <tr>\n",
       "      <th>fatal</th>\n",
       "      <th>age_range</th>\n",
       "      <th></th>\n",
       "    </tr>\n",
       "  </thead>\n",
       "  <tbody>\n",
       "    <tr>\n",
       "      <th>n</th>\n",
       "      <th>adult</th>\n",
       "      <td>1135</td>\n",
       "    </tr>\n",
       "    <tr>\n",
       "      <th>y</th>\n",
       "      <th>adult</th>\n",
       "      <td>284</td>\n",
       "    </tr>\n",
       "    <tr>\n",
       "      <th>unknown</th>\n",
       "      <th>adult</th>\n",
       "      <td>98</td>\n",
       "    </tr>\n",
       "    <tr>\n",
       "      <th>n</th>\n",
       "      <th>child</th>\n",
       "      <td>223</td>\n",
       "    </tr>\n",
       "    <tr>\n",
       "      <th>y</th>\n",
       "      <th>child</th>\n",
       "      <td>36</td>\n",
       "    </tr>\n",
       "    <tr>\n",
       "      <th>unknown</th>\n",
       "      <th>child</th>\n",
       "      <td>26</td>\n",
       "    </tr>\n",
       "    <tr>\n",
       "      <th>n</th>\n",
       "      <th>elderly</th>\n",
       "      <td>57</td>\n",
       "    </tr>\n",
       "    <tr>\n",
       "      <th>y</th>\n",
       "      <th>elderly</th>\n",
       "      <td>23</td>\n",
       "    </tr>\n",
       "    <tr>\n",
       "      <th>unknown</th>\n",
       "      <th>elderly</th>\n",
       "      <td>9</td>\n",
       "    </tr>\n",
       "    <tr>\n",
       "      <th>y</th>\n",
       "      <th>middle-age</th>\n",
       "      <td>107</td>\n",
       "    </tr>\n",
       "    <tr>\n",
       "      <th>unknown</th>\n",
       "      <th>middle-age</th>\n",
       "      <td>62</td>\n",
       "    </tr>\n",
       "    <tr>\n",
       "      <th>n</th>\n",
       "      <th>middle-age</th>\n",
       "      <td>566</td>\n",
       "    </tr>\n",
       "    <tr>\n",
       "      <th>unknown</th>\n",
       "      <th>teen</th>\n",
       "      <td>41</td>\n",
       "    </tr>\n",
       "    <tr>\n",
       "      <th>n</th>\n",
       "      <th>teen</th>\n",
       "      <td>603</td>\n",
       "    </tr>\n",
       "    <tr>\n",
       "      <th>y</th>\n",
       "      <th>teen</th>\n",
       "      <td>156</td>\n",
       "    </tr>\n",
       "    <tr>\n",
       "      <th>unknown</th>\n",
       "      <th>toddler</th>\n",
       "      <td>2</td>\n",
       "    </tr>\n",
       "    <tr>\n",
       "      <th>n</th>\n",
       "      <th>toddler</th>\n",
       "      <td>2</td>\n",
       "    </tr>\n",
       "    <tr>\n",
       "      <th rowspan=\"2\" valign=\"top\">y</th>\n",
       "      <th>toddler</th>\n",
       "      <td>4</td>\n",
       "    </tr>\n",
       "    <tr>\n",
       "      <th>unknown</th>\n",
       "      <td>1</td>\n",
       "    </tr>\n",
       "    <tr>\n",
       "      <th>n</th>\n",
       "      <th>unknown</th>\n",
       "      <td>1</td>\n",
       "    </tr>\n",
       "    <tr>\n",
       "      <th>unknown</th>\n",
       "      <th>unkonwn</th>\n",
       "      <td>374</td>\n",
       "    </tr>\n",
       "    <tr>\n",
       "      <th>n</th>\n",
       "      <th>unkonwn</th>\n",
       "      <td>1714</td>\n",
       "    </tr>\n",
       "    <tr>\n",
       "      <th>y</th>\n",
       "      <th>unkonwn</th>\n",
       "      <td>778</td>\n",
       "    </tr>\n",
       "  </tbody>\n",
       "</table>\n",
       "</div>"
      ],
      "text/plain": [
       "                    fatal\n",
       "fatal   age_range        \n",
       "n       adult        1135\n",
       "y       adult         284\n",
       "unknown adult          98\n",
       "n       child         223\n",
       "y       child          36\n",
       "unknown child          26\n",
       "n       elderly        57\n",
       "y       elderly        23\n",
       "unknown elderly         9\n",
       "y       middle-age    107\n",
       "unknown middle-age     62\n",
       "n       middle-age    566\n",
       "unknown teen           41\n",
       "n       teen          603\n",
       "y       teen          156\n",
       "unknown toddler         2\n",
       "n       toddler         2\n",
       "y       toddler         4\n",
       "        unknown         1\n",
       "n       unknown         1\n",
       "unknown unkonwn       374\n",
       "n       unkonwn      1714\n",
       "y       unkonwn       778"
      ]
     },
     "execution_count": 35,
     "metadata": {},
     "output_type": "execute_result"
    }
   ],
   "source": [
    "fatalage = pd.DataFrame(fatalage)\n",
    "fatalage.sort_values('age_range')"
   ]
  },
  {
   "cell_type": "code",
   "execution_count": 36,
   "id": "66e79069",
   "metadata": {},
   "outputs": [
    {
     "data": {
      "text/plain": [
       "fatal  age_range  year\n",
       "n      adult      0       4\n",
       "                  1703    1\n",
       "                  1839    1\n",
       "                  1862    1\n",
       "                  1873    1\n",
       "                         ..\n",
       "y      unkonwn    2006    5\n",
       "                  2007    3\n",
       "                  2008    1\n",
       "                  2009    3\n",
       "                  2017    2\n",
       "Name: fatal, Length: 1437, dtype: int64"
      ]
     },
     "execution_count": 36,
     "metadata": {},
     "output_type": "execute_result"
    }
   ],
   "source": [
    "fatalyearage = sharkfatal.groupby(['fatal','age_range','year'])['fatal'].count()\n",
    "fatalyearage"
   ]
  },
  {
   "cell_type": "code",
   "execution_count": null,
   "id": "46f39707",
   "metadata": {},
   "outputs": [],
   "source": []
  }
 ],
 "metadata": {
  "kernelspec": {
   "display_name": "Python 3",
   "language": "python",
   "name": "python3"
  },
  "language_info": {
   "codemirror_mode": {
    "name": "ipython",
    "version": 3
   },
   "file_extension": ".py",
   "mimetype": "text/x-python",
   "name": "python",
   "nbconvert_exporter": "python",
   "pygments_lexer": "ipython3",
   "version": "3.8.8"
  }
 },
 "nbformat": 4,
 "nbformat_minor": 5
}
