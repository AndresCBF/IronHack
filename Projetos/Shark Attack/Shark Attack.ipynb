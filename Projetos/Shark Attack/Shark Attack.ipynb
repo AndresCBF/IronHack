{
 "cells": [
  {
   "cell_type": "markdown",
   "id": "1a56d533",
   "metadata": {},
   "source": [
    "# 1 Importar Livrerias \n",
    "### Pandas e Numpy"
   ]
  },
  {
   "cell_type": "code",
   "execution_count": null,
   "id": "1f3bdb35",
   "metadata": {},
   "outputs": [],
   "source": [
    "import pandas as pd\n",
    "import numpy as np"
   ]
  },
  {
   "cell_type": "markdown",
   "id": "cac2b5d4",
   "metadata": {},
   "source": [
    "# 2 Ler arquivo arquivo CSV\n",
    "### Revisar tipo de separador decodificador nas primeras lineas de informação  "
   ]
  },
  {
   "cell_type": "code",
   "execution_count": null,
   "id": "d045ca5f",
   "metadata": {},
   "outputs": [],
   "source": [
    "file = open('C:/Users/forqu/OneDrive/Documentos/IronHack/Github/Projetos/Shark Attack/attacks.csv', 'rb')\n",
    "file_lines = file.readlines(10000)\n",
    "for i in range(5):\n",
    "    print(file_lines[i].decode('latin-1'))\n",
    "file.close()"
   ]
  },
  {
   "cell_type": "markdown",
   "id": "1271cc00",
   "metadata": {},
   "source": [
    "Criar o DataSet com as informações do arquivo "
   ]
  },
  {
   "cell_type": "code",
   "execution_count": null,
   "id": "c360fd70",
   "metadata": {},
   "outputs": [],
   "source": [
    "sharkattack=pd.read_csv('C:/Users/forqu/OneDrive/Documentos/IronHack/Github/Projetos/Shark Attack/attacks.csv', sep = ',', decimal = '.', encoding = 'latin-1')"
   ]
  },
  {
   "cell_type": "markdown",
   "id": "5074cf9b",
   "metadata": {},
   "source": [
    "# 3 Conhecer o DataSet \n",
    "### Revisar informações DataSet"
   ]
  },
  {
   "cell_type": "code",
   "execution_count": null,
   "id": "bd648a4e",
   "metadata": {},
   "outputs": [],
   "source": [
    "sharkattack.head()"
   ]
  },
  {
   "cell_type": "code",
   "execution_count": null,
   "id": "f4638c64",
   "metadata": {},
   "outputs": [],
   "source": [
    "sharkattack.info()"
   ]
  },
  {
   "cell_type": "markdown",
   "id": "07040b99",
   "metadata": {},
   "source": [
    "Revisar informação de Columnas Unnamed  "
   ]
  },
  {
   "cell_type": "code",
   "execution_count": null,
   "id": "2a0f09c5",
   "metadata": {},
   "outputs": [],
   "source": [
    "sharkattack['Unnamed: 22'].value_counts()"
   ]
  },
  {
   "cell_type": "code",
   "execution_count": null,
   "id": "b02a5c6e",
   "metadata": {},
   "outputs": [],
   "source": [
    "sharkattack['Unnamed: 23'].value_counts()"
   ]
  },
  {
   "cell_type": "markdown",
   "id": "60ac0c9f",
   "metadata": {},
   "source": [
    "Eliminar Columnas Unnamed"
   ]
  },
  {
   "cell_type": "code",
   "execution_count": null,
   "id": "0bb68d03",
   "metadata": {},
   "outputs": [],
   "source": [
    "sharkattack = sharkattack.drop(['Unnamed: 22','Unnamed: 23'],  axis=1)"
   ]
  },
  {
   "cell_type": "markdown",
   "id": "57343d8b",
   "metadata": {},
   "source": [
    "### Padronizar nomes colunas"
   ]
  },
  {
   "cell_type": "code",
   "execution_count": null,
   "id": "57c423ba",
   "metadata": {},
   "outputs": [],
   "source": [
    "sharkattack.columns"
   ]
  },
  {
   "cell_type": "code",
   "execution_count": null,
   "id": "b67c4e62",
   "metadata": {},
   "outputs": [],
   "source": [
    "sharkattack.columns = [column.lower().replace(' ', '_').replace('(', '').replace(')', '').replace('.', '_') for column in sharkattack.columns]\n",
    "sharkattack.columns"
   ]
  },
  {
   "cell_type": "code",
   "execution_count": null,
   "id": "f352257e",
   "metadata": {},
   "outputs": [],
   "source": [
    "sharkattack = sharkattack.rename(columns={\"sex_\": \"sex\", \"species_\": \"species\"})\n",
    "sharkattack.columns"
   ]
  },
  {
   "cell_type": "code",
   "execution_count": null,
   "id": "7cf24d3a",
   "metadata": {},
   "outputs": [],
   "source": [
    "sharkattack.info()"
   ]
  },
  {
   "cell_type": "markdown",
   "id": "33b4dbdc",
   "metadata": {},
   "source": [
    "### Entender distribucion Na\n",
    "% Na por columnas "
   ]
  },
  {
   "cell_type": "code",
   "execution_count": null,
   "id": "43cef631",
   "metadata": {},
   "outputs": [],
   "source": [
    "sharkattack.isna().sum(axis = 0)\n",
    "(sharkattack.isna().sum(axis = 0)/len(sharkattack)).round(2)"
   ]
  },
  {
   "cell_type": "markdown",
   "id": "48e39595",
   "metadata": {},
   "source": [
    "Na por filas"
   ]
  },
  {
   "cell_type": "code",
   "execution_count": null,
   "id": "b1592ec9",
   "metadata": {},
   "outputs": [],
   "source": [
    "sharkattack.isna().sum(axis = 1)\n",
    "(sharkattack.isna().sum(axis = 1)/len(sharkattack.columns)).describe().round(2)\n",
    "(sharkattack.isna().sum(axis = 1)/len(sharkattack.columns)).quantile([.05, .10 , .15, .20, .21, .22, .23, .24, .25])"
   ]
  },
  {
   "cell_type": "markdown",
   "id": "edb0a974",
   "metadata": {},
   "source": []
  },
  {
   "cell_type": "code",
   "execution_count": null,
   "id": "2fca10c5",
   "metadata": {},
   "outputs": [],
   "source": [
    "case_number_notna = sharkattack[['case_number','case_number_1','case_number_2']].dropna(axis=0, how='all')\n",
    "case_number_notna"
   ]
  },
  {
   "cell_type": "code",
   "execution_count": null,
   "id": "014972a0",
   "metadata": {},
   "outputs": [],
   "source": [
    "case_number_notna['duplicado'] = np.where(case_number_notna['case_number'] == case_number_notna['case_number_1'] ,'Duplicated case & case 1' ,\n",
    "                                          np.where(case_number_notna['case_number'] == case_number_notna['case_number_2'] ,'Duplicated case & case 2' ,\n",
    "                                                   np.where(case_number_notna['case_number_1'] == case_number_notna['case_number_2'] ,'Duplicated case 1 & case 2' ,\n",
    "                                                            'Not Duplicated')))\n",
    "case_number_notna['duplicado'].value_counts()"
   ]
  },
  {
   "cell_type": "code",
   "execution_count": null,
   "id": "aa2462da",
   "metadata": {},
   "outputs": [],
   "source": [
    "sharkattack['case_number'].value_counts()"
   ]
  },
  {
   "cell_type": "code",
   "execution_count": null,
   "id": "a2a8be2b",
   "metadata": {},
   "outputs": [],
   "source": [
    "sharkattack['case_number_1'].value_counts()"
   ]
  },
  {
   "cell_type": "code",
   "execution_count": null,
   "id": "4787aa03",
   "metadata": {},
   "outputs": [],
   "source": [
    "sharkattack['case_number_2'].value_counts()"
   ]
  },
  {
   "cell_type": "code",
   "execution_count": null,
   "id": "92330d76",
   "metadata": {},
   "outputs": [],
   "source": [
    "sharkattack['case_number_con'] = np.where(sharkattack['case_number'].notna() & sharkattack['case_number_1'].notna() & sharkattack['case_number_2'].notna(), sharkattack['case_number'] + '-' + sharkattack['case_number_1'] + '-' + sharkattack['case_number_2'],\n",
    "                                          np.where(sharkattack['case_number'].isna() & sharkattack['case_number_1'].notna() & sharkattack['case_number_2'].notna(), sharkattack['case_number_1'] + '-' + sharkattack['case_number_2'],\n",
    "                                                   np.where(sharkattack['case_number'].isna() & sharkattack['case_number_1'].isna() & sharkattack['case_number_2'].notna(), sharkattack['case_number_2'],\n",
    "                                                                     np.where(sharkattack['case_number'].isna() & sharkattack['case_number_1'].notna() & sharkattack['case_number_2'].isna(), sharkattack['case_number_1'],\n",
    "                                                                              np.where(sharkattack['case_number'].notna() & sharkattack['case_number_1'].notna() & sharkattack['case_number_2'].isna(),sharkattack['case_number'] + '-' + sharkattack['case_number_1'],\n",
    "                                                                                      np.where(sharkattack['case_number'].notna() & sharkattack['case_number_1'].isna() & sharkattack['case_number_2'].notna(),sharkattack['case_number'] + '-' + sharkattack['case_number_2'],\n",
    "                                                                                              np.where(sharkattack['case_number'].notna() & sharkattack['case_number_1'].isna() & sharkattack['case_number_2'].isna(), sharkattack['case_number'],\n",
    "                                                                                                      pd.NA)))))))"
   ]
  },
  {
   "cell_type": "code",
   "execution_count": null,
   "id": "a3819b3f",
   "metadata": {},
   "outputs": [],
   "source": [
    "sharkattack['case_number_con'].value_counts()"
   ]
  },
  {
   "cell_type": "code",
   "execution_count": null,
   "id": "01350ee8",
   "metadata": {},
   "outputs": [],
   "source": []
  },
  {
   "cell_type": "code",
   "execution_count": null,
   "id": "a867ba62",
   "metadata": {},
   "outputs": [],
   "source": []
  },
  {
   "cell_type": "code",
   "execution_count": null,
   "id": "0cdc0b05",
   "metadata": {},
   "outputs": [],
   "source": [
    "sharkattack['na_values'] = sharkattack.isna().sum(axis = 1)"
   ]
  },
  {
   "cell_type": "code",
   "execution_count": null,
   "id": "f1c10b7e",
   "metadata": {},
   "outputs": [],
   "source": [
    "sharkattack['date'].value_counts()"
   ]
  },
  {
   "cell_type": "code",
   "execution_count": null,
   "id": "66adb29a",
   "metadata": {},
   "outputs": [],
   "source": [
    "sharkattack['year'].value_counts()"
   ]
  },
  {
   "cell_type": "code",
   "execution_count": null,
   "id": "da09efdc",
   "metadata": {},
   "outputs": [],
   "source": [
    "sharkattack['type'].value_counts()"
   ]
  },
  {
   "cell_type": "code",
   "execution_count": null,
   "id": "bdff6331",
   "metadata": {},
   "outputs": [],
   "source": [
    "sharkattack['country'].value_counts()"
   ]
  },
  {
   "cell_type": "code",
   "execution_count": null,
   "id": "ad9b8a1e",
   "metadata": {},
   "outputs": [],
   "source": [
    "sharkattack['area'].value_counts()"
   ]
  },
  {
   "cell_type": "code",
   "execution_count": null,
   "id": "dac4e8cf",
   "metadata": {},
   "outputs": [],
   "source": [
    "sharkattack[sharkattack['num_val_na'] < 10]"
   ]
  }
 ],
 "metadata": {
  "kernelspec": {
   "display_name": "Python 3",
   "language": "python",
   "name": "python3"
  },
  "language_info": {
   "codemirror_mode": {
    "name": "ipython",
    "version": 3
   },
   "file_extension": ".py",
   "mimetype": "text/x-python",
   "name": "python",
   "nbconvert_exporter": "python",
   "pygments_lexer": "ipython3",
   "version": "3.8.8"
  }
 },
 "nbformat": 4,
 "nbformat_minor": 5
}
