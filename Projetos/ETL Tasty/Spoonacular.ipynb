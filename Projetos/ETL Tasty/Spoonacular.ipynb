{
 "cells": [
  {
   "cell_type": "code",
   "execution_count": 9,
   "id": "dccdf3c7",
   "metadata": {},
   "outputs": [],
   "source": [
    "import pandas as pd\n",
    "import numpy as np \n",
    "import requests\n",
    "import json"
   ]
  },
  {
   "cell_type": "code",
   "execution_count": 61,
   "id": "2b3eda60",
   "metadata": {},
   "outputs": [],
   "source": [
    "key = open('Keys/spoonacular_Key.txt','r').read()\n",
    "host = \"spoonacular-recipe-food-nutrition-v1.p.rapidapi.com\"\n",
    "headers = {'x-rapidapi-host': host,'x-rapidapi-key': key }\n",
    "querystring = {\"number\":\"500\"}"
   ]
  },
  {
   "cell_type": "code",
   "execution_count": 62,
   "id": "979e48ef",
   "metadata": {},
   "outputs": [],
   "source": [
    "url = \"https://spoonacular-recipe-food-nutrition-v1.p.rapidapi.com/recipes/random\"\n",
    "response = requests.request(\"GET\", url, headers=headers, params=querystring)\n",
    "recipes = json.loads(response.text)"
   ]
  },
  {
   "cell_type": "code",
   "execution_count": 67,
   "id": "2606438c",
   "metadata": {},
   "outputs": [
    {
     "data": {
      "text/plain": [
       "dict_keys(['vegetarian', 'vegan', 'glutenFree', 'dairyFree', 'veryHealthy', 'cheap', 'veryPopular', 'sustainable', 'weightWatcherSmartPoints', 'gaps', 'lowFodmap', 'aggregateLikes', 'spoonacularScore', 'healthScore', 'creditsText', 'license', 'sourceName', 'pricePerServing', 'extendedIngredients', 'id', 'title', 'readyInMinutes', 'servings', 'sourceUrl', 'image', 'imageType', 'summary', 'cuisines', 'dishTypes', 'diets', 'occasions', 'instructions', 'analyzedInstructions', 'originalId', 'spoonacularSourceUrl'])"
      ]
     },
     "execution_count": 67,
     "metadata": {},
     "output_type": "execute_result"
    }
   ],
   "source": [
    "recipes['recipes'][99].keys()"
   ]
  },
  {
   "cell_type": "code",
   "execution_count": 77,
   "id": "ee964540",
   "metadata": {},
   "outputs": [
    {
     "data": {
      "text/plain": [
       "['turkish', 'baharat', 'meatballs', 'with', 'lentil', 'pilaf']"
      ]
     },
     "execution_count": 77,
     "metadata": {},
     "output_type": "execute_result"
    }
   ],
   "source": [
    "recipes['recipes'][0]['title'].lower().split(' ')"
   ]
  },
  {
   "cell_type": "code",
   "execution_count": null,
   "id": "c4023318",
   "metadata": {},
   "outputs": [],
   "source": [
    "def  country (tags):\n",
    "    '''\n",
    "    Function return a country name, form a list of tags in a recipe \n",
    "    \n",
    "    Example1:\n",
    "    tags = ['spatula', 'mixing_bowl', 'sauce_pan', 'desserts', 'deep_fry', 'indulgent_sweets', \n",
    "            'stove_top', 'sieve', 'tongs', 'dry_measuring_cups', 'liquid_measuring_cup', \n",
    "            'american', 'measuring_spoons', 'snacks', 'easy', 'kid_friendly', 'comfort_food', \n",
    "            'chefs_knife', 'cutting_board', 'pyrex', '3_musketeers']\n",
    "    return = United States\n",
    "    Example2:\n",
    "    tag = ['chinese', 'stove_top', 'chefs_knife', 'indulgent_sweets', 'measuring_spoons', \n",
    "           'saute_pan', 'liquid_measuring_cup', 'plastic_wrap', 'spatula', 'mixing_bowl', \n",
    "           'lunar_new_year', 'desserts']\n",
    "    return = China\n",
    "    '''\n",
    "    tag_country={'vietnamese':'Vietnam','venezuelan':'Venezuela','thai':'Thailand','taiwanese':'Taiwan',\n",
    "                 'swedish':'Sweden','south african':'South Africa','puerto rican':'Puerto Rico','peruvian':'Peru',\n",
    "                 'persian':'Iran','mexican':'Mexico','lebanese':'Lebanon', 'laotian':'Laos','korean':'Korea',\n",
    "                 'kenyan':'Kenya','japanese':'Japan','jamaican':'Jamaica', 'italian':'Italy','indian':'India',\n",
    "                 'hawaiian':'United States','haitian':'Haiti', 'greek':'Greece','german':'Germany','french':'France',\n",
    "                 'filipino':'Philippines','ethiopian':'Ethiopia', 'dominican':'Dominican Republic','cuban':'Cuba',\n",
    "                 'chinese':'China','british':'United Kingdom','brazilian':'Brazil','american':'United States',\n",
    "                 'turkish':'Turkey'}\n",
    "    \n",
    "    for tag in title.lower().slit(' '):\n",
    "        if tag in tag_country.keys():\n",
    "            country = tag_country[tag]\n",
    "            return country"
   ]
  },
  {
   "cell_type": "code",
   "execution_count": 79,
   "id": "a761d33e",
   "metadata": {},
   "outputs": [
    {
     "ename": "AttributeError",
     "evalue": "'str' object has no attribute 'apply'",
     "output_type": "error",
     "traceback": [
      "\u001b[1;31m---------------------------------------------------------------------------\u001b[0m",
      "\u001b[1;31mAttributeError\u001b[0m                            Traceback (most recent call last)",
      "\u001b[1;32m<ipython-input-79-61c6baf06c4e>\u001b[0m in \u001b[0;36m<module>\u001b[1;34m\u001b[0m\n\u001b[1;32m----> 1\u001b[1;33m \u001b[0mrecipes\u001b[0m\u001b[1;33m[\u001b[0m\u001b[1;34m'country'\u001b[0m\u001b[1;33m]\u001b[0m \u001b[1;33m=\u001b[0m \u001b[0mrecipes\u001b[0m\u001b[1;33m[\u001b[0m\u001b[1;34m'recipes'\u001b[0m\u001b[1;33m]\u001b[0m\u001b[1;33m[\u001b[0m\u001b[1;36m0\u001b[0m\u001b[1;33m]\u001b[0m\u001b[1;33m[\u001b[0m\u001b[1;34m'title'\u001b[0m\u001b[1;33m]\u001b[0m\u001b[1;33m.\u001b[0m\u001b[0mapply\u001b[0m\u001b[1;33m(\u001b[0m\u001b[0mcountry\u001b[0m\u001b[1;33m)\u001b[0m\u001b[1;33m\u001b[0m\u001b[1;33m\u001b[0m\u001b[0m\n\u001b[0m",
      "\u001b[1;31mAttributeError\u001b[0m: 'str' object has no attribute 'apply'"
     ]
    }
   ],
   "source": []
  },
  {
   "cell_type": "code",
   "execution_count": 39,
   "id": "5680bbe6",
   "metadata": {},
   "outputs": [
    {
     "data": {
      "text/plain": [
       "{'id': 9003,\n",
       " 'aisle': 'Produce',\n",
       " 'image': 'apple.jpg',\n",
       " 'consistency': 'solid',\n",
       " 'name': 'apples',\n",
       " 'nameClean': 'apple',\n",
       " 'original': '3 large McIntosh apples, peeled, cored and finely chopped',\n",
       " 'originalName': 'McIntosh apples, peeled, cored and finely chopped',\n",
       " 'amount': 3.0,\n",
       " 'unit': 'large',\n",
       " 'meta': ['cored', 'peeled', 'finely chopped'],\n",
       " 'measures': {'us': {'amount': 3.0,\n",
       "   'unitShort': 'large',\n",
       "   'unitLong': 'larges'},\n",
       "  'metric': {'amount': 3.0, 'unitShort': 'large', 'unitLong': 'larges'}}}"
      ]
     },
     "execution_count": 39,
     "metadata": {},
     "output_type": "execute_result"
    }
   ],
   "source": [
    "recipes['recipes'][0]['extendedIngredients'][0]"
   ]
  },
  {
   "cell_type": "code",
   "execution_count": null,
   "id": "e3e921c9",
   "metadata": {},
   "outputs": [],
   "source": []
  }
 ],
 "metadata": {
  "kernelspec": {
   "display_name": "Python 3",
   "language": "python",
   "name": "python3"
  },
  "language_info": {
   "codemirror_mode": {
    "name": "ipython",
    "version": 3
   },
   "file_extension": ".py",
   "mimetype": "text/x-python",
   "name": "python",
   "nbconvert_exporter": "python",
   "pygments_lexer": "ipython3",
   "version": "3.8.8"
  }
 },
 "nbformat": 4,
 "nbformat_minor": 5
}
