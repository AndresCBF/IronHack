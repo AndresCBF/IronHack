{
 "cells": [
  {
   "cell_type": "markdown",
   "metadata": {
    "colab_type": "text",
    "id": "IDajsaA66_XV"
   },
   "source": [
    "![Ironhack logo](https://i.imgur.com/1QgrNNw.png)\n",
    "# LAB | Statistics Visualization\n",
    "\n",
    "## Introduction\n",
    "We'll use the datasets to have a deeper understanding of some important variable distributions.\n",
    "\n",
    "We'll understand how to:\n",
    "- have a glance on the statistics distribution just by observing the main statistical numerical description of our dataset.\n",
    "- understand the effect of a normal and non-normal distribution on our outlier analysis\n",
    "- understand how one variable can impact on another variable distribution"
   ]
  },
  {
   "cell_type": "markdown",
   "metadata": {
    "colab_type": "text",
    "id": "onNqQWXN6_XY"
   },
   "source": [
    "## Import libraries "
   ]
  },
  {
   "cell_type": "code",
   "execution_count": 1,
   "metadata": {
    "ExecuteTime": {
     "end_time": "2020-04-06T03:11:02.341542Z",
     "start_time": "2020-04-06T03:11:01.633436Z"
    },
    "colab": {},
    "colab_type": "code",
    "id": "XReTo0-96_XY"
   },
   "outputs": [],
   "source": [
    "import pandas as pd\n",
    "import numpy as np\n",
    "import matplotlib.pyplot as plt\n",
    "import seaborn as sns"
   ]
  },
  {
   "cell_type": "markdown",
   "metadata": {
    "colab_type": "text",
    "id": "1TkZPHRk6_Xb"
   },
   "source": [
    "## Read dataset from `weight-height-money.csv`.\n",
    "\n",
    "Take a look at the first rows of the dataset."
   ]
  },
  {
   "cell_type": "code",
   "execution_count": null,
   "metadata": {
    "ExecuteTime": {
     "end_time": "2020-04-06T04:20:35.568509Z",
     "start_time": "2020-04-06T04:20:35.565517Z"
    },
    "colab": {},
    "colab_type": "code",
    "id": "DxmxwuGY6_Xb"
   },
   "outputs": [],
   "source": [
    "# your answer here\n",
    "pandas.read_csv()"
   ]
  },
  {
   "cell_type": "markdown",
   "metadata": {
    "colab_type": "text",
    "id": "5dT2rAyw6_Xe"
   },
   "source": [
    "## Use the describe method to understand the data."
   ]
  },
  {
   "cell_type": "code",
   "execution_count": null,
   "metadata": {
    "ExecuteTime": {
     "end_time": "2020-04-06T04:20:07.002350Z",
     "start_time": "2020-04-06T04:20:06.998360Z"
    },
    "colab": {},
    "colab_type": "code",
    "id": "2s8i42qY6_Xe"
   },
   "outputs": [],
   "source": [
    "# your answer here"
   ]
  },
  {
   "cell_type": "markdown",
   "metadata": {
    "colab_type": "text",
    "id": "QMuYYMkC6_Xg"
   },
   "source": [
    "## What can you observe? Compare mean and median values for each variable of our dataset."
   ]
  },
  {
   "cell_type": "code",
   "execution_count": null,
   "metadata": {
    "colab": {},
    "colab_type": "code",
    "id": "KTT7N4Xv6_Xh"
   },
   "outputs": [],
   "source": [
    "# your answer here"
   ]
  },
  {
   "cell_type": "markdown",
   "metadata": {
    "colab_type": "text",
    "id": "97z21EZ56_Xj"
   },
   "source": [
    "## From that observation, what can you conclude? Can you imagine which kind of distribution each one has?\n",
    "\n",
    "Try to predict which category each variable most likely seems to fall into (without plotting it yet):\n",
    "- Left skewed\n",
    "- Right skewed\n",
    "- Gaussian-like\n",
    "\n",
    "_hint: Remember the effect of outliers on the mean and median values. Usually, the comparison between mean and median already leads us to meaningful insights regarding the variable's distribution. If mean and median are close, you can suppose that most of the data is concentrated in a region within the mean. However, if median and mean are far apart, you can suppose that some observations are pulling the mean closer to them._"
   ]
  },
  {
   "cell_type": "code",
   "execution_count": null,
   "metadata": {
    "colab": {},
    "colab_type": "code",
    "id": "e6Pm83sN6_Xj"
   },
   "outputs": [],
   "source": [
    "# your answer here"
   ]
  },
  {
   "cell_type": "markdown",
   "metadata": {
    "colab_type": "text",
    "id": "SZ5EUnL36_Xl"
   },
   "source": [
    "# Univariate Analysis"
   ]
  },
  {
   "cell_type": "markdown",
   "metadata": {
    "colab_type": "text",
    "id": "MonHc-Dv6_Xm"
   },
   "source": [
    "## Gender count\n",
    "\n",
    "Count how many Male and Female exist on this dataset using pandas. "
   ]
  },
  {
   "cell_type": "code",
   "execution_count": null,
   "metadata": {
    "ExecuteTime": {
     "end_time": "2020-04-06T04:21:26.005141Z",
     "start_time": "2020-04-06T04:21:26.002149Z"
    },
    "colab": {},
    "colab_type": "code",
    "id": "550hCUU26_Xm"
   },
   "outputs": [],
   "source": [
    "# your answer here"
   ]
  },
  {
   "cell_type": "markdown",
   "metadata": {
    "colab_type": "text",
    "id": "8PYiGbsg6_Xo"
   },
   "source": [
    "## Visual gender count\n",
    "\n",
    "Use seaborn (sns) to visually see how many male and female exist on the dataset.\n",
    "\n",
    "_hint: If you don't know how to do this, you can google: seaborn + the pandas method to count itens_"
   ]
  },
  {
   "cell_type": "code",
   "execution_count": null,
   "metadata": {
    "ExecuteTime": {
     "end_time": "2020-04-06T04:23:52.685393Z",
     "start_time": "2020-04-06T04:23:52.683368Z"
    },
    "colab": {},
    "colab_type": "code",
    "id": "8ZiHJakJ6_Xp"
   },
   "outputs": [],
   "source": [
    "# your answer here"
   ]
  },
  {
   "cell_type": "markdown",
   "metadata": {
    "colab_type": "text",
    "id": "OKAJFx0w6_Xq"
   },
   "source": [
    "## Consider only Height\n",
    "\n",
    "Create a pandas series of the `height` variable."
   ]
  },
  {
   "cell_type": "code",
   "execution_count": null,
   "metadata": {
    "colab": {},
    "colab_type": "code",
    "id": "QN-nwoar6_Xr"
   },
   "outputs": [],
   "source": [
    "# your answer here"
   ]
  },
  {
   "cell_type": "markdown",
   "metadata": {
    "colab_type": "text",
    "id": "ATOR57i06_Xt"
   },
   "source": [
    "### Histogram-plot\n",
    "\n",
    "Plot the histogram of the `height`"
   ]
  },
  {
   "cell_type": "code",
   "execution_count": null,
   "metadata": {
    "colab": {},
    "colab_type": "code",
    "id": "DETusxSt6_Xu"
   },
   "outputs": [],
   "source": [
    "plt.figure(figsize=(12, 8))\n",
    "# your answer here"
   ]
  },
  {
   "cell_type": "markdown",
   "metadata": {
    "colab_type": "text",
    "id": "0z4log2p6_Xw"
   },
   "source": [
    "### Box-plot\n",
    "\n",
    "Plot the boxplot of the `height`"
   ]
  },
  {
   "cell_type": "code",
   "execution_count": null,
   "metadata": {
    "colab": {},
    "colab_type": "code",
    "id": "KPvda1GA6_Xx"
   },
   "outputs": [],
   "source": [
    "plt.figure(figsize=(12, 8))\n",
    "# your answer here"
   ]
  },
  {
   "cell_type": "markdown",
   "metadata": {
    "colab_type": "text",
    "id": "yOJYQJNK6_Xy"
   },
   "source": [
    "What do you think the distribution of `height` is like? Do you think it is common for variables to behave like that in real life?"
   ]
  },
  {
   "cell_type": "code",
   "execution_count": null,
   "metadata": {
    "colab": {},
    "colab_type": "code",
    "id": "1AUPhMGX6_Xy"
   },
   "outputs": [],
   "source": [
    "# your answer here"
   ]
  },
  {
   "cell_type": "markdown",
   "metadata": {
    "colab_type": "text",
    "id": "qTyDt57_6_X0"
   },
   "source": [
    "### KDE distribution for height"
   ]
  },
  {
   "cell_type": "markdown",
   "metadata": {
    "colab_type": "text",
    "id": "KGzIwcRV6_X0"
   },
   "source": [
    "Plot the kde (kernel-density-estimation) distribution (without the hist distribution) of the `height`."
   ]
  },
  {
   "cell_type": "code",
   "execution_count": null,
   "metadata": {},
   "outputs": [],
   "source": [
    "# your answer here"
   ]
  },
  {
   "cell_type": "markdown",
   "metadata": {
    "colab_type": "text",
    "id": "ikhooBE46_X1"
   },
   "source": [
    "### Analysis"
   ]
  },
  {
   "cell_type": "markdown",
   "metadata": {
    "colab_type": "text",
    "id": "opXZgn7q6_X1"
   },
   "source": [
    "As we can see we have a high count for height in the range near 60 to 75. How many people fall off 3 standard deviations from the mean? Can you consider them outliers? Why is that?"
   ]
  },
  {
   "cell_type": "markdown",
   "metadata": {
    "colab_type": "text",
    "id": "dgkPi6856_X1"
   },
   "source": [
    "#### Calculate the mean"
   ]
  },
  {
   "cell_type": "code",
   "execution_count": null,
   "metadata": {
    "ExecuteTime": {
     "end_time": "2020-04-06T04:26:43.977959Z",
     "start_time": "2020-04-06T04:26:43.974967Z"
    },
    "colab": {},
    "colab_type": "code",
    "id": "SkxJqzbq6_X2"
   },
   "outputs": [],
   "source": [
    "# your answer here"
   ]
  },
  {
   "cell_type": "markdown",
   "metadata": {
    "colab_type": "text",
    "id": "F3nLhNNu6_X4"
   },
   "source": [
    "#### Calculate the standard deviation "
   ]
  },
  {
   "cell_type": "code",
   "execution_count": null,
   "metadata": {
    "ExecuteTime": {
     "end_time": "2020-04-06T04:26:50.252000Z",
     "start_time": "2020-04-06T04:26:50.249009Z"
    },
    "colab": {},
    "colab_type": "code",
    "id": "bUK8X9RY6_X5"
   },
   "outputs": [],
   "source": [
    "# your answer here"
   ]
  },
  {
   "cell_type": "markdown",
   "metadata": {
    "colab_type": "text",
    "id": "270jlexC6_X6"
   },
   "source": [
    "#### Calculate the values for the cutoffs:\n",
    "\n",
    "`upper_cutoff = mean` <b><span style=\"color:red\">+</span></b> `3 * standard_deviation` \n",
    "\n",
    "`lower_cutoff = mean` <b><span style=\"color:red\">-</span></b> `3 * standard_deviation`"
   ]
  },
  {
   "cell_type": "markdown",
   "metadata": {
    "colab_type": "text",
    "id": "isBRD1mN6_X7"
   },
   "source": [
    "#### Now filter the original dataset. \n",
    "\n",
    "Use the values you calculated above to filter the original dataset. \n",
    "\n",
    "You should obtain a filtered dataset containing only the rows in which the `Height` column is greater than the upper cutoff and lower than the lower cutoff."
   ]
  },
  {
   "cell_type": "code",
   "execution_count": null,
   "metadata": {
    "colab": {},
    "colab_type": "code",
    "id": "RTL9hhAi6_X7",
    "outputId": "c5cc08d8-842e-420a-dff3-7dbfa10ebb38"
   },
   "outputs": [],
   "source": [
    "# your answer here"
   ]
  },
  {
   "cell_type": "markdown",
   "metadata": {},
   "source": [
    "Expected results:\n",
    "\n",
    "|      | Gender   |   Height |   Weight |        Money |\n",
    "|-----:|:---------|---------:|---------:|-------------:|\n",
    "|  994 | Male     |  78.0959 | 255.691  | 1357.11      |\n",
    "| 1317 | Male     |  78.4621 | 227.343  |    5.45797   |\n",
    "| 2014 | Male     |  78.9987 | 269.99   |  131.474     |\n",
    "| 3285 | Male     |  78.5282 | 253.889  |    0.0896631 |\n",
    "| 3757 | Male     |  78.6214 | 245.734  |  204.113     |\n",
    "| 6624 | Female   |  54.6169 |  71.3937 |  226.061     |\n",
    "| 9285 | Female   |  54.2631 |  64.7001 |  646.532     |"
   ]
  },
  {
   "cell_type": "markdown",
   "metadata": {
    "ExecuteTime": {
     "end_time": "2020-04-06T04:33:34.040229Z",
     "start_time": "2020-04-06T04:33:34.035243Z"
    },
    "colab_type": "text",
    "id": "nG_njBjW6_X_"
   },
   "source": [
    "#### Finally, calculate the shape of this filtered dataset and compare with the original dataframe.\n",
    "\n",
    "Which percentage felt in these thresholds? Did you expect this value? Why?"
   ]
  },
  {
   "cell_type": "code",
   "execution_count": null,
   "metadata": {
    "colab": {},
    "colab_type": "code",
    "id": "hud6jYs96_X_"
   },
   "outputs": [],
   "source": [
    "# your answer here"
   ]
  },
  {
   "cell_type": "markdown",
   "metadata": {
    "colab_type": "text",
    "id": "E9elL5936_YB"
   },
   "source": [
    "## Now perform the same analysis for `money` variable."
   ]
  },
  {
   "cell_type": "markdown",
   "metadata": {
    "colab_type": "text",
    "id": "iHTk6LhO6_YB"
   },
   "source": [
    "You'll do exactly the same analysis for a variable of your dataset that has some different aspects. Let's try to understand that."
   ]
  },
  {
   "cell_type": "markdown",
   "metadata": {
    "colab_type": "text",
    "id": "jBi_YffX6_YB"
   },
   "source": [
    "## Consider only Money\n",
    "\n",
    "Create a pandas series of the `money` variable."
   ]
  },
  {
   "cell_type": "code",
   "execution_count": null,
   "metadata": {
    "colab": {},
    "colab_type": "code",
    "id": "VlGJ0JoG6_YC"
   },
   "outputs": [],
   "source": [
    "# your code here"
   ]
  },
  {
   "cell_type": "markdown",
   "metadata": {},
   "source": [
    "Shape"
   ]
  },
  {
   "cell_type": "code",
   "execution_count": null,
   "metadata": {
    "colab": {},
    "colab_type": "code",
    "id": "tYzsJnzo6_YD",
    "outputId": "b8f36a66-939e-45d6-fd9c-06e95dc939bd"
   },
   "outputs": [],
   "source": [
    "# your code here"
   ]
  },
  {
   "cell_type": "markdown",
   "metadata": {
    "colab_type": "text",
    "id": "KXMvChJi6_YF"
   },
   "source": [
    "### Histogram-plot"
   ]
  },
  {
   "cell_type": "code",
   "execution_count": null,
   "metadata": {
    "colab": {},
    "colab_type": "code",
    "id": "oexSHeHc6_YF"
   },
   "outputs": [],
   "source": [
    "# your code here"
   ]
  },
  {
   "cell_type": "markdown",
   "metadata": {
    "colab_type": "text",
    "id": "oZcX8mYB6_YH"
   },
   "source": [
    "### Box-plot"
   ]
  },
  {
   "cell_type": "code",
   "execution_count": null,
   "metadata": {
    "colab": {},
    "colab_type": "code",
    "id": "NoG2kvO86_YI"
   },
   "outputs": [],
   "source": [
    "# your code here"
   ]
  },
  {
   "cell_type": "markdown",
   "metadata": {
    "colab_type": "text",
    "id": "u9gi0NLV6_YJ"
   },
   "source": [
    "### KDE distribution for height"
   ]
  },
  {
   "cell_type": "code",
   "execution_count": null,
   "metadata": {
    "colab": {},
    "colab_type": "code",
    "id": "sfT2BzQe6_YK"
   },
   "outputs": [],
   "source": [
    "# your code here"
   ]
  },
  {
   "cell_type": "markdown",
   "metadata": {
    "colab_type": "text",
    "id": "kzJUTeh36_YM"
   },
   "source": [
    "### Analysis"
   ]
  },
  {
   "cell_type": "markdown",
   "metadata": {
    "colab_type": "text",
    "id": "Gl1ewWWR6_YM"
   },
   "source": [
    "Again, how many people fall off 3 standard deviations in both cases (which percentage of the dataset)? Let's do it by parts:"
   ]
  },
  {
   "cell_type": "markdown",
   "metadata": {
    "colab_type": "text",
    "id": "nkEp1XFN6_YM"
   },
   "source": [
    "#### Calculate the mean"
   ]
  },
  {
   "cell_type": "code",
   "execution_count": null,
   "metadata": {
    "ExecuteTime": {
     "end_time": "2020-04-06T04:36:40.326455Z",
     "start_time": "2020-04-06T04:36:40.323463Z"
    },
    "colab": {},
    "colab_type": "code",
    "id": "_LAoCUi06_YN"
   },
   "outputs": [],
   "source": [
    "# your answer here"
   ]
  },
  {
   "cell_type": "markdown",
   "metadata": {
    "colab_type": "text",
    "id": "k7tGEVD96_YO"
   },
   "source": [
    "#### Calculate the standard deviation "
   ]
  },
  {
   "cell_type": "code",
   "execution_count": null,
   "metadata": {
    "colab": {},
    "colab_type": "code",
    "id": "KkW0F87D6_YP"
   },
   "outputs": [],
   "source": [
    "# your answer here."
   ]
  },
  {
   "cell_type": "markdown",
   "metadata": {
    "colab_type": "text",
    "id": "hyHPl0TD6_YQ"
   },
   "source": [
    "#### Calculate the values for the cutoffs:\n",
    "\n",
    "`upper_cutoff = mean` <b><span style=\"color:red\">+</span></b> `3 * standard_deviation` \n",
    "\n",
    "`lower_cutoff = mean` <b><span style=\"color:red\">-</span></b> `3 * standard_deviation`"
   ]
  },
  {
   "cell_type": "markdown",
   "metadata": {
    "colab_type": "text",
    "id": "lO6g6RXi6_YQ"
   },
   "source": [
    "#### Again, filter the original dataset. "
   ]
  },
  {
   "cell_type": "code",
   "execution_count": null,
   "metadata": {
    "ExecuteTime": {
     "end_time": "2020-04-06T04:37:25.851255Z",
     "start_time": "2020-04-06T04:37:25.848263Z"
    },
    "colab": {},
    "colab_type": "code",
    "id": "VjdtbNc06_YR"
   },
   "outputs": [],
   "source": [
    "# your answer here"
   ]
  },
  {
   "cell_type": "markdown",
   "metadata": {
    "colab_type": "text",
    "id": "vGnDsa-s6_YT"
   },
   "source": [
    "#### Finally, calculate the shape of this filtered dataset and compare with the original dataframe.\n",
    "\n",
    "Which percentage felt in these thresholds? Did you expect this value?"
   ]
  },
  {
   "cell_type": "code",
   "execution_count": null,
   "metadata": {
    "colab": {},
    "colab_type": "code",
    "id": "P2m7MHNF6_YT"
   },
   "outputs": [],
   "source": [
    "# your answer here"
   ]
  },
  {
   "cell_type": "markdown",
   "metadata": {},
   "source": [
    "Expected result:\n",
    "\n",
    "|     | Gender   |   Height |   Weight |   Money |\n",
    "|----:|:---------|---------:|---------:|--------:|\n",
    "| 234 | Male     |  67.3698 |  176.636 | 3725.08 |\n",
    "| 294 | Male     |  64.4252 |  169.109 | 3942.97 |\n",
    "| 355 | Male     |  72.9386 |  216.097 | 3762.42 |\n",
    "| 518 | Male     |  68.3465 |  178.676 | 3286.66 |\n",
    "| 662 | Male     |  69.431  |  172.326 | 3798.71 |\n",
    "|   ...   | ...   |   ... |   ... |   ... |\n",
    "| 9873 | Female   |  63.7072 |  132.761 | 3164.37 |\n",
    "| 9888 | Female   |  65.1059 |  149.695 | 3929.57 |\n",
    "| 9922 | Female   |  58.7525 |  106.846 | 3541.68 |\n",
    "| 9930 | Female   |  68.5444 |  148.828 | 3916.32 |\n",
    "| 9946 | Female   |  66.6245 |  149.828 | 6535.36 |"
   ]
  },
  {
   "cell_type": "markdown",
   "metadata": {
    "colab_type": "text",
    "id": "5GvjLe4s6_YV"
   },
   "source": [
    "Can you consider them outliers?"
   ]
  },
  {
   "cell_type": "code",
   "execution_count": null,
   "metadata": {
    "colab": {},
    "colab_type": "code",
    "id": "hMv78bh-6_YV"
   },
   "outputs": [],
   "source": [
    "# your answer here"
   ]
  },
  {
   "cell_type": "markdown",
   "metadata": {
    "colab_type": "text",
    "id": "LodtGIlf8PyK"
   },
   "source": [
    "By now, you should have observed that in order to consider an observation an `outlier`, one needs to take into account the **distribution** of the variable. In fact, most statistical aspects do not mean anything until you understand the variable's distribution."
   ]
  },
  {
   "cell_type": "markdown",
   "metadata": {
    "colab_type": "text",
    "id": "4xo8UdNG6_YX"
   },
   "source": [
    "# Bivariate Analysis"
   ]
  },
  {
   "cell_type": "markdown",
   "metadata": {
    "colab_type": "text",
    "id": "ZPow_mX16_YX"
   },
   "source": [
    "## Considering both height and weight\n",
    "\n",
    "Now we'll consider both height and weight variables to understand our data. We'll perform what is called a bivariate analysis."
   ]
  },
  {
   "cell_type": "markdown",
   "metadata": {},
   "source": [
    "### Perform a scatterplot to check the relation between Height and Weight"
   ]
  },
  {
   "cell_type": "code",
   "execution_count": null,
   "metadata": {
    "colab": {},
    "colab_type": "code",
    "id": "SigXKLfC6_YY"
   },
   "outputs": [],
   "source": [
    "plt.figure(figsize=(12, 8))\n",
    "# your answer here"
   ]
  },
  {
   "cell_type": "markdown",
   "metadata": {
    "colab_type": "text",
    "id": "59aT_5lW6_Ya"
   },
   "source": [
    "### Do the same plot, but color the markers by Gender"
   ]
  },
  {
   "cell_type": "code",
   "execution_count": null,
   "metadata": {
    "ExecuteTime": {
     "end_time": "2020-04-06T04:40:28.745269Z",
     "start_time": "2020-04-06T04:40:28.738261Z"
    },
    "colab": {},
    "colab_type": "code",
    "id": "il_2ixhp6_Ya"
   },
   "outputs": [],
   "source": [
    "plt.figure(figsize=(12, 8))\n",
    "# your answer here"
   ]
  },
  {
   "cell_type": "markdown",
   "metadata": {
    "colab_type": "text",
    "id": "dvqrbq6M6_Yc"
   },
   "source": [
    "### Which insights hue'ing the plot using the variable Gender has brought to you? "
   ]
  },
  {
   "cell_type": "code",
   "execution_count": null,
   "metadata": {
    "colab": {},
    "colab_type": "code",
    "id": "JAAdWKOo6_Yc"
   },
   "outputs": [],
   "source": [
    "# your answer here"
   ]
  },
  {
   "cell_type": "markdown",
   "metadata": {
    "colab_type": "text",
    "id": "BG61NYRy6_Ye"
   },
   "source": [
    "### Create a variable called `gender_groupby` to group data by `Gender`. However, don't define any aggregations yet. \n",
    "\n",
    "Just perform the groupby operation."
   ]
  },
  {
   "cell_type": "code",
   "execution_count": null,
   "metadata": {
    "colab": {},
    "colab_type": "code",
    "id": "T1-ve0L86_Ye"
   },
   "outputs": [],
   "source": [
    "# your code here"
   ]
  },
  {
   "cell_type": "markdown",
   "metadata": {
    "colab_type": "text",
    "id": "QgBhuRB_6_Yh"
   },
   "source": [
    "#### Run `gender_groupby.head()` to check the groups obtained."
   ]
  },
  {
   "cell_type": "code",
   "execution_count": null,
   "metadata": {
    "ExecuteTime": {
     "end_time": "2020-04-06T04:42:01.551953Z",
     "start_time": "2020-04-06T04:42:01.544967Z"
    },
    "colab": {},
    "colab_type": "code",
    "id": "ry9aSDKm6_Yh"
   },
   "outputs": [],
   "source": [
    "# your answer here"
   ]
  },
  {
   "cell_type": "markdown",
   "metadata": {
    "colab_type": "text",
    "id": "Fw0jkp5D6_Yj"
   },
   "source": [
    "#### Run gender_groupby.describe().T to check the statistics for each group. \n",
    "\n",
    "_hint: You can transpose this result to obtain a better visualization of the results_\n"
   ]
  },
  {
   "cell_type": "code",
   "execution_count": null,
   "metadata": {
    "colab": {},
    "colab_type": "code",
    "id": "2BqS-oLr6_Yk"
   },
   "outputs": [],
   "source": [
    "# your answer here"
   ]
  },
  {
   "cell_type": "markdown",
   "metadata": {
    "colab_type": "text",
    "id": "rdqDmgC36_Yl"
   },
   "source": [
    "The results above should give you some insights of the effect of gender on your dataset both visually and numerically."
   ]
  },
  {
   "cell_type": "markdown",
   "metadata": {
    "colab_type": "text",
    "id": "rcOvujkn6_Ym"
   },
   "source": [
    "## Distribution plots"
   ]
  },
  {
   "cell_type": "markdown",
   "metadata": {
    "colab_type": "text",
    "id": "3JUuAPkq6_Ym"
   },
   "source": [
    "### Verifying the distribution of your variables for each Gender.\n",
    "\n",
    "We have seen that each variable in our dataset has its own \"DNA\". This is the distribution of each variable. However, the story does not stop there. Each variable has peculiarities within it and it is our job as data analyst to discover it. We'll see futurely that what `machine learning models` mostly do for us is automate this process (if we understand them, of course) \n",
    "\n",
    "In this case, specifically, we want to understand the effect of our `Gender` variable on the distribution of our dataset.\n"
   ]
  },
  {
   "cell_type": "markdown",
   "metadata": {
    "colab_type": "text",
    "id": "7VbGftCN6_Ym"
   },
   "source": [
    "### First, plot the distribution of the `Height` variable again."
   ]
  },
  {
   "cell_type": "code",
   "execution_count": null,
   "metadata": {
    "ExecuteTime": {
     "end_time": "2020-04-06T04:47:47.783941Z",
     "start_time": "2020-04-06T04:47:47.780949Z"
    },
    "colab": {},
    "colab_type": "code",
    "id": "agy8521H6_Yn"
   },
   "outputs": [],
   "source": [
    "# your answer here"
   ]
  },
  {
   "cell_type": "markdown",
   "metadata": {
    "colab_type": "text",
    "id": "iHH6KpQr6_Yp"
   },
   "source": [
    "### Now, filter your dataset for each gender. Create a dataframe called `men` and another called `women` and plot the `Height` distribution for each of them in the same plot."
   ]
  },
  {
   "cell_type": "code",
   "execution_count": null,
   "metadata": {
    "ExecuteTime": {
     "end_time": "2020-04-06T04:47:52.663764Z",
     "start_time": "2020-04-06T04:47:52.659775Z"
    },
    "colab": {},
    "colab_type": "code",
    "id": "gS71p7-K6_Yp"
   },
   "outputs": [],
   "source": [
    "# your answer here"
   ]
  },
  {
   "cell_type": "markdown",
   "metadata": {
    "colab_type": "text",
    "id": "cagOUAyG6_Yr"
   },
   "source": [
    "### What insights could you observe from that? What is the impact of `Gender` on `Height`"
   ]
  },
  {
   "cell_type": "code",
   "execution_count": null,
   "metadata": {
    "colab": {},
    "colab_type": "code",
    "id": "i5H3RXJr6_Yr"
   },
   "outputs": [],
   "source": [
    "# your answer here"
   ]
  },
  {
   "cell_type": "markdown",
   "metadata": {
    "colab_type": "text",
    "id": "D9_EoGmV6_Yt"
   },
   "source": [
    "**Extra Note:** The issue: https://github.com/mwaskom/seaborn/issues/861 has a discussion of why distplot doesn't have a `hue` argument and how to overcome it (look for FacetGrid)"
   ]
  },
  {
   "cell_type": "markdown",
   "metadata": {
    "colab_type": "text",
    "id": "qGNDPX3l6_Yt"
   },
   "source": [
    "Try to do the same for the `Money` variable. What is the impact of `Gender` on `Money` ?\n",
    "\n",
    "_Hint: for the Money variable, try specifying `hist=False`_\n"
   ]
  },
  {
   "cell_type": "code",
   "execution_count": null,
   "metadata": {
    "colab": {},
    "colab_type": "code",
    "id": "ZZXIuhlb6_Yu"
   },
   "outputs": [],
   "source": [
    "# your answer here"
   ]
  },
  {
   "cell_type": "markdown",
   "metadata": {
    "colab_type": "text",
    "id": "OKn0Zyrc6_Yw"
   },
   "source": [
    "## Boxplot "
   ]
  },
  {
   "cell_type": "markdown",
   "metadata": {
    "colab_type": "text",
    "id": "8Em89WIn6_Yw"
   },
   "source": [
    "### Gender vs Height\n",
    "\n",
    "Plot the boxplot considering the x-axis as `Gender` and y-axis as `Height`"
   ]
  },
  {
   "cell_type": "code",
   "execution_count": null,
   "metadata": {
    "colab": {},
    "colab_type": "code",
    "id": "gw4HbUh36_Yx"
   },
   "outputs": [],
   "source": [
    "plt.figure(figsize=(12, 8))\n",
    "# your answer here"
   ]
  },
  {
   "cell_type": "markdown",
   "metadata": {
    "colab_type": "text",
    "id": "CSIGCqV66_Yy"
   },
   "source": [
    "### Gender vs Money"
   ]
  },
  {
   "cell_type": "code",
   "execution_count": null,
   "metadata": {
    "colab": {},
    "colab_type": "code",
    "id": "weexLFSX6_Yz"
   },
   "outputs": [],
   "source": [
    "plt.figure(figsize=(12, 8))\n",
    "# your answer here"
   ]
  },
  {
   "cell_type": "markdown",
   "metadata": {
    "colab_type": "text",
    "id": "GLOqMlrT6_Y0"
   },
   "source": [
    "From the conclusions of the previous exercises, did you expect the bloxplots to be like the ones above?"
   ]
  },
  {
   "cell_type": "code",
   "execution_count": null,
   "metadata": {
    "ExecuteTime": {
     "end_time": "2020-04-06T04:58:29.670900Z",
     "start_time": "2020-04-06T04:58:29.666887Z"
    },
    "colab": {},
    "colab_type": "code",
    "id": "Xi7kF5v_6_Y1"
   },
   "outputs": [],
   "source": [
    "# your answer here"
   ]
  },
  {
   "cell_type": "markdown",
   "metadata": {
    "colab_type": "text",
    "id": "HNT8LjTI6_Y3"
   },
   "source": [
    "### Multivariate Analysis"
   ]
  },
  {
   "cell_type": "markdown",
   "metadata": {
    "colab_type": "text",
    "id": "_affOA406_Y3"
   },
   "source": [
    "Use `sns.pairplot` to see some combinations obtained so far. Use `hue = 'Gender`. \n",
    "\n",
    "Note that in a real problem, pairplot starts to get messy since there can be countless number of variables in a dataset. Use it wisely.\n",
    "\n",
    "Usually people only plot this graph and don't take any conclusions from it. Don't fall into that trap. "
   ]
  },
  {
   "cell_type": "code",
   "execution_count": null,
   "metadata": {
    "colab": {},
    "colab_type": "code",
    "id": "LxvLM7Vf6_Y3"
   },
   "outputs": [],
   "source": [
    "# your answer here"
   ]
  }
 ],
 "metadata": {
  "colab": {
   "collapsed_sections": [],
   "name": "main.ipynb",
   "provenance": []
  },
  "interpreter": {
   "hash": "ac59ebe37160ed0dfa835113d9b8498d9f09ceb179beaac4002f036b9467c963"
  },
  "kernelspec": {
   "display_name": "Python 3",
   "language": "python",
   "name": "python3"
  },
  "language_info": {
   "codemirror_mode": {
    "name": "ipython",
    "version": 3
   },
   "file_extension": ".py",
   "mimetype": "text/x-python",
   "name": "python",
   "nbconvert_exporter": "python",
   "pygments_lexer": "ipython3",
   "version": "3.8.8"
  },
  "toc": {
   "base_numbering": 1,
   "nav_menu": {},
   "number_sections": true,
   "sideBar": true,
   "skip_h1_title": false,
   "title_cell": "Table of Contents",
   "title_sidebar": "Contents",
   "toc_cell": false,
   "toc_position": {},
   "toc_section_display": true,
   "toc_window_display": false
  }
 },
 "nbformat": 4,
 "nbformat_minor": 2
}
