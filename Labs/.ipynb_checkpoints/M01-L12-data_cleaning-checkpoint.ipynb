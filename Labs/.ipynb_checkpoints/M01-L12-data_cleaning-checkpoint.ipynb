{
 "cells": [
  {
   "cell_type": "markdown",
   "metadata": {
    "colab_type": "text",
    "id": "n5PumiMUZIVK"
   },
   "source": [
    "# Lab | Data Cleaning\n",
    "\n",
    "## Introduction\n",
    "\n",
    "We keep seeing a common phrase that 80% of the work of a data scientist is data cleaning. We have no idea whether this number is accurate but a data scientist indeed spends lots of time and effort in collecting, cleaning and preparing the data for analysis. This is because datasets are usually messy and complex in nature. It is a very important ability for a data scientist to refine and restructure datasets into a usable state in order to proceed to the data analysis stage.\n",
    "\n",
    "In this exercise, you will both practice the data cleaning techniques we discussed in the lesson and learn new techniques by looking up documentations and references. You will work on your own but remember the teaching staff is at your service whenever you encounter problems.\n",
    "\n",
    "\n",
    "## Resources\n",
    "\n",
    "[Data Cleaning with Numpy and Pandas](https://realpython.com/python-data-cleaning-numpy-pandas/#python-data-cleaning-recap-and-resources)\n",
    "\n",
    "[Data Preparation](https://www.kdnuggets.com/2017/06/7-steps-mastering-data-preparation-python.html)"
   ]
  },
  {
   "cell_type": "markdown",
   "metadata": {
    "colab_type": "text",
    "id": "zuHDm8EtZD4X"
   },
   "source": [
    "# Import library "
   ]
  },
  {
   "cell_type": "code",
   "execution_count": 1,
   "metadata": {},
   "outputs": [],
   "source": [
    "# Your code here\n",
    "import pandas as pd\n",
    "import numpy as np"
   ]
  },
  {
   "cell_type": "markdown",
   "metadata": {
    "colab_type": "text",
    "id": "JgKT-j3aZD4e"
   },
   "source": [
    "# Read the users dataset.\n",
    "\n",
    "Take a look at what is the `users.csv` separator."
   ]
  },
  {
   "cell_type": "code",
   "execution_count": 2,
   "metadata": {},
   "outputs": [
    {
     "name": "stdout",
     "output_type": "stream",
     "text": [
      "Id#Reputation#CreationDate#DisplayName#LastAccessDate#WebsiteUrl#Location#AboutMe#Views#UpVotes#DownVotes#AccountId#Age#ProfileImageUrl\n",
      "\n",
      "-1#1#2010-07-19 06:55:26#Community#2010-07-19 06:55:26#http://meta.stackexchange.com/#on the server farm#\"<p>Hi, I'm not really a person.</p>\n",
      "\n",
      "\n",
      "\n",
      "<p>I'm a background process that helps keep this site clean!</p>\n",
      "\n",
      "\n",
      "\n"
     ]
    }
   ],
   "source": [
    "# Your code here\n",
    "file = open('C:/Users/forqu/OneDrive/Documentos/IronHack/Github/Data/Data_M01-L12-data_cleaning/users.csv', 'rb')\n",
    "file_lines = file.readlines(10000)\n",
    "for i in range(5):\n",
    "    print(file_lines[i].decode('utf-8'))\n",
    "file.close()"
   ]
  },
  {
   "cell_type": "markdown",
   "metadata": {
    "colab_type": "text",
    "id": "pmZ1D4wvZD4j"
   },
   "source": [
    "## Check its shape\n",
    "\n",
    "See the number of rows and columns you're dealing."
   ]
  },
  {
   "cell_type": "code",
   "execution_count": 3,
   "metadata": {},
   "outputs": [
    {
     "name": "stdout",
     "output_type": "stream",
     "text": [
      "<class 'pandas.core.frame.DataFrame'>\n",
      "RangeIndex: 40503 entries, 0 to 40502\n",
      "Data columns (total 14 columns):\n",
      " #   Column           Non-Null Count  Dtype  \n",
      "---  ------           --------------  -----  \n",
      " 0   Id               40503 non-null  int64  \n",
      " 1   Reputation       40503 non-null  int64  \n",
      " 2   CreationDate     40503 non-null  object \n",
      " 3   DisplayName      40497 non-null  object \n",
      " 4   LastAccessDate   40503 non-null  object \n",
      " 5   WebsiteUrl       8158 non-null   object \n",
      " 6   Location         11731 non-null  object \n",
      " 7   AboutMe          9424 non-null   object \n",
      " 8   Views            40503 non-null  int64  \n",
      " 9   UpVotes          40503 non-null  int64  \n",
      " 10  DownVotes        40503 non-null  int64  \n",
      " 11  AccountId        40503 non-null  int64  \n",
      " 12  Age              8352 non-null   float64\n",
      " 13  ProfileImageUrl  16540 non-null  object \n",
      "dtypes: float64(1), int64(6), object(7)\n",
      "memory usage: 4.3+ MB\n"
     ]
    }
   ],
   "source": [
    "# Your code here\n",
    "data_users = pd.read_csv('C:/Users/forqu/OneDrive/Documentos/IronHack/Github/Data/Data_M01-L12-data_cleaning/users.csv', sep = '#')\n",
    "data_users.info()"
   ]
  },
  {
   "cell_type": "markdown",
   "metadata": {
    "colab_type": "text",
    "id": "BQHpNkApZD4k"
   },
   "source": [
    "## Use the .head() to see some rows of your dataframe."
   ]
  },
  {
   "cell_type": "code",
   "execution_count": 4,
   "metadata": {},
   "outputs": [
    {
     "data": {
      "text/html": [
       "<div>\n",
       "<style scoped>\n",
       "    .dataframe tbody tr th:only-of-type {\n",
       "        vertical-align: middle;\n",
       "    }\n",
       "\n",
       "    .dataframe tbody tr th {\n",
       "        vertical-align: top;\n",
       "    }\n",
       "\n",
       "    .dataframe thead th {\n",
       "        text-align: right;\n",
       "    }\n",
       "</style>\n",
       "<table border=\"1\" class=\"dataframe\">\n",
       "  <thead>\n",
       "    <tr style=\"text-align: right;\">\n",
       "      <th></th>\n",
       "      <th>Id</th>\n",
       "      <th>Reputation</th>\n",
       "      <th>CreationDate</th>\n",
       "      <th>DisplayName</th>\n",
       "      <th>LastAccessDate</th>\n",
       "      <th>WebsiteUrl</th>\n",
       "      <th>Location</th>\n",
       "      <th>AboutMe</th>\n",
       "      <th>Views</th>\n",
       "      <th>UpVotes</th>\n",
       "      <th>DownVotes</th>\n",
       "      <th>AccountId</th>\n",
       "      <th>Age</th>\n",
       "      <th>ProfileImageUrl</th>\n",
       "    </tr>\n",
       "  </thead>\n",
       "  <tbody>\n",
       "    <tr>\n",
       "      <th>0</th>\n",
       "      <td>-1</td>\n",
       "      <td>1</td>\n",
       "      <td>2010-07-19 06:55:26</td>\n",
       "      <td>Community</td>\n",
       "      <td>2010-07-19 06:55:26</td>\n",
       "      <td>http://meta.stackexchange.com/</td>\n",
       "      <td>on the server farm</td>\n",
       "      <td>&lt;p&gt;Hi, I'm not really a person.&lt;/p&gt;\\n\\n&lt;p&gt;I'm ...</td>\n",
       "      <td>0</td>\n",
       "      <td>5007</td>\n",
       "      <td>1920</td>\n",
       "      <td>-1</td>\n",
       "      <td>NaN</td>\n",
       "      <td>NaN</td>\n",
       "    </tr>\n",
       "    <tr>\n",
       "      <th>1</th>\n",
       "      <td>2</td>\n",
       "      <td>101</td>\n",
       "      <td>2010-07-19 14:01:36</td>\n",
       "      <td>Geoff Dalgas</td>\n",
       "      <td>2013-11-12 22:07:23</td>\n",
       "      <td>http://stackoverflow.com</td>\n",
       "      <td>Corvallis, OR</td>\n",
       "      <td>&lt;p&gt;Developer on the StackOverflow team.  Find ...</td>\n",
       "      <td>25</td>\n",
       "      <td>3</td>\n",
       "      <td>0</td>\n",
       "      <td>2</td>\n",
       "      <td>37.0</td>\n",
       "      <td>NaN</td>\n",
       "    </tr>\n",
       "    <tr>\n",
       "      <th>2</th>\n",
       "      <td>3</td>\n",
       "      <td>101</td>\n",
       "      <td>2010-07-19 15:34:50</td>\n",
       "      <td>Jarrod Dixon</td>\n",
       "      <td>2014-08-08 06:42:58</td>\n",
       "      <td>http://stackoverflow.com</td>\n",
       "      <td>New York, NY</td>\n",
       "      <td>&lt;p&gt;&lt;a href=\"http://blog.stackoverflow.com/2009...</td>\n",
       "      <td>22</td>\n",
       "      <td>19</td>\n",
       "      <td>0</td>\n",
       "      <td>3</td>\n",
       "      <td>35.0</td>\n",
       "      <td>NaN</td>\n",
       "    </tr>\n",
       "    <tr>\n",
       "      <th>3</th>\n",
       "      <td>4</td>\n",
       "      <td>101</td>\n",
       "      <td>2010-07-19 19:03:27</td>\n",
       "      <td>Emmett</td>\n",
       "      <td>2014-01-02 09:31:02</td>\n",
       "      <td>http://minesweeperonline.com</td>\n",
       "      <td>San Francisco, CA</td>\n",
       "      <td>&lt;p&gt;currently at a startup in SF&lt;/p&gt;\\n\\n&lt;p&gt;form...</td>\n",
       "      <td>11</td>\n",
       "      <td>0</td>\n",
       "      <td>0</td>\n",
       "      <td>1998</td>\n",
       "      <td>28.0</td>\n",
       "      <td>http://i.stack.imgur.com/d1oHX.jpg</td>\n",
       "    </tr>\n",
       "    <tr>\n",
       "      <th>4</th>\n",
       "      <td>5</td>\n",
       "      <td>6792</td>\n",
       "      <td>2010-07-19 19:03:57</td>\n",
       "      <td>Shane</td>\n",
       "      <td>2014-08-13 00:23:47</td>\n",
       "      <td>http://www.statalgo.com</td>\n",
       "      <td>New York, NY</td>\n",
       "      <td>&lt;p&gt;Quantitative researcher focusing on statist...</td>\n",
       "      <td>1145</td>\n",
       "      <td>662</td>\n",
       "      <td>5</td>\n",
       "      <td>54503</td>\n",
       "      <td>35.0</td>\n",
       "      <td>NaN</td>\n",
       "    </tr>\n",
       "  </tbody>\n",
       "</table>\n",
       "</div>"
      ],
      "text/plain": [
       "   Id  Reputation         CreationDate   DisplayName       LastAccessDate  \\\n",
       "0  -1           1  2010-07-19 06:55:26     Community  2010-07-19 06:55:26   \n",
       "1   2         101  2010-07-19 14:01:36  Geoff Dalgas  2013-11-12 22:07:23   \n",
       "2   3         101  2010-07-19 15:34:50  Jarrod Dixon  2014-08-08 06:42:58   \n",
       "3   4         101  2010-07-19 19:03:27        Emmett  2014-01-02 09:31:02   \n",
       "4   5        6792  2010-07-19 19:03:57         Shane  2014-08-13 00:23:47   \n",
       "\n",
       "                       WebsiteUrl            Location  \\\n",
       "0  http://meta.stackexchange.com/  on the server farm   \n",
       "1        http://stackoverflow.com       Corvallis, OR   \n",
       "2        http://stackoverflow.com        New York, NY   \n",
       "3    http://minesweeperonline.com   San Francisco, CA   \n",
       "4         http://www.statalgo.com        New York, NY   \n",
       "\n",
       "                                             AboutMe  Views  UpVotes  \\\n",
       "0  <p>Hi, I'm not really a person.</p>\\n\\n<p>I'm ...      0     5007   \n",
       "1  <p>Developer on the StackOverflow team.  Find ...     25        3   \n",
       "2  <p><a href=\"http://blog.stackoverflow.com/2009...     22       19   \n",
       "3  <p>currently at a startup in SF</p>\\n\\n<p>form...     11        0   \n",
       "4  <p>Quantitative researcher focusing on statist...   1145      662   \n",
       "\n",
       "   DownVotes  AccountId   Age                     ProfileImageUrl  \n",
       "0       1920         -1   NaN                                 NaN  \n",
       "1          0          2  37.0                                 NaN  \n",
       "2          0          3  35.0                                 NaN  \n",
       "3          0       1998  28.0  http://i.stack.imgur.com/d1oHX.jpg  \n",
       "4          5      54503  35.0                                 NaN  "
      ]
     },
     "execution_count": 4,
     "metadata": {},
     "output_type": "execute_result"
    }
   ],
   "source": [
    "# Your code here\n",
    "data_users.head(5)"
   ]
  },
  {
   "cell_type": "markdown",
   "metadata": {
    "colab_type": "text",
    "id": "XhFTmi-hZD4o"
   },
   "source": [
    "## Get the data info. \n",
    "\n",
    "Which columns have a great number of missing values? How many space does this dataframe is occupying in your memory?\n",
    "\n",
    "Expected output:\n",
    "````\n",
    "<class 'pandas.core.frame.DataFrame'>\n",
    "RangeIndex: 40503 entries, 0 to 40502\n",
    "Data columns (total 14 columns):\n",
    " #   Column           Non-Null Count  Dtype  \n",
    "---  ------           --------------  -----  \n",
    " 0   Id               40503 non-null  int64  \n",
    " 1   Reputation       40503 non-null  int64  \n",
    " 2   CreationDate     40503 non-null  object \n",
    " 3   DisplayName      40497 non-null  object \n",
    " 4   LastAccessDate   40503 non-null  object \n",
    " 5   WebsiteUrl       8158 non-null   object \n",
    " 6   Location         11731 non-null  object \n",
    " 7   AboutMe          9424 non-null   object \n",
    " 8   Views            40503 non-null  int64  \n",
    " 9   UpVotes          40503 non-null  int64  \n",
    " 10  DownVotes        40503 non-null  int64  \n",
    " 11  AccountId        40503 non-null  int64  \n",
    " 12  Age              8352 non-null   float64\n",
    " 13  ProfileImageUrl  16540 non-null  object \n",
    "dtypes: float64(1), int64(6), object(7)\n",
    "memory usage: 4.3+ MB\n",
    "````"
   ]
  },
  {
   "cell_type": "code",
   "execution_count": 5,
   "metadata": {},
   "outputs": [
    {
     "name": "stdout",
     "output_type": "stream",
     "text": [
      "<class 'pandas.core.frame.DataFrame'>\n",
      "RangeIndex: 40503 entries, 0 to 40502\n",
      "Data columns (total 14 columns):\n",
      " #   Column           Non-Null Count  Dtype  \n",
      "---  ------           --------------  -----  \n",
      " 0   Id               40503 non-null  int64  \n",
      " 1   Reputation       40503 non-null  int64  \n",
      " 2   CreationDate     40503 non-null  object \n",
      " 3   DisplayName      40497 non-null  object \n",
      " 4   LastAccessDate   40503 non-null  object \n",
      " 5   WebsiteUrl       8158 non-null   object \n",
      " 6   Location         11731 non-null  object \n",
      " 7   AboutMe          9424 non-null   object \n",
      " 8   Views            40503 non-null  int64  \n",
      " 9   UpVotes          40503 non-null  int64  \n",
      " 10  DownVotes        40503 non-null  int64  \n",
      " 11  AccountId        40503 non-null  int64  \n",
      " 12  Age              8352 non-null   float64\n",
      " 13  ProfileImageUrl  16540 non-null  object \n",
      "dtypes: float64(1), int64(6), object(7)\n",
      "memory usage: 4.3+ MB\n"
     ]
    }
   ],
   "source": [
    "# Your code here\n",
    "data_users.info()"
   ]
  },
  {
   "cell_type": "markdown",
   "metadata": {
    "colab_type": "text",
    "id": "44boORWtZD4s"
   },
   "source": [
    "## Rename Id column to user_id.\n",
    "\n",
    "Remember to store you results back at the dataframe."
   ]
  },
  {
   "cell_type": "code",
   "execution_count": 6,
   "metadata": {},
   "outputs": [
    {
     "data": {
      "text/plain": [
       "Index(['user_id', 'Reputation', 'CreationDate', 'DisplayName',\n",
       "       'LastAccessDate', 'WebsiteUrl', 'Location', 'AboutMe', 'Views',\n",
       "       'UpVotes', 'DownVotes', 'AccountId', 'Age', 'ProfileImageUrl'],\n",
       "      dtype='object')"
      ]
     },
     "execution_count": 6,
     "metadata": {},
     "output_type": "execute_result"
    }
   ],
   "source": [
    "# Your code here\n",
    "data_users = data_users.rename({'Id': 'user_id'}, axis = 1)\n",
    "data_users.columns"
   ]
  },
  {
   "cell_type": "markdown",
   "metadata": {
    "colab_type": "text",
    "id": "sooo8FL4ZD4x"
   },
   "source": [
    "# Import the `posts_file.csv` dataset"
   ]
  },
  {
   "cell_type": "code",
   "execution_count": 7,
   "metadata": {},
   "outputs": [
    {
     "name": "stdout",
     "output_type": "stream",
     "text": [
      "post_id,PostTypeId,AcceptedAnswerId,CreaionDate,Score,ViewCount,Body,user_id,LasActivityDate,Title,Tags,AnswerCount,CommentCount,FavoriteCount,LastEditorUserId,LastEditDate,CommunityOwnedDate,ParentId,ClosedDate,OwnerDisplayName,LastEditorDisplayName\r\n",
      "\n",
      "67711,2,,2013-08-19 02:31:14,3,,\"<p>At least in OLS, flipping the direction ($x_j^* = k-x_j$) of an ordinary explanatory variable (/predictor) that isn't involved in any interactions should only change its sign and the coefficient of the constant (along with things those directly affect, like the sign of the t-ratio for the $j$-th variable and the constant's t-ratio and p-value).</p>\n",
      "\n",
      "\n",
      "\n",
      "<p>If you let $\\\\beta^*_j =-\\\\beta_j$ and $\\\\beta_0^* = \\\\beta_0+\\\\beta_j k$ then you can see exactly the same fit is obtained (which must therefore minimize the sum of squares).</p>\n",
      "\n",
      "\n",
      "\n"
     ]
    }
   ],
   "source": [
    "file = open('C:/Users/forqu/OneDrive/Documentos/IronHack/Github/Data/Data_M01-L12-data_cleaning/posts_file.csv', 'rb')\n",
    "file_lines = file.readlines(10000)\n",
    "for i in range(5):\n",
    "    print(file_lines[i].decode('utf-8'))\n",
    "file.close()"
   ]
  },
  {
   "cell_type": "code",
   "execution_count": 8,
   "metadata": {},
   "outputs": [],
   "source": [
    "# Your code here\n",
    "data_posts = pd.read_csv('C:/Users/forqu/OneDrive/Documentos/IronHack/Github/Data/Data_M01-L12-data_cleaning/posts_file.csv')"
   ]
  },
  {
   "cell_type": "markdown",
   "metadata": {
    "colab_type": "text",
    "id": "flT6V-L0ZD43"
   },
   "source": [
    "## Perform the same as above to understand a bit of your data (head, info, shape)"
   ]
  },
  {
   "cell_type": "code",
   "execution_count": 9,
   "metadata": {},
   "outputs": [
    {
     "data": {
      "text/html": [
       "<div>\n",
       "<style scoped>\n",
       "    .dataframe tbody tr th:only-of-type {\n",
       "        vertical-align: middle;\n",
       "    }\n",
       "\n",
       "    .dataframe tbody tr th {\n",
       "        vertical-align: top;\n",
       "    }\n",
       "\n",
       "    .dataframe thead th {\n",
       "        text-align: right;\n",
       "    }\n",
       "</style>\n",
       "<table border=\"1\" class=\"dataframe\">\n",
       "  <thead>\n",
       "    <tr style=\"text-align: right;\">\n",
       "      <th></th>\n",
       "      <th>post_id</th>\n",
       "      <th>PostTypeId</th>\n",
       "      <th>AcceptedAnswerId</th>\n",
       "      <th>CreaionDate</th>\n",
       "      <th>Score</th>\n",
       "      <th>ViewCount</th>\n",
       "      <th>Body</th>\n",
       "      <th>user_id</th>\n",
       "      <th>LasActivityDate</th>\n",
       "      <th>Title</th>\n",
       "      <th>...</th>\n",
       "      <th>AnswerCount</th>\n",
       "      <th>CommentCount</th>\n",
       "      <th>FavoriteCount</th>\n",
       "      <th>LastEditorUserId</th>\n",
       "      <th>LastEditDate</th>\n",
       "      <th>CommunityOwnedDate</th>\n",
       "      <th>ParentId</th>\n",
       "      <th>ClosedDate</th>\n",
       "      <th>OwnerDisplayName</th>\n",
       "      <th>LastEditorDisplayName</th>\n",
       "    </tr>\n",
       "  </thead>\n",
       "  <tbody>\n",
       "    <tr>\n",
       "      <th>0</th>\n",
       "      <td>67711</td>\n",
       "      <td>2</td>\n",
       "      <td>NaN</td>\n",
       "      <td>2013-08-19 02:31:14</td>\n",
       "      <td>3</td>\n",
       "      <td>NaN</td>\n",
       "      <td>&lt;p&gt;At least in OLS, flipping the direction ($x...</td>\n",
       "      <td>805.0</td>\n",
       "      <td>2013-08-19 10:17:50</td>\n",
       "      <td>NaN</td>\n",
       "      <td>...</td>\n",
       "      <td>NaN</td>\n",
       "      <td>0</td>\n",
       "      <td>NaN</td>\n",
       "      <td>805.0</td>\n",
       "      <td>2013-08-19 10:17:50</td>\n",
       "      <td>NaN</td>\n",
       "      <td>67709.0</td>\n",
       "      <td>NaN</td>\n",
       "      <td>NaN</td>\n",
       "      <td>NaN</td>\n",
       "    </tr>\n",
       "    <tr>\n",
       "      <th>1</th>\n",
       "      <td>92493</td>\n",
       "      <td>1</td>\n",
       "      <td>NaN</td>\n",
       "      <td>2014-04-04 05:35:59</td>\n",
       "      <td>2</td>\n",
       "      <td>18.0</td>\n",
       "      <td>&lt;p&gt;I have used a psychometric survey of 10 ite...</td>\n",
       "      <td>43085.0</td>\n",
       "      <td>2014-04-04 05:35:59</td>\n",
       "      <td>Multiple Regression - Extreme F-statistic and ...</td>\n",
       "      <td>...</td>\n",
       "      <td>0.0</td>\n",
       "      <td>1</td>\n",
       "      <td>NaN</td>\n",
       "      <td>NaN</td>\n",
       "      <td>NaN</td>\n",
       "      <td>NaN</td>\n",
       "      <td>NaN</td>\n",
       "      <td>NaN</td>\n",
       "      <td>NaN</td>\n",
       "      <td>NaN</td>\n",
       "    </tr>\n",
       "    <tr>\n",
       "      <th>2</th>\n",
       "      <td>86981</td>\n",
       "      <td>2</td>\n",
       "      <td>NaN</td>\n",
       "      <td>2014-02-18 08:39:04</td>\n",
       "      <td>1</td>\n",
       "      <td>NaN</td>\n",
       "      <td>&lt;p&gt;I think that this is due to familywise erro...</td>\n",
       "      <td>38450.0</td>\n",
       "      <td>2014-02-18 09:04:57</td>\n",
       "      <td>NaN</td>\n",
       "      <td>...</td>\n",
       "      <td>NaN</td>\n",
       "      <td>1</td>\n",
       "      <td>NaN</td>\n",
       "      <td>805.0</td>\n",
       "      <td>2014-02-18 09:04:57</td>\n",
       "      <td>NaN</td>\n",
       "      <td>86889.0</td>\n",
       "      <td>NaN</td>\n",
       "      <td>NaN</td>\n",
       "      <td>NaN</td>\n",
       "    </tr>\n",
       "    <tr>\n",
       "      <th>3</th>\n",
       "      <td>38717</td>\n",
       "      <td>2</td>\n",
       "      <td>NaN</td>\n",
       "      <td>2012-10-05 09:49:08</td>\n",
       "      <td>2</td>\n",
       "      <td>NaN</td>\n",
       "      <td>&lt;p&gt;There's a &lt;a href=\"http://www.ncbi.nlm.nih....</td>\n",
       "      <td>4598.0</td>\n",
       "      <td>2014-02-15 11:26:53</td>\n",
       "      <td>NaN</td>\n",
       "      <td>...</td>\n",
       "      <td>NaN</td>\n",
       "      <td>3</td>\n",
       "      <td>NaN</td>\n",
       "      <td>4598.0</td>\n",
       "      <td>2014-02-15 11:26:53</td>\n",
       "      <td>NaN</td>\n",
       "      <td>38541.0</td>\n",
       "      <td>NaN</td>\n",
       "      <td>NaN</td>\n",
       "      <td>NaN</td>\n",
       "    </tr>\n",
       "    <tr>\n",
       "      <th>4</th>\n",
       "      <td>113919</td>\n",
       "      <td>2</td>\n",
       "      <td>NaN</td>\n",
       "      <td>2014-09-01 01:41:05</td>\n",
       "      <td>3</td>\n",
       "      <td>NaN</td>\n",
       "      <td>&lt;p&gt;For that data, the estimated regression equ...</td>\n",
       "      <td>805.0</td>\n",
       "      <td>2014-09-01 20:09:53</td>\n",
       "      <td>NaN</td>\n",
       "      <td>...</td>\n",
       "      <td>NaN</td>\n",
       "      <td>1</td>\n",
       "      <td>NaN</td>\n",
       "      <td>805.0</td>\n",
       "      <td>2014-09-01 20:09:53</td>\n",
       "      <td>NaN</td>\n",
       "      <td>113871.0</td>\n",
       "      <td>NaN</td>\n",
       "      <td>NaN</td>\n",
       "      <td>NaN</td>\n",
       "    </tr>\n",
       "  </tbody>\n",
       "</table>\n",
       "<p>5 rows × 21 columns</p>\n",
       "</div>"
      ],
      "text/plain": [
       "   post_id  PostTypeId  AcceptedAnswerId          CreaionDate  Score  \\\n",
       "0    67711           2               NaN  2013-08-19 02:31:14      3   \n",
       "1    92493           1               NaN  2014-04-04 05:35:59      2   \n",
       "2    86981           2               NaN  2014-02-18 08:39:04      1   \n",
       "3    38717           2               NaN  2012-10-05 09:49:08      2   \n",
       "4   113919           2               NaN  2014-09-01 01:41:05      3   \n",
       "\n",
       "   ViewCount                                               Body  user_id  \\\n",
       "0        NaN  <p>At least in OLS, flipping the direction ($x...    805.0   \n",
       "1       18.0  <p>I have used a psychometric survey of 10 ite...  43085.0   \n",
       "2        NaN  <p>I think that this is due to familywise erro...  38450.0   \n",
       "3        NaN  <p>There's a <a href=\"http://www.ncbi.nlm.nih....   4598.0   \n",
       "4        NaN  <p>For that data, the estimated regression equ...    805.0   \n",
       "\n",
       "       LasActivityDate                                              Title  \\\n",
       "0  2013-08-19 10:17:50                                                NaN   \n",
       "1  2014-04-04 05:35:59  Multiple Regression - Extreme F-statistic and ...   \n",
       "2  2014-02-18 09:04:57                                                NaN   \n",
       "3  2014-02-15 11:26:53                                                NaN   \n",
       "4  2014-09-01 20:09:53                                                NaN   \n",
       "\n",
       "   ... AnswerCount  CommentCount  FavoriteCount  LastEditorUserId  \\\n",
       "0  ...         NaN             0            NaN             805.0   \n",
       "1  ...         0.0             1            NaN               NaN   \n",
       "2  ...         NaN             1            NaN             805.0   \n",
       "3  ...         NaN             3            NaN            4598.0   \n",
       "4  ...         NaN             1            NaN             805.0   \n",
       "\n",
       "          LastEditDate CommunityOwnedDate  ParentId  ClosedDate  \\\n",
       "0  2013-08-19 10:17:50                NaN   67709.0         NaN   \n",
       "1                  NaN                NaN       NaN         NaN   \n",
       "2  2014-02-18 09:04:57                NaN   86889.0         NaN   \n",
       "3  2014-02-15 11:26:53                NaN   38541.0         NaN   \n",
       "4  2014-09-01 20:09:53                NaN  113871.0         NaN   \n",
       "\n",
       "  OwnerDisplayName LastEditorDisplayName  \n",
       "0              NaN                   NaN  \n",
       "1              NaN                   NaN  \n",
       "2              NaN                   NaN  \n",
       "3              NaN                   NaN  \n",
       "4              NaN                   NaN  \n",
       "\n",
       "[5 rows x 21 columns]"
      ]
     },
     "execution_count": 9,
     "metadata": {},
     "output_type": "execute_result"
    }
   ],
   "source": [
    "# Your code here\n",
    "data_posts.head(5)"
   ]
  },
  {
   "cell_type": "code",
   "execution_count": 10,
   "metadata": {},
   "outputs": [
    {
     "data": {
      "text/plain": [
       "(8299, 21)"
      ]
     },
     "execution_count": 10,
     "metadata": {},
     "output_type": "execute_result"
    }
   ],
   "source": [
    "# shape\n",
    "data_posts.shape"
   ]
  },
  {
   "cell_type": "code",
   "execution_count": 11,
   "metadata": {},
   "outputs": [
    {
     "data": {
      "text/html": [
       "<div>\n",
       "<style scoped>\n",
       "    .dataframe tbody tr th:only-of-type {\n",
       "        vertical-align: middle;\n",
       "    }\n",
       "\n",
       "    .dataframe tbody tr th {\n",
       "        vertical-align: top;\n",
       "    }\n",
       "\n",
       "    .dataframe thead th {\n",
       "        text-align: right;\n",
       "    }\n",
       "</style>\n",
       "<table border=\"1\" class=\"dataframe\">\n",
       "  <thead>\n",
       "    <tr style=\"text-align: right;\">\n",
       "      <th></th>\n",
       "      <th>post_id</th>\n",
       "      <th>PostTypeId</th>\n",
       "      <th>AcceptedAnswerId</th>\n",
       "      <th>CreaionDate</th>\n",
       "      <th>Score</th>\n",
       "      <th>ViewCount</th>\n",
       "      <th>Body</th>\n",
       "      <th>user_id</th>\n",
       "      <th>LasActivityDate</th>\n",
       "      <th>Title</th>\n",
       "      <th>...</th>\n",
       "      <th>AnswerCount</th>\n",
       "      <th>CommentCount</th>\n",
       "      <th>FavoriteCount</th>\n",
       "      <th>LastEditorUserId</th>\n",
       "      <th>LastEditDate</th>\n",
       "      <th>CommunityOwnedDate</th>\n",
       "      <th>ParentId</th>\n",
       "      <th>ClosedDate</th>\n",
       "      <th>OwnerDisplayName</th>\n",
       "      <th>LastEditorDisplayName</th>\n",
       "    </tr>\n",
       "  </thead>\n",
       "  <tbody>\n",
       "    <tr>\n",
       "      <th>0</th>\n",
       "      <td>67711</td>\n",
       "      <td>2</td>\n",
       "      <td>NaN</td>\n",
       "      <td>2013-08-19 02:31:14</td>\n",
       "      <td>3</td>\n",
       "      <td>NaN</td>\n",
       "      <td>&lt;p&gt;At least in OLS, flipping the direction ($x...</td>\n",
       "      <td>805.0</td>\n",
       "      <td>2013-08-19 10:17:50</td>\n",
       "      <td>NaN</td>\n",
       "      <td>...</td>\n",
       "      <td>NaN</td>\n",
       "      <td>0</td>\n",
       "      <td>NaN</td>\n",
       "      <td>805.0</td>\n",
       "      <td>2013-08-19 10:17:50</td>\n",
       "      <td>NaN</td>\n",
       "      <td>67709.0</td>\n",
       "      <td>NaN</td>\n",
       "      <td>NaN</td>\n",
       "      <td>NaN</td>\n",
       "    </tr>\n",
       "    <tr>\n",
       "      <th>1</th>\n",
       "      <td>92493</td>\n",
       "      <td>1</td>\n",
       "      <td>NaN</td>\n",
       "      <td>2014-04-04 05:35:59</td>\n",
       "      <td>2</td>\n",
       "      <td>18.0</td>\n",
       "      <td>&lt;p&gt;I have used a psychometric survey of 10 ite...</td>\n",
       "      <td>43085.0</td>\n",
       "      <td>2014-04-04 05:35:59</td>\n",
       "      <td>Multiple Regression - Extreme F-statistic and ...</td>\n",
       "      <td>...</td>\n",
       "      <td>0.0</td>\n",
       "      <td>1</td>\n",
       "      <td>NaN</td>\n",
       "      <td>NaN</td>\n",
       "      <td>NaN</td>\n",
       "      <td>NaN</td>\n",
       "      <td>NaN</td>\n",
       "      <td>NaN</td>\n",
       "      <td>NaN</td>\n",
       "      <td>NaN</td>\n",
       "    </tr>\n",
       "    <tr>\n",
       "      <th>2</th>\n",
       "      <td>86981</td>\n",
       "      <td>2</td>\n",
       "      <td>NaN</td>\n",
       "      <td>2014-02-18 08:39:04</td>\n",
       "      <td>1</td>\n",
       "      <td>NaN</td>\n",
       "      <td>&lt;p&gt;I think that this is due to familywise erro...</td>\n",
       "      <td>38450.0</td>\n",
       "      <td>2014-02-18 09:04:57</td>\n",
       "      <td>NaN</td>\n",
       "      <td>...</td>\n",
       "      <td>NaN</td>\n",
       "      <td>1</td>\n",
       "      <td>NaN</td>\n",
       "      <td>805.0</td>\n",
       "      <td>2014-02-18 09:04:57</td>\n",
       "      <td>NaN</td>\n",
       "      <td>86889.0</td>\n",
       "      <td>NaN</td>\n",
       "      <td>NaN</td>\n",
       "      <td>NaN</td>\n",
       "    </tr>\n",
       "    <tr>\n",
       "      <th>3</th>\n",
       "      <td>38717</td>\n",
       "      <td>2</td>\n",
       "      <td>NaN</td>\n",
       "      <td>2012-10-05 09:49:08</td>\n",
       "      <td>2</td>\n",
       "      <td>NaN</td>\n",
       "      <td>&lt;p&gt;There's a &lt;a href=\"http://www.ncbi.nlm.nih....</td>\n",
       "      <td>4598.0</td>\n",
       "      <td>2014-02-15 11:26:53</td>\n",
       "      <td>NaN</td>\n",
       "      <td>...</td>\n",
       "      <td>NaN</td>\n",
       "      <td>3</td>\n",
       "      <td>NaN</td>\n",
       "      <td>4598.0</td>\n",
       "      <td>2014-02-15 11:26:53</td>\n",
       "      <td>NaN</td>\n",
       "      <td>38541.0</td>\n",
       "      <td>NaN</td>\n",
       "      <td>NaN</td>\n",
       "      <td>NaN</td>\n",
       "    </tr>\n",
       "    <tr>\n",
       "      <th>4</th>\n",
       "      <td>113919</td>\n",
       "      <td>2</td>\n",
       "      <td>NaN</td>\n",
       "      <td>2014-09-01 01:41:05</td>\n",
       "      <td>3</td>\n",
       "      <td>NaN</td>\n",
       "      <td>&lt;p&gt;For that data, the estimated regression equ...</td>\n",
       "      <td>805.0</td>\n",
       "      <td>2014-09-01 20:09:53</td>\n",
       "      <td>NaN</td>\n",
       "      <td>...</td>\n",
       "      <td>NaN</td>\n",
       "      <td>1</td>\n",
       "      <td>NaN</td>\n",
       "      <td>805.0</td>\n",
       "      <td>2014-09-01 20:09:53</td>\n",
       "      <td>NaN</td>\n",
       "      <td>113871.0</td>\n",
       "      <td>NaN</td>\n",
       "      <td>NaN</td>\n",
       "      <td>NaN</td>\n",
       "    </tr>\n",
       "  </tbody>\n",
       "</table>\n",
       "<p>5 rows × 21 columns</p>\n",
       "</div>"
      ],
      "text/plain": [
       "   post_id  PostTypeId  AcceptedAnswerId          CreaionDate  Score  \\\n",
       "0    67711           2               NaN  2013-08-19 02:31:14      3   \n",
       "1    92493           1               NaN  2014-04-04 05:35:59      2   \n",
       "2    86981           2               NaN  2014-02-18 08:39:04      1   \n",
       "3    38717           2               NaN  2012-10-05 09:49:08      2   \n",
       "4   113919           2               NaN  2014-09-01 01:41:05      3   \n",
       "\n",
       "   ViewCount                                               Body  user_id  \\\n",
       "0        NaN  <p>At least in OLS, flipping the direction ($x...    805.0   \n",
       "1       18.0  <p>I have used a psychometric survey of 10 ite...  43085.0   \n",
       "2        NaN  <p>I think that this is due to familywise erro...  38450.0   \n",
       "3        NaN  <p>There's a <a href=\"http://www.ncbi.nlm.nih....   4598.0   \n",
       "4        NaN  <p>For that data, the estimated regression equ...    805.0   \n",
       "\n",
       "       LasActivityDate                                              Title  \\\n",
       "0  2013-08-19 10:17:50                                                NaN   \n",
       "1  2014-04-04 05:35:59  Multiple Regression - Extreme F-statistic and ...   \n",
       "2  2014-02-18 09:04:57                                                NaN   \n",
       "3  2014-02-15 11:26:53                                                NaN   \n",
       "4  2014-09-01 20:09:53                                                NaN   \n",
       "\n",
       "   ... AnswerCount  CommentCount  FavoriteCount  LastEditorUserId  \\\n",
       "0  ...         NaN             0            NaN             805.0   \n",
       "1  ...         0.0             1            NaN               NaN   \n",
       "2  ...         NaN             1            NaN             805.0   \n",
       "3  ...         NaN             3            NaN            4598.0   \n",
       "4  ...         NaN             1            NaN             805.0   \n",
       "\n",
       "          LastEditDate CommunityOwnedDate  ParentId  ClosedDate  \\\n",
       "0  2013-08-19 10:17:50                NaN   67709.0         NaN   \n",
       "1                  NaN                NaN       NaN         NaN   \n",
       "2  2014-02-18 09:04:57                NaN   86889.0         NaN   \n",
       "3  2014-02-15 11:26:53                NaN   38541.0         NaN   \n",
       "4  2014-09-01 20:09:53                NaN  113871.0         NaN   \n",
       "\n",
       "  OwnerDisplayName LastEditorDisplayName  \n",
       "0              NaN                   NaN  \n",
       "1              NaN                   NaN  \n",
       "2              NaN                   NaN  \n",
       "3              NaN                   NaN  \n",
       "4              NaN                   NaN  \n",
       "\n",
       "[5 rows x 21 columns]"
      ]
     },
     "execution_count": 11,
     "metadata": {},
     "output_type": "execute_result"
    }
   ],
   "source": [
    "# head\n",
    "data_posts.head()"
   ]
  },
  {
   "cell_type": "code",
   "execution_count": 12,
   "metadata": {},
   "outputs": [
    {
     "ename": "SyntaxError",
     "evalue": "invalid syntax (<ipython-input-12-5bc492d709db>, line 2)",
     "output_type": "error",
     "traceback": [
      "\u001b[1;36m  File \u001b[1;32m\"<ipython-input-12-5bc492d709db>\"\u001b[1;36m, line \u001b[1;32m2\u001b[0m\n\u001b[1;33m    .info()\u001b[0m\n\u001b[1;37m    ^\u001b[0m\n\u001b[1;31mSyntaxError\u001b[0m\u001b[1;31m:\u001b[0m invalid syntax\n"
     ]
    }
   ],
   "source": [
    "# info\n",
    ".info()"
   ]
  },
  {
   "cell_type": "markdown",
   "metadata": {
    "colab_type": "text",
    "id": "mlUuQ7CxZD49"
   },
   "source": [
    "## Rename Id column to post_id and OwnerUserId to user_id.\n",
    "\n",
    "Again, remember to check that your results are correctly stored inside the dataframe."
   ]
  },
  {
   "cell_type": "code",
   "execution_count": 13,
   "metadata": {},
   "outputs": [
    {
     "data": {
      "text/plain": [
       "Index(['post_id', 'PostTypeId', 'AcceptedAnswerId', 'CreaionDate', 'Score',\n",
       "       'ViewCount', 'Body', 'user_id', 'LasActivityDate', 'Title', 'Tags',\n",
       "       'AnswerCount', 'CommentCount', 'FavoriteCount', 'LastEditorUserId',\n",
       "       'LastEditDate', 'CommunityOwnedDate', 'ParentId', 'ClosedDate',\n",
       "       'OwnerDisplayName', 'LastEditorDisplayName'],\n",
       "      dtype='object')"
      ]
     },
     "execution_count": 13,
     "metadata": {},
     "output_type": "execute_result"
    }
   ],
   "source": [
    "# Your code here\n",
    "data_posts = data_posts.rename({'Id': 'post_id', 'OwnerUserId' : 'user_id' }, axis = 1)\n",
    "data_posts.columns"
   ]
  },
  {
   "cell_type": "markdown",
   "metadata": {
    "colab_type": "text",
    "id": "9YyLIe4sZD5D"
   },
   "source": [
    "## Define new dataframes for users and posts with the following selected columns:\n",
    "**users columns**: user_id, Reputation, Views, UpVotes, DownVotes  \n",
    "**posts columns**: post_id, Score, user_id, ViewCount, CommentCount, Body"
   ]
  },
  {
   "cell_type": "code",
   "execution_count": 14,
   "metadata": {},
   "outputs": [],
   "source": [
    "# Your code here\n",
    "df_user = data_users[['user_id', 'Reputation', 'Views', 'UpVotes', 'DownVotes']]\n",
    "df_post = data_posts[['post_id', 'Score', 'user_id', 'ViewCount', 'CommentCount', 'Body']]"
   ]
  },
  {
   "cell_type": "markdown",
   "metadata": {
    "colab_type": "text",
    "id": "73DgDQfOZD5K"
   },
   "source": [
    "## Merge the new dataframes you have created\n",
    "- Create dataframe called `posts_from_users` merging users and posts.\n",
    "- You will need to make an inner [merge](https://pandas.pydata.org/pandas-docs/stable/generated/pandas.DataFrame.merge.html) of posts and users dataframes. \n",
    "- Think carefully which should be the key(s) for your merging."
   ]
  },
  {
   "cell_type": "code",
   "execution_count": 15,
   "metadata": {},
   "outputs": [
    {
     "name": "stdout",
     "output_type": "stream",
     "text": [
      "<class 'pandas.core.frame.DataFrame'>\n",
      "Int64Index: 8522 entries, 0 to 8521\n",
      "Data columns (total 10 columns):\n",
      " #   Column        Non-Null Count  Dtype  \n",
      "---  ------        --------------  -----  \n",
      " 0   user_id       8522 non-null   int64  \n",
      " 1   Reputation    8522 non-null   int64  \n",
      " 2   Views         8522 non-null   int64  \n",
      " 3   UpVotes       8522 non-null   int64  \n",
      " 4   DownVotes     8522 non-null   int64  \n",
      " 5   post_id       8522 non-null   int64  \n",
      " 6   Score         8522 non-null   int64  \n",
      " 7   ViewCount     4072 non-null   float64\n",
      " 8   CommentCount  8522 non-null   int64  \n",
      " 9   Body          8507 non-null   object \n",
      "dtypes: float64(1), int64(8), object(1)\n",
      "memory usage: 732.4+ KB\n"
     ]
    },
    {
     "data": {
      "text/html": [
       "<div>\n",
       "<style scoped>\n",
       "    .dataframe tbody tr th:only-of-type {\n",
       "        vertical-align: middle;\n",
       "    }\n",
       "\n",
       "    .dataframe tbody tr th {\n",
       "        vertical-align: top;\n",
       "    }\n",
       "\n",
       "    .dataframe thead th {\n",
       "        text-align: right;\n",
       "    }\n",
       "</style>\n",
       "<table border=\"1\" class=\"dataframe\">\n",
       "  <thead>\n",
       "    <tr style=\"text-align: right;\">\n",
       "      <th></th>\n",
       "      <th>user_id</th>\n",
       "      <th>Reputation</th>\n",
       "      <th>Views</th>\n",
       "      <th>UpVotes</th>\n",
       "      <th>DownVotes</th>\n",
       "      <th>post_id</th>\n",
       "      <th>Score</th>\n",
       "      <th>ViewCount</th>\n",
       "      <th>CommentCount</th>\n",
       "      <th>Body</th>\n",
       "    </tr>\n",
       "  </thead>\n",
       "  <tbody>\n",
       "    <tr>\n",
       "      <th>0</th>\n",
       "      <td>-1</td>\n",
       "      <td>1</td>\n",
       "      <td>0</td>\n",
       "      <td>5007</td>\n",
       "      <td>1920</td>\n",
       "      <td>10131</td>\n",
       "      <td>0</td>\n",
       "      <td>NaN</td>\n",
       "      <td>0</td>\n",
       "      <td>NaN</td>\n",
       "    </tr>\n",
       "    <tr>\n",
       "      <th>1</th>\n",
       "      <td>-1</td>\n",
       "      <td>1</td>\n",
       "      <td>0</td>\n",
       "      <td>5007</td>\n",
       "      <td>1920</td>\n",
       "      <td>16366</td>\n",
       "      <td>0</td>\n",
       "      <td>NaN</td>\n",
       "      <td>0</td>\n",
       "      <td>NaN</td>\n",
       "    </tr>\n",
       "    <tr>\n",
       "      <th>2</th>\n",
       "      <td>-1</td>\n",
       "      <td>1</td>\n",
       "      <td>0</td>\n",
       "      <td>5007</td>\n",
       "      <td>1920</td>\n",
       "      <td>40689</td>\n",
       "      <td>0</td>\n",
       "      <td>NaN</td>\n",
       "      <td>0</td>\n",
       "      <td>NaN</td>\n",
       "    </tr>\n",
       "    <tr>\n",
       "      <th>3</th>\n",
       "      <td>-1</td>\n",
       "      <td>1</td>\n",
       "      <td>0</td>\n",
       "      <td>5007</td>\n",
       "      <td>1920</td>\n",
       "      <td>28333</td>\n",
       "      <td>0</td>\n",
       "      <td>NaN</td>\n",
       "      <td>0</td>\n",
       "      <td>NaN</td>\n",
       "    </tr>\n",
       "    <tr>\n",
       "      <th>4</th>\n",
       "      <td>-1</td>\n",
       "      <td>1</td>\n",
       "      <td>0</td>\n",
       "      <td>5007</td>\n",
       "      <td>1920</td>\n",
       "      <td>32803</td>\n",
       "      <td>0</td>\n",
       "      <td>NaN</td>\n",
       "      <td>0</td>\n",
       "      <td>NaN</td>\n",
       "    </tr>\n",
       "  </tbody>\n",
       "</table>\n",
       "</div>"
      ],
      "text/plain": [
       "   user_id  Reputation  Views  UpVotes  DownVotes  post_id  Score  ViewCount  \\\n",
       "0       -1           1      0     5007       1920    10131      0        NaN   \n",
       "1       -1           1      0     5007       1920    16366      0        NaN   \n",
       "2       -1           1      0     5007       1920    40689      0        NaN   \n",
       "3       -1           1      0     5007       1920    28333      0        NaN   \n",
       "4       -1           1      0     5007       1920    32803      0        NaN   \n",
       "\n",
       "   CommentCount Body  \n",
       "0             0  NaN  \n",
       "1             0  NaN  \n",
       "2             0  NaN  \n",
       "3             0  NaN  \n",
       "4             0  NaN  "
      ]
     },
     "execution_count": 15,
     "metadata": {},
     "output_type": "execute_result"
    }
   ],
   "source": [
    "# Your code here\n",
    "posts_from_users = df_user.merge(df_post, on='user_id')\n",
    "posts_from_users.info()\n",
    "posts_from_users.head()"
   ]
  },
  {
   "cell_type": "markdown",
   "metadata": {
    "colab_type": "text",
    "id": "hY51jNIBZD5P"
   },
   "source": [
    "## Check the number of duplicated rows.\n",
    "\n",
    "Remember you can sum the results of a mask to get how many numbers the True value appeared in the results. This occurs because `True` is interpreted as `1` in Python whereas `False` is interpreted as `0`."
   ]
  },
  {
   "cell_type": "code",
   "execution_count": 16,
   "metadata": {},
   "outputs": [
    {
     "data": {
      "text/plain": [
       "351"
      ]
     },
     "execution_count": 16,
     "metadata": {},
     "output_type": "execute_result"
    }
   ],
   "source": [
    "# Your code here\n",
    "posts_from_users.duplicated().sum()"
   ]
  },
  {
   "cell_type": "markdown",
   "metadata": {
    "colab_type": "text",
    "id": "w3de3Sz-ZD5T"
   },
   "source": [
    "## Find those duplicate values and try to understand what happened.\n",
    "\n",
    "Hints:   \n",
    "- You can use the argument `keep=False` from the `.duplicated()` method to bring the duplication.\n",
    "- You can sort the values `by=['user_id', 'post_id']` to see them in order.  \n"
   ]
  },
  {
   "cell_type": "code",
   "execution_count": 37,
   "metadata": {},
   "outputs": [
    {
     "data": {
      "text/html": [
       "<div>\n",
       "<style scoped>\n",
       "    .dataframe tbody tr th:only-of-type {\n",
       "        vertical-align: middle;\n",
       "    }\n",
       "\n",
       "    .dataframe tbody tr th {\n",
       "        vertical-align: top;\n",
       "    }\n",
       "\n",
       "    .dataframe thead th {\n",
       "        text-align: right;\n",
       "    }\n",
       "</style>\n",
       "<table border=\"1\" class=\"dataframe\">\n",
       "  <thead>\n",
       "    <tr style=\"text-align: right;\">\n",
       "      <th></th>\n",
       "      <th>user_id</th>\n",
       "      <th>Reputation</th>\n",
       "      <th>Views</th>\n",
       "      <th>UpVotes</th>\n",
       "      <th>DownVotes</th>\n",
       "      <th>post_id</th>\n",
       "      <th>Score</th>\n",
       "      <th>ViewCount</th>\n",
       "      <th>CommentCount</th>\n",
       "      <th>Body</th>\n",
       "    </tr>\n",
       "  </thead>\n",
       "  <tbody>\n",
       "    <tr>\n",
       "      <th>735</th>\n",
       "      <td>760</td>\n",
       "      <td>168</td>\n",
       "      <td>13</td>\n",
       "      <td>13</td>\n",
       "      <td>0</td>\n",
       "      <td>1289</td>\n",
       "      <td>7</td>\n",
       "      <td>1139.0</td>\n",
       "      <td>8</td>\n",
       "      <td>&lt;p&gt;I am having difficulties to select the righ...</td>\n",
       "    </tr>\n",
       "    <tr>\n",
       "      <th>739</th>\n",
       "      <td>760</td>\n",
       "      <td>168</td>\n",
       "      <td>13</td>\n",
       "      <td>13</td>\n",
       "      <td>0</td>\n",
       "      <td>1289</td>\n",
       "      <td>7</td>\n",
       "      <td>1139.0</td>\n",
       "      <td>8</td>\n",
       "      <td>&lt;p&gt;I am having difficulties to select the righ...</td>\n",
       "    </tr>\n",
       "    <tr>\n",
       "      <th>734</th>\n",
       "      <td>760</td>\n",
       "      <td>168</td>\n",
       "      <td>13</td>\n",
       "      <td>13</td>\n",
       "      <td>0</td>\n",
       "      <td>8625</td>\n",
       "      <td>6</td>\n",
       "      <td>1799.0</td>\n",
       "      <td>3</td>\n",
       "      <td>&lt;p&gt;I was fiddling with PCA and LDA methods and...</td>\n",
       "    </tr>\n",
       "    <tr>\n",
       "      <th>736</th>\n",
       "      <td>760</td>\n",
       "      <td>168</td>\n",
       "      <td>13</td>\n",
       "      <td>13</td>\n",
       "      <td>0</td>\n",
       "      <td>8625</td>\n",
       "      <td>6</td>\n",
       "      <td>1799.0</td>\n",
       "      <td>3</td>\n",
       "      <td>&lt;p&gt;I was fiddling with PCA and LDA methods and...</td>\n",
       "    </tr>\n",
       "    <tr>\n",
       "      <th>738</th>\n",
       "      <td>760</td>\n",
       "      <td>168</td>\n",
       "      <td>13</td>\n",
       "      <td>13</td>\n",
       "      <td>0</td>\n",
       "      <td>8625</td>\n",
       "      <td>6</td>\n",
       "      <td>1799.0</td>\n",
       "      <td>3</td>\n",
       "      <td>&lt;p&gt;I was fiddling with PCA and LDA methods and...</td>\n",
       "    </tr>\n",
       "    <tr>\n",
       "      <th>...</th>\n",
       "      <td>...</td>\n",
       "      <td>...</td>\n",
       "      <td>...</td>\n",
       "      <td>...</td>\n",
       "      <td>...</td>\n",
       "      <td>...</td>\n",
       "      <td>...</td>\n",
       "      <td>...</td>\n",
       "      <td>...</td>\n",
       "      <td>...</td>\n",
       "    </tr>\n",
       "    <tr>\n",
       "      <th>8475</th>\n",
       "      <td>54711</td>\n",
       "      <td>4</td>\n",
       "      <td>18</td>\n",
       "      <td>0</td>\n",
       "      <td>0</td>\n",
       "      <td>114527</td>\n",
       "      <td>0</td>\n",
       "      <td>45.0</td>\n",
       "      <td>5</td>\n",
       "      <td>&lt;p&gt;From Shapiro-Wilk's test I see that the res...</td>\n",
       "    </tr>\n",
       "    <tr>\n",
       "      <th>8477</th>\n",
       "      <td>54741</td>\n",
       "      <td>16</td>\n",
       "      <td>1</td>\n",
       "      <td>0</td>\n",
       "      <td>0</td>\n",
       "      <td>113334</td>\n",
       "      <td>3</td>\n",
       "      <td>122.0</td>\n",
       "      <td>9</td>\n",
       "      <td>&lt;p&gt;I am confused on what I have read about the...</td>\n",
       "    </tr>\n",
       "    <tr>\n",
       "      <th>8478</th>\n",
       "      <td>54741</td>\n",
       "      <td>16</td>\n",
       "      <td>1</td>\n",
       "      <td>0</td>\n",
       "      <td>0</td>\n",
       "      <td>113334</td>\n",
       "      <td>3</td>\n",
       "      <td>122.0</td>\n",
       "      <td>9</td>\n",
       "      <td>&lt;p&gt;I am confused on what I have read about the...</td>\n",
       "    </tr>\n",
       "    <tr>\n",
       "      <th>8486</th>\n",
       "      <td>54911</td>\n",
       "      <td>1</td>\n",
       "      <td>1</td>\n",
       "      <td>0</td>\n",
       "      <td>0</td>\n",
       "      <td>113691</td>\n",
       "      <td>0</td>\n",
       "      <td>36.0</td>\n",
       "      <td>11</td>\n",
       "      <td>&lt;p&gt;I extract data related to a movie by sentim...</td>\n",
       "    </tr>\n",
       "    <tr>\n",
       "      <th>8487</th>\n",
       "      <td>54911</td>\n",
       "      <td>1</td>\n",
       "      <td>1</td>\n",
       "      <td>0</td>\n",
       "      <td>0</td>\n",
       "      <td>113691</td>\n",
       "      <td>0</td>\n",
       "      <td>36.0</td>\n",
       "      <td>11</td>\n",
       "      <td>&lt;p&gt;I extract data related to a movie by sentim...</td>\n",
       "    </tr>\n",
       "  </tbody>\n",
       "</table>\n",
       "<p>650 rows × 10 columns</p>\n",
       "</div>"
      ],
      "text/plain": [
       "      user_id  Reputation  Views  UpVotes  DownVotes  post_id  Score  \\\n",
       "735       760         168     13       13          0     1289      7   \n",
       "739       760         168     13       13          0     1289      7   \n",
       "734       760         168     13       13          0     8625      6   \n",
       "736       760         168     13       13          0     8625      6   \n",
       "738       760         168     13       13          0     8625      6   \n",
       "...       ...         ...    ...      ...        ...      ...    ...   \n",
       "8475    54711           4     18        0          0   114527      0   \n",
       "8477    54741          16      1        0          0   113334      3   \n",
       "8478    54741          16      1        0          0   113334      3   \n",
       "8486    54911           1      1        0          0   113691      0   \n",
       "8487    54911           1      1        0          0   113691      0   \n",
       "\n",
       "      ViewCount  CommentCount  \\\n",
       "735      1139.0             8   \n",
       "739      1139.0             8   \n",
       "734      1799.0             3   \n",
       "736      1799.0             3   \n",
       "738      1799.0             3   \n",
       "...         ...           ...   \n",
       "8475       45.0             5   \n",
       "8477      122.0             9   \n",
       "8478      122.0             9   \n",
       "8486       36.0            11   \n",
       "8487       36.0            11   \n",
       "\n",
       "                                                   Body  \n",
       "735   <p>I am having difficulties to select the righ...  \n",
       "739   <p>I am having difficulties to select the righ...  \n",
       "734   <p>I was fiddling with PCA and LDA methods and...  \n",
       "736   <p>I was fiddling with PCA and LDA methods and...  \n",
       "738   <p>I was fiddling with PCA and LDA methods and...  \n",
       "...                                                 ...  \n",
       "8475  <p>From Shapiro-Wilk's test I see that the res...  \n",
       "8477  <p>I am confused on what I have read about the...  \n",
       "8478  <p>I am confused on what I have read about the...  \n",
       "8486  <p>I extract data related to a movie by sentim...  \n",
       "8487  <p>I extract data related to a movie by sentim...  \n",
       "\n",
       "[650 rows x 10 columns]"
      ]
     },
     "execution_count": 37,
     "metadata": {},
     "output_type": "execute_result"
    }
   ],
   "source": [
    "# Your code here\n",
    "posts_from_users[posts_from_users.duplicated(keep=False)].sort_values(by=['user_id','post_id'])"
   ]
  },
  {
   "cell_type": "markdown",
   "metadata": {
    "colab_type": "text",
    "id": "gjdZ0DI-ZD5Y"
   },
   "source": [
    "## Should you drop it? \n",
    "If you think it is reasonable to drop it, then drop it. Think how would you correct it in the first place? That is, what was wrong in the first place?  \n",
    "*Hint: There's a pandas method to drop duplicates. If you wanted to do it by hand, you could select the indexes of the duplicated values and `.drop()` it.*"
   ]
  },
  {
   "cell_type": "code",
   "execution_count": null,
   "metadata": {},
   "outputs": [],
   "source": [
    "# Your code here\n",
    "duplicados = "
   ]
  },
  {
   "cell_type": "markdown",
   "metadata": {
    "colab_type": "text",
    "id": "11ZlVVrXZD5l"
   },
   "source": [
    "## 10. How many missing values do you have in your merged dataframe? On which columns?"
   ]
  },
  {
   "cell_type": "code",
   "execution_count": 40,
   "metadata": {},
   "outputs": [
    {
     "data": {
      "text/plain": [
       "user_id            0\n",
       "Reputation         0\n",
       "Views              0\n",
       "UpVotes            0\n",
       "DownVotes          0\n",
       "post_id            0\n",
       "Score              0\n",
       "ViewCount       4450\n",
       "CommentCount       0\n",
       "Body              15\n",
       "dtype: int64"
      ]
     },
     "execution_count": 40,
     "metadata": {},
     "output_type": "execute_result"
    }
   ],
   "source": [
    "# Your code here\n",
    "posts_from_users.isnull().sum()"
   ]
  },
  {
   "cell_type": "markdown",
   "metadata": {
    "colab_type": "text",
    "id": "SdApjJ60ZD5s"
   },
   "source": [
    "## Select only the rows in which there at least some missing values."
   ]
  },
  {
   "cell_type": "code",
   "execution_count": null,
   "metadata": {},
   "outputs": [],
   "source": [
    "# Your code here\n"
   ]
  },
  {
   "cell_type": "markdown",
   "metadata": {
    "colab_type": "text",
    "id": "_FazwWY5ZD5x"
   },
   "source": [
    "## You will need to make something with missing values.  Will you clean or filling them? \n",
    "\n",
    "Pay attention. There can be different reasons for the missings numbers. Look at the `user_id` of some of them, look at the body of the message. Which ones you're sure of what should be and which one can you infer? Don't hurry up, take a look at your data."
   ]
  },
  {
   "cell_type": "code",
   "execution_count": null,
   "metadata": {},
   "outputs": [],
   "source": [
    "# Your code here"
   ]
  },
  {
   "cell_type": "markdown",
   "metadata": {},
   "source": [
    "## Reset the index"
   ]
  },
  {
   "cell_type": "code",
   "execution_count": null,
   "metadata": {},
   "outputs": [],
   "source": [
    "# Your code here"
   ]
  },
  {
   "cell_type": "markdown",
   "metadata": {
    "colab_type": "text",
    "id": "ML9wY9ngZD53"
   },
   "source": [
    "## Adjust the data types in order to avoid future issues. Which ones should be changed? "
   ]
  },
  {
   "cell_type": "code",
   "execution_count": null,
   "metadata": {},
   "outputs": [],
   "source": [
    "# Your code here"
   ]
  },
  {
   "cell_type": "markdown",
   "metadata": {
    "colab_type": "text",
    "id": "TGypCNS7ZD58"
   },
   "source": [
    "# Bonus (filtering) \n",
    "What is the average number of comments for users who are above the average reputation?  \n",
    "*Hint: Calculate the average of the user Reputation. Store it in a variable called `avg_reputation` and then use that variable for filtering the dataset and generating the results for each case (for the case in which `Reputation > avg_reputation`*"
   ]
  },
  {
   "cell_type": "code",
   "execution_count": null,
   "metadata": {},
   "outputs": [],
   "source": [
    "# Your code here"
   ]
  }
 ],
 "metadata": {
  "colab": {
   "collapsed_sections": [],
   "name": "data-cleaning-lab.ipynb",
   "provenance": []
  },
  "kernelspec": {
   "display_name": "Python 3",
   "language": "python",
   "name": "python3"
  },
  "language_info": {
   "codemirror_mode": {
    "name": "ipython",
    "version": 3
   },
   "file_extension": ".py",
   "mimetype": "text/x-python",
   "name": "python",
   "nbconvert_exporter": "python",
   "pygments_lexer": "ipython3",
   "version": "3.8.8"
  },
  "toc": {
   "base_numbering": 1,
   "nav_menu": {},
   "number_sections": true,
   "sideBar": true,
   "skip_h1_title": false,
   "title_cell": "Table of Contents",
   "title_sidebar": "Contents",
   "toc_cell": false,
   "toc_position": {},
   "toc_section_display": true,
   "toc_window_display": false
  },
  "varInspector": {
   "cols": {
    "lenName": 16,
    "lenType": 16,
    "lenVar": 40
   },
   "kernels_config": {
    "python": {
     "delete_cmd_postfix": "",
     "delete_cmd_prefix": "del ",
     "library": "var_list.py",
     "varRefreshCmd": "print(var_dic_list())"
    },
    "r": {
     "delete_cmd_postfix": ") ",
     "delete_cmd_prefix": "rm(",
     "library": "var_list.r",
     "varRefreshCmd": "cat(var_dic_list()) "
    }
   },
   "types_to_exclude": [
    "module",
    "function",
    "builtin_function_or_method",
    "instance",
    "_Feature"
   ],
   "window_display": false
  }
 },
 "nbformat": 4,
 "nbformat_minor": 1
}
